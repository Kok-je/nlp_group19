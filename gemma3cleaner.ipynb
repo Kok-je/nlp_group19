{
 "cells": [
  {
   "metadata": {
    "ExecuteTime": {
     "end_time": "2025-04-07T05:20:56.195846Z",
     "start_time": "2025-04-07T05:20:55.470965Z"
    }
   },
   "cell_type": "code",
   "source": "import pandas as pd",
   "id": "99718359de8c496f",
   "outputs": [],
   "execution_count": 1
  },
  {
   "metadata": {
    "ExecuteTime": {
     "end_time": "2025-04-07T05:20:56.743890Z",
     "start_time": "2025-04-07T05:20:56.737078Z"
    }
   },
   "cell_type": "code",
   "source": "data = pd.read_csv(\"results/student_models/Gemma/Gemma-1b/output.csv\")",
   "id": "ef9b9ecedf602d0e",
   "outputs": [],
   "execution_count": 2
  },
  {
   "metadata": {
    "ExecuteTime": {
     "end_time": "2025-04-07T05:20:57.715118Z",
     "start_time": "2025-04-07T05:20:57.708795Z"
    }
   },
   "cell_type": "code",
   "source": "data[\"model_classification\"].value_counts()",
   "id": "5d7fcd707f43545b",
   "outputs": [
    {
     "data": {
      "text/plain": [
       "model_classification\n",
       "result        1246\n",
       "method         328\n",
       "background     279\n",
       "Method           4\n",
       "METHOD           2\n",
       "METHODs          1\n",
       "Methods          1\n",
       "Name: count, dtype: int64"
      ]
     },
     "execution_count": 3,
     "metadata": {},
     "output_type": "execute_result"
    }
   ],
   "execution_count": 3
  },
  {
   "metadata": {
    "ExecuteTime": {
     "end_time": "2025-04-07T05:21:01.162899Z",
     "start_time": "2025-04-07T05:21:01.160415Z"
    }
   },
   "cell_type": "code",
   "source": "data[\"model_classification\"] = data[\"model_classification\"].apply(lambda x: x.lower())",
   "id": "ad100bfb14b2dc5f",
   "outputs": [],
   "execution_count": 4
  },
  {
   "metadata": {
    "ExecuteTime": {
     "end_time": "2025-04-07T05:21:02.368959Z",
     "start_time": "2025-04-07T05:21:02.365776Z"
    }
   },
   "cell_type": "code",
   "source": "data[\"model_classification\"].value_counts()",
   "id": "db06591d66aea1d2",
   "outputs": [
    {
     "data": {
      "text/plain": [
       "model_classification\n",
       "result        1246\n",
       "method         334\n",
       "background     279\n",
       "methods          2\n",
       "Name: count, dtype: int64"
      ]
     },
     "execution_count": 5,
     "metadata": {},
     "output_type": "execute_result"
    }
   ],
   "execution_count": 5
  },
  {
   "metadata": {},
   "cell_type": "code",
   "outputs": [],
   "execution_count": null,
   "source": "data[\"model_classification\"] = data[\"model_classification\"].apply(lambda x: x.strip())",
   "id": "6171423942a9634c"
  },
  {
   "metadata": {},
   "cell_type": "code",
   "outputs": [],
   "execution_count": null,
   "source": "data[\"model_classification\"].value_counts()",
   "id": "49b0ec0d007bc852"
  },
  {
   "metadata": {
    "ExecuteTime": {
     "end_time": "2025-04-07T05:21:14.629668Z",
     "start_time": "2025-04-07T05:21:14.627019Z"
    }
   },
   "cell_type": "code",
   "source": "data[\"model_classification\"] = data[\"model_classification\"].apply(lambda x: x[:-1] if x[-1] == \"s\" else x)",
   "id": "1e08170a4d2994da",
   "outputs": [],
   "execution_count": 6
  },
  {
   "metadata": {
    "ExecuteTime": {
     "end_time": "2025-04-07T05:21:15.763829Z",
     "start_time": "2025-04-07T05:21:15.760295Z"
    }
   },
   "cell_type": "code",
   "source": "data[\"model_classification\"].value_counts()",
   "id": "8d67032cf7e9e9a7",
   "outputs": [
    {
     "data": {
      "text/plain": [
       "model_classification\n",
       "result        1246\n",
       "method         336\n",
       "background     279\n",
       "Name: count, dtype: int64"
      ]
     },
     "execution_count": 7,
     "metadata": {},
     "output_type": "execute_result"
    }
   ],
   "execution_count": 7
  },
  {
   "metadata": {},
   "cell_type": "code",
   "outputs": [],
   "execution_count": null,
   "source": "data[\"model_classification\"] = data[\"model_classification\"].apply(lambda x: \"method\" if \"method\" in x else x)",
   "id": "fdfa81ae793a58aa"
  },
  {
   "metadata": {},
   "cell_type": "code",
   "outputs": [],
   "execution_count": null,
   "source": "data[\"model_classification\"].value_counts()",
   "id": "cf3f4a72e99b131a"
  },
  {
   "metadata": {
    "ExecuteTime": {
     "end_time": "2025-04-05T14:02:38.836233Z",
     "start_time": "2025-04-05T14:02:38.833317Z"
    }
   },
   "cell_type": "code",
   "source": "data[\"model_classification\"] = data[\"model_classification\"].apply(lambda x: \"background\" if x not in [\"method\",\"background\",\"result\"] else x)",
   "id": "3d5513d4d57e8ca1",
   "outputs": [],
   "execution_count": 5
  },
  {
   "metadata": {
    "ExecuteTime": {
     "end_time": "2025-04-05T14:02:40.112589Z",
     "start_time": "2025-04-05T14:02:40.108713Z"
    }
   },
   "cell_type": "code",
   "source": "data[\"model_classification\"].value_counts()",
   "id": "6c1feeb648cd1a39",
   "outputs": [
    {
     "data": {
      "text/plain": [
       "model_classification\n",
       "method        679\n",
       "result        591\n",
       "background     95\n",
       "Name: count, dtype: int64"
      ]
     },
     "execution_count": 6,
     "metadata": {},
     "output_type": "execute_result"
    }
   ],
   "execution_count": 6
  },
  {
   "metadata": {
    "ExecuteTime": {
     "end_time": "2025-04-07T05:21:31.752744Z",
     "start_time": "2025-04-07T05:21:31.749018Z"
    }
   },
   "cell_type": "code",
   "source": "data.to_csv(\"results/student_models/Gemma/Gemma-1b/output_clean.csv\", index=False)",
   "id": "2cca72cf9bde67b7",
   "outputs": [],
   "execution_count": 8
  },
  {
   "metadata": {},
   "cell_type": "code",
   "outputs": [],
   "execution_count": null,
   "source": "data = pd.read_csv(\"results/Teachers/DeepSeek/R1/output.csv\")",
   "id": "78d050812d9c9936"
  },
  {
   "metadata": {},
   "cell_type": "code",
   "outputs": [],
   "execution_count": null,
   "source": "data",
   "id": "1d21132fa5ec7dd2"
  },
  {
   "metadata": {},
   "cell_type": "code",
   "outputs": [],
   "execution_count": null,
   "source": "data[\"class\"] = data.index",
   "id": "86670db0699297f2"
  },
  {
   "metadata": {},
   "cell_type": "code",
   "outputs": [],
   "execution_count": null,
   "source": "data.reset_index(drop=True, inplace=True)",
   "id": "778d224c6cb568b1"
  },
  {
   "metadata": {},
   "cell_type": "code",
   "outputs": [],
   "execution_count": null,
   "source": "data.fillna(\"\", inplace=True)",
   "id": "c195234df3807e4f"
  },
  {
   "metadata": {},
   "cell_type": "code",
   "outputs": [],
   "execution_count": null,
   "source": "data[\"reasoning\"] = data[\"model_classification\"].str.cat(data[\"reasoning\"], sep =\",\")",
   "id": "cc6bb9d64dd779f"
  },
  {
   "metadata": {},
   "cell_type": "code",
   "outputs": [],
   "execution_count": null,
   "source": "data",
   "id": "855c41655b8d5b9e"
  },
  {
   "metadata": {},
   "cell_type": "code",
   "outputs": [],
   "execution_count": null,
   "source": "data[\"model_classification\"] = data[\"class\"]",
   "id": "531cb72bc5e19ad4"
  },
  {
   "metadata": {},
   "cell_type": "code",
   "outputs": [],
   "execution_count": null,
   "source": "data",
   "id": "67bab3ddbfea7cb3"
  },
  {
   "metadata": {},
   "cell_type": "code",
   "outputs": [],
   "execution_count": null,
   "source": "data.to_csv(\"results/Teachers/DeepSeek/R1/output_fixed.csv\", index=False)",
   "id": "13461dc02d925ffa"
  },
  {
   "metadata": {},
   "cell_type": "markdown",
   "source": "",
   "id": "a45e5607ffd87443"
  },
  {
   "metadata": {
    "ExecuteTime": {
     "end_time": "2025-04-05T14:02:05.198633Z",
     "start_time": "2025-04-05T14:02:05.183615Z"
    }
   },
   "cell_type": "code",
   "source": "data = pd.read_csv(\"results/student_models/llama3.2_1b/Llama-3.2-1B-Instruct_first_partition.csv\")",
   "id": "c277bc4aa0bcb529",
   "outputs": [],
   "execution_count": 2
  },
  {
   "metadata": {
    "ExecuteTime": {
     "end_time": "2025-04-05T14:02:19.368133Z",
     "start_time": "2025-04-05T14:02:19.360371Z"
    }
   },
   "cell_type": "code",
   "source": "data[\"model_classification\"].value_counts()",
   "id": "7b8271418fac7956",
   "outputs": [
    {
     "data": {
      "text/plain": [
       "model_classification\n",
       "method        679\n",
       "result        591\n",
       "background     77\n",
       "invalid        18\n",
       "Name: count, dtype: int64"
      ]
     },
     "execution_count": 4,
     "metadata": {},
     "output_type": "execute_result"
    }
   ],
   "execution_count": 4
  },
  {
   "metadata": {
    "ExecuteTime": {
     "end_time": "2025-04-05T14:03:26.717437Z",
     "start_time": "2025-04-05T14:03:26.704173Z"
    }
   },
   "cell_type": "code",
   "source": "data.to_csv(\"results/student_models/llama3.2_1b/Llama-3.2-1B-Instruct_first_partition_clean.csv\",index=False)",
   "id": "3287f88c515d7fa",
   "outputs": [],
   "execution_count": 7
  },
  {
   "metadata": {
    "ExecuteTime": {
     "end_time": "2025-04-06T07:21:15.879642Z",
     "start_time": "2025-04-06T07:21:15.854662Z"
    }
   },
   "cell_type": "code",
   "source": "data = pd.read_csv(\"data/train.csv\")",
   "id": "996115c9fb833b04",
   "outputs": [],
   "execution_count": 16
  },
  {
   "metadata": {
    "ExecuteTime": {
     "end_time": "2025-04-06T07:16:53.474375Z",
     "start_time": "2025-04-06T07:16:53.471600Z"
    }
   },
   "cell_type": "code",
   "source": [
    "first_partition = data[:1365]\n",
    "second_partition = data[1365:2730]\n",
    "third_partition = data[2730:4095]\n",
    "fourth_partition = data[4095:5460]\n",
    "fifth_partition = data[5460:6825]\n",
    "sixth_partition = data[6825:]"
   ],
   "id": "1eb10007edf9091",
   "outputs": [],
   "execution_count": 7
  },
  {
   "metadata": {
    "ExecuteTime": {
     "end_time": "2025-04-06T07:19:06.002211Z",
     "start_time": "2025-04-06T07:19:05.993410Z"
    }
   },
   "cell_type": "code",
   "source": "third_partition.to_csv(\"data/OgPartitions/third_partition.csv\", index=False)",
   "id": "6cf5f4ef9cd26354",
   "outputs": [],
   "execution_count": 13
  },
  {
   "metadata": {
    "ExecuteTime": {
     "end_time": "2025-04-06T07:20:21.131833Z",
     "start_time": "2025-04-06T07:20:21.125880Z"
    }
   },
   "cell_type": "code",
   "source": "data = pd.read_csv(\"data/Partition12/train_0.csv\")",
   "id": "171bf70060e7c63c",
   "outputs": [],
   "execution_count": 14
  },
  {
   "metadata": {
    "ExecuteTime": {
     "end_time": "2025-04-06T07:22:13.267346Z",
     "start_time": "2025-04-06T07:22:13.264573Z"
    }
   },
   "cell_type": "code",
   "source": "len(data)",
   "id": "e36875ef068f9d56",
   "outputs": [
    {
     "data": {
      "text/plain": [
       "8194"
      ]
     },
     "execution_count": 17,
     "metadata": {},
     "output_type": "execute_result"
    }
   ],
   "execution_count": 17
  },
  {
   "metadata": {
    "ExecuteTime": {
     "end_time": "2025-04-06T07:24:35.203616Z",
     "start_time": "2025-04-06T07:24:35.171661Z"
    }
   },
   "cell_type": "code",
   "source": [
    "for i in range(0,13):\n",
    "    data[i * 682 : (i + 1) * 682].to_csv(f\"data/Partition12/train_{i}.csv\", index=False)\n",
    "data[8184: ].to_csv(f\"data/Partition12/train_{13}.csv\", index=False)"
   ],
   "id": "8fb20448c504058a",
   "outputs": [],
   "execution_count": 18
  },
  {
   "metadata": {
    "ExecuteTime": {
     "end_time": "2025-04-06T11:12:03.809647Z",
     "start_time": "2025-04-06T11:12:03.801682Z"
    }
   },
   "cell_type": "code",
   "source": "data1 = pd.read_csv(\"results/Teachers/DeepSeek/R1/Partitioned/partition5-1.csv\")",
   "id": "ed99aaee9dec2b59",
   "outputs": [],
   "execution_count": 12
  },
  {
   "metadata": {
    "ExecuteTime": {
     "end_time": "2025-04-06T11:12:15.461127Z",
     "start_time": "2025-04-06T11:12:15.455974Z"
    }
   },
   "cell_type": "code",
   "source": "data2 = pd.read_csv(\"results/Teachers/DeepSeek/R1/Partitioned/partition5-2.csv\")",
   "id": "6f0ccec2d450c485",
   "outputs": [],
   "execution_count": 14
  },
  {
   "metadata": {
    "ExecuteTime": {
     "end_time": "2025-04-06T11:12:19.086635Z",
     "start_time": "2025-04-06T11:12:19.081690Z"
    }
   },
   "cell_type": "code",
   "source": "data2",
   "id": "186e0426e6cce5fd",
   "outputs": [
    {
     "data": {
      "text/plain": [
       "                                         model_classification  \\\n",
       "background  The text discusses existing knowledge about fr...   \n",
       "method      The text describes specific procedures used in...   \n",
       "background  The text explains the drug's mechanism and cit...   \n",
       "result      The text interprets findings on clustering and...   \n",
       "result      The text presents observed symptoms linked to ...   \n",
       "...                                                       ...   \n",
       "background  The text explains antibiotic resistance mechan...   \n",
       "result      The text discusses geological deformation feat...   \n",
       "method              The text describes VAR model methodology.   \n",
       "method               The text details diet score calculation.   \n",
       "result                 The text discusses crime risk factors.   \n",
       "\n",
       "                                      reasoning  \n",
       "background   setting the context for the study.  \n",
       "method            such as sampling and storage.  \n",
       "background                   providing context.  \n",
       "result                                      NaN  \n",
       "result                     indicating findings.  \n",
       "...                                         ...  \n",
       "background                                  NaN  \n",
       "result                                      NaN  \n",
       "method                                      NaN  \n",
       "method                                      NaN  \n",
       "result                                      NaN  \n",
       "\n",
       "[199 rows x 2 columns]"
      ],
      "text/html": [
       "<div>\n",
       "<style scoped>\n",
       "    .dataframe tbody tr th:only-of-type {\n",
       "        vertical-align: middle;\n",
       "    }\n",
       "\n",
       "    .dataframe tbody tr th {\n",
       "        vertical-align: top;\n",
       "    }\n",
       "\n",
       "    .dataframe thead th {\n",
       "        text-align: right;\n",
       "    }\n",
       "</style>\n",
       "<table border=\"1\" class=\"dataframe\">\n",
       "  <thead>\n",
       "    <tr style=\"text-align: right;\">\n",
       "      <th></th>\n",
       "      <th>model_classification</th>\n",
       "      <th>reasoning</th>\n",
       "    </tr>\n",
       "  </thead>\n",
       "  <tbody>\n",
       "    <tr>\n",
       "      <th>background</th>\n",
       "      <td>The text discusses existing knowledge about fr...</td>\n",
       "      <td>setting the context for the study.</td>\n",
       "    </tr>\n",
       "    <tr>\n",
       "      <th>method</th>\n",
       "      <td>The text describes specific procedures used in...</td>\n",
       "      <td>such as sampling and storage.</td>\n",
       "    </tr>\n",
       "    <tr>\n",
       "      <th>background</th>\n",
       "      <td>The text explains the drug's mechanism and cit...</td>\n",
       "      <td>providing context.</td>\n",
       "    </tr>\n",
       "    <tr>\n",
       "      <th>result</th>\n",
       "      <td>The text interprets findings on clustering and...</td>\n",
       "      <td>NaN</td>\n",
       "    </tr>\n",
       "    <tr>\n",
       "      <th>result</th>\n",
       "      <td>The text presents observed symptoms linked to ...</td>\n",
       "      <td>indicating findings.</td>\n",
       "    </tr>\n",
       "    <tr>\n",
       "      <th>...</th>\n",
       "      <td>...</td>\n",
       "      <td>...</td>\n",
       "    </tr>\n",
       "    <tr>\n",
       "      <th>background</th>\n",
       "      <td>The text explains antibiotic resistance mechan...</td>\n",
       "      <td>NaN</td>\n",
       "    </tr>\n",
       "    <tr>\n",
       "      <th>result</th>\n",
       "      <td>The text discusses geological deformation feat...</td>\n",
       "      <td>NaN</td>\n",
       "    </tr>\n",
       "    <tr>\n",
       "      <th>method</th>\n",
       "      <td>The text describes VAR model methodology.</td>\n",
       "      <td>NaN</td>\n",
       "    </tr>\n",
       "    <tr>\n",
       "      <th>method</th>\n",
       "      <td>The text details diet score calculation.</td>\n",
       "      <td>NaN</td>\n",
       "    </tr>\n",
       "    <tr>\n",
       "      <th>result</th>\n",
       "      <td>The text discusses crime risk factors.</td>\n",
       "      <td>NaN</td>\n",
       "    </tr>\n",
       "  </tbody>\n",
       "</table>\n",
       "<p>199 rows × 2 columns</p>\n",
       "</div>"
      ]
     },
     "execution_count": 15,
     "metadata": {},
     "output_type": "execute_result"
    }
   ],
   "execution_count": 15
  }
 ],
 "metadata": {
  "kernelspec": {
   "name": "python3",
   "language": "python",
   "display_name": "Python 3 (ipykernel)"
  }
 },
 "nbformat": 5,
 "nbformat_minor": 9
}
