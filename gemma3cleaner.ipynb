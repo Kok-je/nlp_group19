{
 "cells": [
  {
   "metadata": {
    "ExecuteTime": {
     "end_time": "2025-04-05T14:02:03.639987Z",
     "start_time": "2025-04-05T14:02:03.361558Z"
    }
   },
   "cell_type": "code",
   "source": "import pandas as pd",
   "id": "99718359de8c496f",
   "outputs": [],
   "execution_count": 1
  },
  {
   "metadata": {},
   "cell_type": "code",
   "outputs": [],
   "execution_count": null,
   "source": "data = pd.read_csv(\"results/student_models/Gemma/Gemma-1b/first-partition_no_reason.csv\")",
   "id": "ef9b9ecedf602d0e"
  },
  {
   "metadata": {},
   "cell_type": "code",
   "outputs": [],
   "execution_count": null,
   "source": "data[\"model_classification\"].value_counts()",
   "id": "5d7fcd707f43545b"
  },
  {
   "metadata": {
    "ExecuteTime": {
     "end_time": "2025-04-05T14:02:12.076Z",
     "start_time": "2025-04-05T14:02:12.072635Z"
    }
   },
   "cell_type": "code",
   "source": "data[\"model_classification\"] = data[\"model_classification\"].apply(lambda x: x.lower())",
   "id": "ad100bfb14b2dc5f",
   "outputs": [],
   "execution_count": 3
  },
  {
   "metadata": {},
   "cell_type": "code",
   "outputs": [],
   "execution_count": null,
   "source": "data[\"model_classification\"].value_counts()",
   "id": "db06591d66aea1d2"
  },
  {
   "metadata": {},
   "cell_type": "code",
   "outputs": [],
   "execution_count": null,
   "source": "data[\"model_classification\"] = data[\"model_classification\"].apply(lambda x: x.strip())",
   "id": "6171423942a9634c"
  },
  {
   "metadata": {},
   "cell_type": "code",
   "outputs": [],
   "execution_count": null,
   "source": "data[\"model_classification\"].value_counts()",
   "id": "49b0ec0d007bc852"
  },
  {
   "metadata": {},
   "cell_type": "code",
   "outputs": [],
   "execution_count": null,
   "source": "data[\"model_classification\"] = data[\"model_classification\"].apply(lambda x: x[:-1] if x[-1] == \"s\" else x)",
   "id": "1e08170a4d2994da"
  },
  {
   "metadata": {},
   "cell_type": "code",
   "outputs": [],
   "execution_count": null,
   "source": "data[\"model_classification\"].value_counts()",
   "id": "8d67032cf7e9e9a7"
  },
  {
   "metadata": {},
   "cell_type": "code",
   "outputs": [],
   "execution_count": null,
   "source": "data[\"model_classification\"] = data[\"model_classification\"].apply(lambda x: \"method\" if \"method\" in x else x)",
   "id": "fdfa81ae793a58aa"
  },
  {
   "metadata": {},
   "cell_type": "code",
   "outputs": [],
   "execution_count": null,
   "source": "data[\"model_classification\"].value_counts()",
   "id": "cf3f4a72e99b131a"
  },
  {
   "metadata": {
    "ExecuteTime": {
     "end_time": "2025-04-05T14:02:38.836233Z",
     "start_time": "2025-04-05T14:02:38.833317Z"
    }
   },
   "cell_type": "code",
   "source": "data[\"model_classification\"] = data[\"model_classification\"].apply(lambda x: \"background\" if x not in [\"method\",\"background\",\"result\"] else x)",
   "id": "3d5513d4d57e8ca1",
   "outputs": [],
   "execution_count": 5
  },
  {
   "metadata": {
    "ExecuteTime": {
     "end_time": "2025-04-05T14:02:40.112589Z",
     "start_time": "2025-04-05T14:02:40.108713Z"
    }
   },
   "cell_type": "code",
   "source": "data[\"model_classification\"].value_counts()",
   "id": "6c1feeb648cd1a39",
   "outputs": [
    {
     "data": {
      "text/plain": [
       "model_classification\n",
       "method        679\n",
       "result        591\n",
       "background     95\n",
       "Name: count, dtype: int64"
      ]
     },
     "execution_count": 6,
     "metadata": {},
     "output_type": "execute_result"
    }
   ],
   "execution_count": 6
  },
  {
   "metadata": {},
   "cell_type": "code",
   "outputs": [],
   "execution_count": null,
   "source": "data.to_csv(\"results/student_models/Gemma/Gemma-1b/first-partition_no_reason_clean.csv\", index=False)",
   "id": "2cca72cf9bde67b7"
  },
  {
   "metadata": {},
   "cell_type": "code",
   "outputs": [],
   "execution_count": null,
   "source": "data = pd.read_csv(\"results/Teachers/DeepSeek/R1/output.csv\")",
   "id": "78d050812d9c9936"
  },
  {
   "metadata": {},
   "cell_type": "code",
   "outputs": [],
   "execution_count": null,
   "source": "data",
   "id": "1d21132fa5ec7dd2"
  },
  {
   "metadata": {},
   "cell_type": "code",
   "outputs": [],
   "execution_count": null,
   "source": "data[\"class\"] = data.index",
   "id": "86670db0699297f2"
  },
  {
   "metadata": {},
   "cell_type": "code",
   "outputs": [],
   "execution_count": null,
   "source": "data.reset_index(drop=True, inplace=True)",
   "id": "778d224c6cb568b1"
  },
  {
   "metadata": {},
   "cell_type": "code",
   "outputs": [],
   "execution_count": null,
   "source": "data.fillna(\"\", inplace=True)",
   "id": "c195234df3807e4f"
  },
  {
   "metadata": {},
   "cell_type": "code",
   "outputs": [],
   "execution_count": null,
   "source": "data[\"reasoning\"] = data[\"model_classification\"].str.cat(data[\"reasoning\"], sep =\",\")",
   "id": "cc6bb9d64dd779f"
  },
  {
   "metadata": {},
   "cell_type": "code",
   "outputs": [],
   "execution_count": null,
   "source": "data",
   "id": "855c41655b8d5b9e"
  },
  {
   "metadata": {},
   "cell_type": "code",
   "outputs": [],
   "execution_count": null,
   "source": "data[\"model_classification\"] = data[\"class\"]",
   "id": "531cb72bc5e19ad4"
  },
  {
   "metadata": {},
   "cell_type": "code",
   "outputs": [],
   "execution_count": null,
   "source": "data",
   "id": "67bab3ddbfea7cb3"
  },
  {
   "metadata": {},
   "cell_type": "code",
   "outputs": [],
   "execution_count": null,
   "source": "data.to_csv(\"results/Teachers/DeepSeek/R1/output_fixed.csv\", index=False)",
   "id": "13461dc02d925ffa"
  },
  {
   "metadata": {},
   "cell_type": "markdown",
   "source": "",
   "id": "a45e5607ffd87443"
  },
  {
   "metadata": {
    "ExecuteTime": {
     "end_time": "2025-04-05T14:02:05.198633Z",
     "start_time": "2025-04-05T14:02:05.183615Z"
    }
   },
   "cell_type": "code",
   "source": "data = pd.read_csv(\"results/student_models/llama3.2_1b/Llama-3.2-1B-Instruct_first_partition.csv\")",
   "id": "c277bc4aa0bcb529",
   "outputs": [],
   "execution_count": 2
  },
  {
   "metadata": {
    "ExecuteTime": {
     "end_time": "2025-04-05T14:02:19.368133Z",
     "start_time": "2025-04-05T14:02:19.360371Z"
    }
   },
   "cell_type": "code",
   "source": "data[\"model_classification\"].value_counts()",
   "id": "7b8271418fac7956",
   "outputs": [
    {
     "data": {
      "text/plain": [
       "model_classification\n",
       "method        679\n",
       "result        591\n",
       "background     77\n",
       "invalid        18\n",
       "Name: count, dtype: int64"
      ]
     },
     "execution_count": 4,
     "metadata": {},
     "output_type": "execute_result"
    }
   ],
   "execution_count": 4
  },
  {
   "metadata": {
    "ExecuteTime": {
     "end_time": "2025-04-05T14:03:26.717437Z",
     "start_time": "2025-04-05T14:03:26.704173Z"
    }
   },
   "cell_type": "code",
   "source": "data.to_csv(\"results/student_models/llama3.2_1b/Llama-3.2-1B-Instruct_first_partition_clean.csv\",index=False)",
   "id": "3287f88c515d7fa",
   "outputs": [],
   "execution_count": 7
  }
 ],
 "metadata": {
  "kernelspec": {
   "name": "python3",
   "language": "python",
   "display_name": "Python 3 (ipykernel)"
  }
 },
 "nbformat": 5,
 "nbformat_minor": 9
}
