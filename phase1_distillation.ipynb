{
 "cells": [
  {
   "cell_type": "code",
   "execution_count": 1,
   "metadata": {},
   "outputs": [
    {
     "name": "stderr",
     "output_type": "stream",
     "text": [
      "c:\\Users\\Shawn Kok\\AppData\\Local\\Programs\\Python\\Python311\\Lib\\site-packages\\tqdm\\auto.py:21: TqdmWarning: IProgress not found. Please update jupyter and ipywidgets. See https://ipywidgets.readthedocs.io/en/stable/user_install.html\n",
      "  from .autonotebook import tqdm as notebook_tqdm\n"
     ]
    }
   ],
   "source": [
    "import os\n",
    "import pandas as pd\n",
    "import torch\n",
    "from datasets import Dataset\n",
    "from dotenv import load_dotenv\n",
    "from transformers import (\n",
    "    AutoTokenizer,\n",
    "    AutoModelForCausalLM,\n",
    "    Trainer,\n",
    "    TrainingArguments,\n",
    "    BitsAndBytesConfig\n",
    ")\n",
    "from peft import get_peft_model, LoraConfig, TaskType, prepare_model_for_kbit_training\n",
    "\n",
    "load_dotenv()\n",
    "hf_token = os.getenv(\"HUGGINGFACE_API_KEY\")"
   ]
  },
  {
   "cell_type": "code",
   "execution_count": 2,
   "metadata": {},
   "outputs": [
    {
     "name": "stdout",
     "output_type": "stream",
     "text": [
      "Loaded 50 samples from dataset.\n"
     ]
    }
   ],
   "source": [
    "# ====== Load dataset ======\n",
    "def load_partition(path: str) -> Dataset:\n",
    "    df = pd.read_csv(path).head(50)\n",
    "    return Dataset.from_pandas(df)\n",
    "\n",
    "dataset = load_partition(\"./Student_Training_Data/GPT.csv\")\n",
    "print(f\"Loaded {len(dataset)} samples from dataset.\")"
   ]
  },
  {
   "cell_type": "code",
   "execution_count": 3,
   "metadata": {},
   "outputs": [
    {
     "name": "stderr",
     "output_type": "stream",
     "text": [
      "The installed version of bitsandbytes was compiled without GPU support. 8-bit optimizers, 8-bit multiplication, and GPU quantization are unavailable.\n"
     ]
    }
   ],
   "source": [
    "# ====== Tokenizer & Model Setup ======\n",
    "model_id = \"google/gemma-3-1b-it\"\n",
    "\n",
    "tokenizer = AutoTokenizer.from_pretrained(model_id, token=hf_token, trust_remote_code=True)\n",
    "if tokenizer.pad_token is None:\n",
    "    tokenizer.pad_token = tokenizer.eos_token\n",
    "\n",
    "model = AutoModelForCausalLM.from_pretrained(\n",
    "    model_id,\n",
    "    token=hf_token,\n",
    "    trust_remote_code=True,\n",
    "    # torch_dtype=torch.float16,\n",
    ")\n",
    "\n",
    "model = prepare_model_for_kbit_training(model)\n",
    "lora_config = LoraConfig(\n",
    "    r=8,\n",
    "    lora_alpha=32,\n",
    "    target_modules=[\"q_proj\", \"v_proj\"],\n",
    "    lora_dropout=0.05,\n",
    "    bias=\"none\",\n",
    "    task_type=TaskType.CAUSAL_LM\n",
    ")\n",
    "model = get_peft_model(model, lora_config)\n"
   ]
  },
  {
   "cell_type": "code",
   "execution_count": 4,
   "metadata": {},
   "outputs": [
    {
     "name": "stderr",
     "output_type": "stream",
     "text": [
      "Map: 100%|██████████| 50/50 [00:00<00:00, 273.25 examples/s]\n"
     ]
    }
   ],
   "source": [
    "# ====== Format data ======\n",
    "def format_for_distillation(examples):\n",
    "    prompts = []\n",
    "    for text, reasoning, classification in zip(examples[\"string\"], examples[\"reasoning\"], examples[\"model_classification\"]):\n",
    "        prompt = (f\"Classify the following scientific text, {text} as one of [background, method, result].\\n\\n\"\n",
    "                  f\"Provide your classification and reasoning in JSON format.\")\n",
    "        response = f'{{\"classification\": \"{classification}\", \"reasoning\": \"{reasoning}\"}}'\n",
    "        \n",
    "        prompt_ids = tokenizer.encode(prompt, add_special_tokens=True)\n",
    "        full_text = prompt + \" \" + response\n",
    "        tokenized = tokenizer(full_text, padding=\"max_length\", truncation=True, max_length=512, return_tensors=\"pt\")\n",
    "\n",
    "        input_ids = tokenized[\"input_ids\"][0]\n",
    "        attention_mask = tokenized[\"attention_mask\"][0]\n",
    "        labels = input_ids.clone()\n",
    "\n",
    "        start_index = len(prompt_ids) + 1\n",
    "        labels[:start_index] = -100\n",
    "\n",
    "        prompts.append({\n",
    "            \"input_ids\": input_ids,\n",
    "            \"attention_mask\": attention_mask,\n",
    "            \"labels\": labels,\n",
    "            \"student_reasoning\": reasoning\n",
    "        })\n",
    "\n",
    "    return {\n",
    "        \"input_ids\": torch.stack([p[\"input_ids\"] for p in prompts]),\n",
    "        \"attention_mask\": torch.stack([p[\"attention_mask\"] for p in prompts]),\n",
    "        \"labels\": torch.stack([p[\"labels\"] for p in prompts]),\n",
    "        \"student_reasoning\": [p[\"student_reasoning\"] for p in prompts]\n",
    "    }\n",
    "\n",
    "tokenized_dataset = dataset.map(format_for_distillation, batched=True, remove_columns=dataset.column_names)"
   ]
  },
  {
   "cell_type": "code",
   "execution_count": 5,
   "metadata": {},
   "outputs": [
    {
     "name": "stderr",
     "output_type": "stream",
     "text": [
      "No label_names provided for model class `PeftModelForCausalLM`. Since `PeftModel` hides base models input arguments, if label_names is not given, label_names can't be set automatically within `Trainer`. Note that empty label_names list will be used instead.\n",
      "It is strongly recommended to train Gemma3 models with the `eager` attention implementation instead of `sdpa`. Use `eager` with `AutoModelForCausalLM.from_pretrained('<path-to-checkpoint>', attn_implementation='eager')`.\n"
     ]
    },
    {
     "data": {
      "text/html": [
       "\n",
       "    <div>\n",
       "      \n",
       "      <progress value='20' max='20' style='width:300px; height:20px; vertical-align: middle;'></progress>\n",
       "      [20/20 03:49, Epoch 0/1]\n",
       "    </div>\n",
       "    <table border=\"1\" class=\"dataframe\">\n",
       "  <thead>\n",
       " <tr style=\"text-align: left;\">\n",
       "      <th>Step</th>\n",
       "      <th>Training Loss</th>\n",
       "    </tr>\n",
       "  </thead>\n",
       "  <tbody>\n",
       "    <tr>\n",
       "      <td>1</td>\n",
       "      <td>15.361500</td>\n",
       "    </tr>\n",
       "    <tr>\n",
       "      <td>2</td>\n",
       "      <td>0.000000</td>\n",
       "    </tr>\n",
       "    <tr>\n",
       "      <td>3</td>\n",
       "      <td>0.000000</td>\n",
       "    </tr>\n",
       "    <tr>\n",
       "      <td>4</td>\n",
       "      <td>0.000000</td>\n",
       "    </tr>\n",
       "    <tr>\n",
       "      <td>5</td>\n",
       "      <td>0.000000</td>\n",
       "    </tr>\n",
       "    <tr>\n",
       "      <td>6</td>\n",
       "      <td>0.000000</td>\n",
       "    </tr>\n",
       "    <tr>\n",
       "      <td>7</td>\n",
       "      <td>0.000000</td>\n",
       "    </tr>\n",
       "    <tr>\n",
       "      <td>8</td>\n",
       "      <td>0.000000</td>\n",
       "    </tr>\n",
       "    <tr>\n",
       "      <td>9</td>\n",
       "      <td>0.000000</td>\n",
       "    </tr>\n",
       "    <tr>\n",
       "      <td>10</td>\n",
       "      <td>0.000000</td>\n",
       "    </tr>\n",
       "    <tr>\n",
       "      <td>11</td>\n",
       "      <td>0.000000</td>\n",
       "    </tr>\n",
       "    <tr>\n",
       "      <td>12</td>\n",
       "      <td>0.000000</td>\n",
       "    </tr>\n",
       "    <tr>\n",
       "      <td>13</td>\n",
       "      <td>0.000000</td>\n",
       "    </tr>\n",
       "    <tr>\n",
       "      <td>14</td>\n",
       "      <td>0.000000</td>\n",
       "    </tr>\n",
       "    <tr>\n",
       "      <td>15</td>\n",
       "      <td>0.000000</td>\n",
       "    </tr>\n",
       "    <tr>\n",
       "      <td>16</td>\n",
       "      <td>0.000000</td>\n",
       "    </tr>\n",
       "    <tr>\n",
       "      <td>17</td>\n",
       "      <td>0.000000</td>\n",
       "    </tr>\n",
       "    <tr>\n",
       "      <td>18</td>\n",
       "      <td>0.000000</td>\n",
       "    </tr>\n",
       "    <tr>\n",
       "      <td>19</td>\n",
       "      <td>0.000000</td>\n",
       "    </tr>\n",
       "    <tr>\n",
       "      <td>20</td>\n",
       "      <td>0.000000</td>\n",
       "    </tr>\n",
       "  </tbody>\n",
       "</table><p>"
      ],
      "text/plain": [
       "<IPython.core.display.HTML object>"
      ]
     },
     "metadata": {},
     "output_type": "display_data"
    },
    {
     "data": {
      "text/plain": [
       "('gemma3-phase1-alpha\\\\tokenizer_config.json',\n",
       " 'gemma3-phase1-alpha\\\\special_tokens_map.json',\n",
       " 'gemma3-phase1-alpha\\\\tokenizer.json')"
      ]
     },
     "execution_count": 5,
     "metadata": {},
     "output_type": "execute_result"
    }
   ],
   "source": [
    "# ====== Training Args ======\n",
    "training_args = TrainingArguments(\n",
    "    output_dir=\"gemma3-phase1-alpha\",\n",
    "    num_train_epochs=3,\n",
    "    per_device_train_batch_size=1,\n",
    "    gradient_accumulation_steps=1,\n",
    "    learning_rate=2e-5,\n",
    "    max_steps=20,\n",
    "    logging_steps=1,\n",
    "    save_strategy=\"no\",\n",
    "    remove_unused_columns=False,\n",
    "    max_grad_norm=1.0,\n",
    "    report_to=\"none\",\n",
    "    fp16=True,\n",
    ")\n",
    "\n",
    "trainer = Trainer(\n",
    "    model=model,\n",
    "    args=training_args,\n",
    "    train_dataset=tokenized_dataset\n",
    ")\n",
    "\n",
    "trainer.train()\n",
    "model.save_pretrained(\"gemma3-phase1-alpha\")\n",
    "tokenizer.save_pretrained(\"gemma3-phase1-alpha\")"
   ]
  },
  {
   "cell_type": "code",
   "execution_count": null,
   "metadata": {},
   "outputs": [],
   "source": [
    "import torch.nn.functional as F\n",
    "\n",
    "class ReasoningDistiller(Trainer):\n",
    "    def __init__(self, *args, reasoning_weight=0.5, use_reasoning_loss=True, **kwargs):\n",
    "        super().__init__(*args, **kwargs)\n",
    "        self.reasoning_weight = reasoning_weight\n",
    "        self.use_reasoning_loss = use_reasoning_loss\n",
    "\n",
    "        self.reasoning_tokenizer = AutoTokenizer.from_pretrained(\"sentence-transformers/all-MiniLM-L6-v2\")\n",
    "        self.reasoning_model = AutoModel.from_pretrained(\"sentence-transformers/all-MiniLM-L6-v2\")\n",
    "\n",
    "    def compute_loss(self, model, inputs, return_outputs=False):\n",
    "        outputs = model(\n",
    "            input_ids=inputs[\"input_ids\"],\n",
    "            attention_mask=inputs[\"attention_mask\"],\n",
    "            labels=inputs[\"labels\"]\n",
    "        )\n",
    "        ce_loss = outputs.loss\n",
    "\n",
    "        if self.use_reasoning_loss and \"student_reasoning\" in inputs:\n",
    "            try:\n",
    "                generated = model.generate(inputs[\"input_ids\"], max_length=512)\n",
    "                decoded = self.tokenizer.batch_decode(generated, skip_special_tokens=True)\n",
    "                student_reasonings = [self.extract_reasoning(txt) for txt in decoded]\n",
    "                teacher_reasonings = inputs[\"student_reasoning\"]\n",
    "\n",
    "                student_embeds = self.get_embeddings(student_reasonings)\n",
    "                teacher_embeds = self.get_embeddings(teacher_reasonings)\n",
    "                cosine_loss = 1 - F.cosine_similarity(student_embeds, teacher_embeds).mean()\n",
    "                total_loss = ce_loss + self.reasoning_weight * cosine_loss\n",
    "            except Exception as e:\n",
    "                print(f\"Skipping cosine loss due to error: {e}\")\n",
    "                total_loss = ce_loss\n",
    "        else:\n",
    "            total_loss = ce_loss\n",
    "\n",
    "        return (total_loss, outputs) if return_outputs else total_loss\n",
    "\n",
    "    def extract_reasoning(self, text):\n",
    "        match = re.search(r'\"reasoning\"\\s*:\\s*\"(.+?)\"\\s*}', text)\n",
    "        return match.group(1).strip() if match else \"\"\n",
    "\n",
    "    def get_embeddings(self, texts):\n",
    "        inputs = self.reasoning_tokenizer(texts, padding=True, truncation=True, return_tensors=\"pt\")\n",
    "        inputs = {k: v.to(self.model.device) for k, v in inputs.items()}\n",
    "        with torch.no_grad():\n",
    "            return self.reasoning_model(**inputs).last_hidden_state[:, 0, :]"
   ]
  },
  {
   "cell_type": "code",
   "execution_count": null,
   "metadata": {},
   "outputs": [],
   "source": [
    "from peft import PeftModel\n",
    "\n",
    "model = AutoModelForCausalLM.from_pretrained(\"llama-student-phase1\")\n",
    "model = PeftModel.from_pretrained(model, \"llama-student-phase1\")\n",
    "\n",
    "trainer = ReasoningDistiller(\n",
    "    model=model,\n",
    "    args=training_args,\n",
    "    train_dataset=tokenized_dataset,\n",
    "    reasoning_weight=0.5,\n",
    "    use_reasoning_loss=True\n",
    ")\n",
    "\n",
    "trainer.train()\n",
    "model.save_pretrained(\"llama-student-phase2\")\n",
    "tokenizer.save_pretrained(\"llama-student-phase2\")"
   ]
  },
  {
   "cell_type": "code",
   "execution_count": null,
   "metadata": {
    "ExecuteTime": {
     "end_time": "2025-04-07T12:38:17.735421Z",
     "start_time": "2025-04-07T12:38:17.732461Z"
    }
   },
   "outputs": [],
   "source": [
    "[i for i in range(0,3)]"
   ]
  }
 ],
 "metadata": {
  "kernelspec": {
   "display_name": "Python 3",
   "language": "python",
   "name": "python3"
  },
  "language_info": {
   "codemirror_mode": {
    "name": "ipython",
    "version": 3
   },
   "file_extension": ".py",
   "mimetype": "text/x-python",
   "name": "python",
   "nbconvert_exporter": "python",
   "pygments_lexer": "ipython3",
   "version": "3.11.0"
  }
 },
 "nbformat": 4,
 "nbformat_minor": 2
}
