{
 "cells": [
  {
   "cell_type": "code",
   "execution_count": 1,
   "metadata": {},
   "outputs": [
    {
     "name": "stderr",
     "output_type": "stream",
     "text": [
      "c:\\Python311\\Lib\\site-packages\\tqdm\\auto.py:21: TqdmWarning: IProgress not found. Please update jupyter and ipywidgets. See https://ipywidgets.readthedocs.io/en/stable/user_install.html\n",
      "  from .autonotebook import tqdm as notebook_tqdm\n"
     ]
    }
   ],
   "source": [
    "import os\n",
    "import pandas as pd\n",
    "import torch\n",
    "from datasets import Dataset\n",
    "from dotenv import load_dotenv\n",
    "from transformers import (\n",
    "    AutoTokenizer,\n",
    "    AutoModelForCausalLM,\n",
    "    Trainer,\n",
    "    TrainingArguments,\n",
    "    BitsAndBytesConfig\n",
    ")\n",
    "from peft import get_peft_model, LoraConfig, TaskType, prepare_model_for_kbit_training\n",
    "\n",
    "load_dotenv()\n",
    "hf_token = os.getenv(\"HUGGINGFACE_API_KEY\")"
   ]
  },
  {
   "cell_type": "code",
   "execution_count": 2,
   "metadata": {},
   "outputs": [],
   "source": [
    "# ====== Load dataset ======\n",
    "def load_partition(path: str) -> Dataset:\n",
    "    df = pd.read_csv(path)\n",
    "    return Dataset.from_pandas(df)\n",
    "\n",
    "dataset = load_partition(\"./merged_dataset.csv\")"
   ]
  },
  {
   "cell_type": "code",
   "execution_count": 3,
   "metadata": {},
   "outputs": [
    {
     "name": "stderr",
     "output_type": "stream",
     "text": [
      "`low_cpu_mem_usage` was None, now default to True since model is quantized.\n"
     ]
    }
   ],
   "source": [
    "# ====== Tokenizer & Model Setup ======\n",
    "model_id = \"meta-llama/Llama-3.2-1B-Instruct\"\n",
    "\n",
    "tokenizer = AutoTokenizer.from_pretrained(model_id, token=hf_token, trust_remote_code=True)\n",
    "if tokenizer.pad_token is None:\n",
    "    tokenizer.pad_token = tokenizer.eos_token\n",
    "\n",
    "bnb_config = BitsAndBytesConfig(\n",
    "    load_in_4bit=True,\n",
    "    bnb_4bit_quant_type=\"nf4\",\n",
    "    bnb_4bit_compute_dtype=torch.float16,\n",
    "    bnb_4bit_use_double_quant=True,\n",
    ")\n",
    "\n",
    "model = AutoModelForCausalLM.from_pretrained(\n",
    "    model_id,\n",
    "    token=hf_token,\n",
    "    trust_remote_code=True,\n",
    "    torch_dtype=torch.float16,\n",
    "    quantization_config=bnb_config,\n",
    ")\n",
    "\n",
    "model = prepare_model_for_kbit_training(model)\n",
    "lora_config = LoraConfig(\n",
    "    r=8,\n",
    "    lora_alpha=32,\n",
    "    target_modules=[\"q_proj\", \"v_proj\"],\n",
    "    lora_dropout=0.05,\n",
    "    bias=\"none\",\n",
    "    task_type=TaskType.CAUSAL_LM\n",
    ")\n",
    "model = get_peft_model(model, lora_config)\n"
   ]
  },
  {
   "cell_type": "code",
   "execution_count": 4,
   "metadata": {},
   "outputs": [
    {
     "name": "stderr",
     "output_type": "stream",
     "text": [
      "Map: 100%|██████████| 8194/8194 [01:08<00:00, 120.32 examples/s]\n"
     ]
    }
   ],
   "source": [
    "# ====== Format data ======\n",
    "def format_for_distillation(examples):\n",
    "    prompts, responses, reasonings = [], [], []\n",
    "    for text, reasoning, classification in zip(examples[\"string\"], examples[\"reasoning\"], examples[\"model_classification\"]):\n",
    "        prompt = (f\"<instruction>Classify the following scientific text as one of [background, method, result].\\n\\n\"\n",
    "                  f\"Text: {text}\\n\"\n",
    "                  f\"Provide your classification and reasoning in JSON format.</instruction>\")\n",
    "        response = f'<response>{{\"classification\": \"{classification}\", \"reasoning\": \"{reasoning}\"}}'\n",
    "        prompts.append(prompt + response)\n",
    "        reasonings.append(reasoning)\n",
    "\n",
    "    tokenized = tokenizer(prompts, padding=\"max_length\", truncation=True, max_length=512, return_tensors=\"pt\")\n",
    "    labels = tokenized[\"input_ids\"].clone()\n",
    "\n",
    "    # Mask out instruction part\n",
    "    for i, input_ids in enumerate(tokenized[\"input_ids\"]):\n",
    "        response_ids = tokenizer(\"<response>\", add_special_tokens=False)[\"input_ids\"]\n",
    "        for j in range(len(input_ids) - len(response_ids)):\n",
    "            if input_ids[j:j+len(response_ids)].tolist() == response_ids:\n",
    "                labels[i, :j+len(response_ids)] = -100\n",
    "                break\n",
    "\n",
    "    return {\n",
    "        \"input_ids\": tokenized[\"input_ids\"],\n",
    "        \"attention_mask\": tokenized[\"attention_mask\"],\n",
    "        \"labels\": labels,\n",
    "        \"student_reasoning\": reasonings  # Keep for Phase 2\n",
    "    }\n",
    "\n",
    "tokenized_dataset = dataset.map(format_for_distillation, batched=True, remove_columns=[\"id\"])"
   ]
  },
  {
   "cell_type": "code",
   "execution_count": null,
   "metadata": {},
   "outputs": [
    {
     "name": "stderr",
     "output_type": "stream",
     "text": [
      "No label_names provided for model class `PeftModelForCausalLM`. Since `PeftModel` hides base models input arguments, if label_names is not given, label_names can't be set automatically within `Trainer`. Note that empty label_names list will be used instead.\n",
      "c:\\Python311\\Lib\\site-packages\\torch\\_dynamo\\eval_frame.py:632: UserWarning: torch.utils.checkpoint: the use_reentrant parameter should be passed explicitly. In version 2.5 we will raise an exception if use_reentrant is not passed. use_reentrant=False is recommended, but if you need to preserve the current default behavior, you can pass use_reentrant=True. Refer to docs for more details on the differences between the two variants.\n",
      "  return fn(*args, **kwargs)\n"
     ]
    },
    {
     "data": {
      "text/html": [
       "\n",
       "    <div>\n",
       "      \n",
       "      <progress value='7' max='1024' style='width:300px; height:20px; vertical-align: middle;'></progress>\n",
       "      [   7/1024 00:31 < 1:45:25, 0.16 it/s, Epoch 0.01/2]\n",
       "    </div>\n",
       "    <table border=\"1\" class=\"dataframe\">\n",
       "  <thead>\n",
       " <tr style=\"text-align: left;\">\n",
       "      <th>Step</th>\n",
       "      <th>Training Loss</th>\n",
       "    </tr>\n",
       "  </thead>\n",
       "  <tbody>\n",
       "  </tbody>\n",
       "</table><p>"
      ],
      "text/plain": [
       "<IPython.core.display.HTML object>"
      ]
     },
     "metadata": {},
     "output_type": "display_data"
    }
   ],
   "source": [
    "# ====== Training Args ======\n",
    "training_args = TrainingArguments(\n",
    "    output_dir=\"llama-student-phase1\",\n",
    "    num_train_epochs=2,\n",
    "    per_device_train_batch_size=2,\n",
    "    gradient_accumulation_steps=8,\n",
    "    learning_rate=1e-4,\n",
    "    bf16=True,\n",
    "    logging_steps=10,\n",
    "    save_strategy=\"epoch\",\n",
    "    remove_unused_columns=False,\n",
    "    max_grad_norm=1.0,\n",
    "    report_to=\"none\"\n",
    ")\n",
    "\n",
    "trainer = Trainer(\n",
    "    model=model,\n",
    "    args=training_args,\n",
    "    train_dataset=tokenized_dataset\n",
    ")\n",
    "\n",
    "trainer.train()\n",
    "model.save_pretrained(\"llama-student-phase1\")\n",
    "tokenizer.save_pretrained(\"llama-student-phase1\")"
   ]
  },
  {
   "cell_type": "code",
   "execution_count": null,
   "metadata": {},
   "outputs": [],
   "source": [
    "import torch.nn.functional as F\n",
    "\n",
    "class ReasoningDistiller(Trainer):\n",
    "    def __init__(self, *args, reasoning_weight=0.5, use_reasoning_loss=True, **kwargs):\n",
    "        super().__init__(*args, **kwargs)\n",
    "        self.reasoning_weight = reasoning_weight\n",
    "        self.use_reasoning_loss = use_reasoning_loss\n",
    "\n",
    "        self.reasoning_tokenizer = AutoTokenizer.from_pretrained(\"sentence-transformers/all-MiniLM-L6-v2\")\n",
    "        self.reasoning_model = AutoModel.from_pretrained(\"sentence-transformers/all-MiniLM-L6-v2\")\n",
    "\n",
    "    def compute_loss(self, model, inputs, return_outputs=False):\n",
    "        outputs = model(\n",
    "            input_ids=inputs[\"input_ids\"],\n",
    "            attention_mask=inputs[\"attention_mask\"],\n",
    "            labels=inputs[\"labels\"]\n",
    "        )\n",
    "        ce_loss = outputs.loss\n",
    "\n",
    "        if self.use_reasoning_loss and \"student_reasoning\" in inputs:\n",
    "            try:\n",
    "                generated = model.generate(inputs[\"input_ids\"], max_length=512)\n",
    "                decoded = self.tokenizer.batch_decode(generated, skip_special_tokens=True)\n",
    "                student_reasonings = [self.extract_reasoning(txt) for txt in decoded]\n",
    "                teacher_reasonings = inputs[\"student_reasoning\"]\n",
    "\n",
    "                student_embeds = self.get_embeddings(student_reasonings)\n",
    "                teacher_embeds = self.get_embeddings(teacher_reasonings)\n",
    "                cosine_loss = 1 - F.cosine_similarity(student_embeds, teacher_embeds).mean()\n",
    "                total_loss = ce_loss + self.reasoning_weight * cosine_loss\n",
    "            except Exception as e:\n",
    "                print(f\"Skipping cosine loss due to error: {e}\")\n",
    "                total_loss = ce_loss\n",
    "        else:\n",
    "            total_loss = ce_loss\n",
    "\n",
    "        return (total_loss, outputs) if return_outputs else total_loss\n",
    "\n",
    "    def extract_reasoning(self, text):\n",
    "        match = re.search(r'\"reasoning\"\\s*:\\s*\"(.+?)\"\\s*}', text)\n",
    "        return match.group(1).strip() if match else \"\"\n",
    "\n",
    "    def get_embeddings(self, texts):\n",
    "        inputs = self.reasoning_tokenizer(texts, padding=True, truncation=True, return_tensors=\"pt\")\n",
    "        inputs = {k: v.to(self.model.device) for k, v in inputs.items()}\n",
    "        with torch.no_grad():\n",
    "            return self.reasoning_model(**inputs).last_hidden_state[:, 0, :]"
   ]
  },
  {
   "cell_type": "code",
   "execution_count": null,
   "metadata": {},
   "outputs": [],
   "source": [
    "from peft import PeftModel\n",
    "\n",
    "model = AutoModelForCausalLM.from_pretrained(\"llama-student-phase1\")\n",
    "model = PeftModel.from_pretrained(model, \"llama-student-phase1\")\n",
    "\n",
    "trainer = ReasoningDistiller(\n",
    "    model=model,\n",
    "    args=training_args,\n",
    "    train_dataset=tokenized_dataset,\n",
    "    reasoning_weight=0.5,\n",
    "    use_reasoning_loss=True\n",
    ")\n",
    "\n",
    "trainer.train()\n",
    "model.save_pretrained(\"llama-student-phase2\")\n",
    "tokenizer.save_pretrained(\"llama-student-phase2\")"
   ]
  }
 ],
 "metadata": {
  "kernelspec": {
   "display_name": "Python 3",
   "language": "python",
   "name": "python3"
  },
  "language_info": {
   "codemirror_mode": {
    "name": "ipython",
    "version": 3
   },
   "file_extension": ".py",
   "mimetype": "text/x-python",
   "name": "python",
   "nbconvert_exporter": "python",
   "pygments_lexer": "ipython3",
   "version": "3.11.3"
  }
 },
 "nbformat": 4,
 "nbformat_minor": 2
}
