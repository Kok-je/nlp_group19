{
 "cells": [
  {
   "cell_type": "code",
   "execution_count": 1,
   "metadata": {},
   "outputs": [
    {
     "name": "stderr",
     "output_type": "stream",
     "text": [
      "c:\\Users\\Shawn Kok\\AppData\\Local\\Programs\\Python\\Python311\\Lib\\site-packages\\tqdm\\auto.py:21: TqdmWarning: IProgress not found. Please update jupyter and ipywidgets. See https://ipywidgets.readthedocs.io/en/stable/user_install.html\n",
      "  from .autonotebook import tqdm as notebook_tqdm\n"
     ]
    }
   ],
   "source": [
    "import torch\n",
    "import pandas as pd\n",
    "from datasets import Dataset\n",
    "from transformers import AutoModelForCausalLM, AutoTokenizer"
   ]
  },
  {
   "cell_type": "code",
   "execution_count": 2,
   "metadata": {},
   "outputs": [
    {
     "name": "stderr",
     "output_type": "stream",
     "text": [
      "The installed version of bitsandbytes was compiled without GPU support. 8-bit optimizers, 8-bit multiplication, and GPU quantization are unavailable.\n"
     ]
    },
    {
     "data": {
      "text/plain": [
       "LlamaForCausalLM(\n",
       "  (model): LlamaModel(\n",
       "    (embed_tokens): Embedding(128256, 2048)\n",
       "    (layers): ModuleList(\n",
       "      (0-15): 16 x LlamaDecoderLayer(\n",
       "        (self_attn): LlamaAttention(\n",
       "          (q_proj): lora.Linear(\n",
       "            (base_layer): Linear(in_features=2048, out_features=2048, bias=False)\n",
       "            (lora_dropout): ModuleDict(\n",
       "              (default): Dropout(p=0.05, inplace=False)\n",
       "            )\n",
       "            (lora_A): ModuleDict(\n",
       "              (default): Linear(in_features=2048, out_features=8, bias=False)\n",
       "            )\n",
       "            (lora_B): ModuleDict(\n",
       "              (default): Linear(in_features=8, out_features=2048, bias=False)\n",
       "            )\n",
       "            (lora_embedding_A): ParameterDict()\n",
       "            (lora_embedding_B): ParameterDict()\n",
       "            (lora_magnitude_vector): ModuleDict()\n",
       "          )\n",
       "          (k_proj): Linear(in_features=2048, out_features=512, bias=False)\n",
       "          (v_proj): lora.Linear(\n",
       "            (base_layer): Linear(in_features=2048, out_features=512, bias=False)\n",
       "            (lora_dropout): ModuleDict(\n",
       "              (default): Dropout(p=0.05, inplace=False)\n",
       "            )\n",
       "            (lora_A): ModuleDict(\n",
       "              (default): Linear(in_features=2048, out_features=8, bias=False)\n",
       "            )\n",
       "            (lora_B): ModuleDict(\n",
       "              (default): Linear(in_features=8, out_features=512, bias=False)\n",
       "            )\n",
       "            (lora_embedding_A): ParameterDict()\n",
       "            (lora_embedding_B): ParameterDict()\n",
       "            (lora_magnitude_vector): ModuleDict()\n",
       "          )\n",
       "          (o_proj): Linear(in_features=2048, out_features=2048, bias=False)\n",
       "        )\n",
       "        (mlp): LlamaMLP(\n",
       "          (gate_proj): Linear(in_features=2048, out_features=8192, bias=False)\n",
       "          (up_proj): Linear(in_features=2048, out_features=8192, bias=False)\n",
       "          (down_proj): Linear(in_features=8192, out_features=2048, bias=False)\n",
       "          (act_fn): SiLU()\n",
       "        )\n",
       "        (input_layernorm): LlamaRMSNorm((2048,), eps=1e-05)\n",
       "        (post_attention_layernorm): LlamaRMSNorm((2048,), eps=1e-05)\n",
       "      )\n",
       "    )\n",
       "    (norm): LlamaRMSNorm((2048,), eps=1e-05)\n",
       "    (rotary_emb): LlamaRotaryEmbedding()\n",
       "  )\n",
       "  (lm_head): Linear(in_features=2048, out_features=128256, bias=False)\n",
       ")"
      ]
     },
     "execution_count": 2,
     "metadata": {},
     "output_type": "execute_result"
    }
   ],
   "source": [
    "trained_model = \"./llama-student-phase1\"\n",
    "tokenizer = AutoTokenizer.from_pretrained(trained_model)\n",
    "model = AutoModelForCausalLM.from_pretrained(trained_model)\n",
    "model.eval()"
   ]
  },
  {
   "cell_type": "code",
   "execution_count": 3,
   "metadata": {},
   "outputs": [],
   "source": [
    "# ====== Load dataset ======\n",
    "def load_partition(path: str) -> Dataset:\n",
    "    df = pd.read_csv(path)\n",
    "    return Dataset.from_pandas(df)\n",
    "\n",
    "dataset = load_partition(\"./merged_dataset.csv\")\n",
    "\n",
    "# Select the first 10 rows only\n",
    "subset_df = dataset.to_pandas().head(10)"
   ]
  },
  {
   "cell_type": "code",
   "execution_count": 5,
   "metadata": {},
   "outputs": [
    {
     "name": "stderr",
     "output_type": "stream",
     "text": [
      "Setting `pad_token_id` to `eos_token_id`:128001 for open-end generation.\n"
     ]
    },
    {
     "name": "stderr",
     "output_type": "stream",
     "text": [
      "Setting `pad_token_id` to `eos_token_id`:128001 for open-end generation.\n",
      "Setting `pad_token_id` to `eos_token_id`:128001 for open-end generation.\n",
      "Setting `pad_token_id` to `eos_token_id`:128001 for open-end generation.\n",
      "Setting `pad_token_id` to `eos_token_id`:128001 for open-end generation.\n",
      "Setting `pad_token_id` to `eos_token_id`:128001 for open-end generation.\n",
      "Setting `pad_token_id` to `eos_token_id`:128001 for open-end generation.\n",
      "Setting `pad_token_id` to `eos_token_id`:128001 for open-end generation.\n",
      "Setting `pad_token_id` to `eos_token_id`:128001 for open-end generation.\n",
      "Setting `pad_token_id` to `eos_token_id`:128001 for open-end generation.\n"
     ]
    },
    {
     "name": "stdout",
     "output_type": "stream",
     "text": [
      "Inference for first 10 data points completed.\n"
     ]
    }
   ],
   "source": [
    "# Perform inference step here\n",
    "def generate_output(text):\n",
    "    inputs = tokenizer(text, return_tensors=\"pt\", padding=True, truncation=True)\n",
    "    with torch.no_grad():\n",
    "        output = model.generate(**inputs, max_length=200)\n",
    "    return tokenizer.decode(output[0], skip_special_tokens=True)\n",
    "\n",
    "predictions = []\n",
    "\n",
    "for index, row in subset_df.iterrows():\n",
    "    text_input = row[\"string\"]\n",
    "    \n",
    "    # Generate reasoning and classification\n",
    "    generated_text = generate_output(text_input)\n",
    "    \n",
    "    predictions.append(generated_text)\n",
    "\n",
    "# Add predictions to dataframe and save\n",
    "subset_df[\"generated_reasoning\"] = predictions\n",
    "subset_df.to_csv(\"first_10_inference_results.csv\", index=False)\n",
    "\n",
    "print(\"Inference for first 10 data points completed.\")\n",
    "# Save results\n",
    "# dataset = dataset.add_column(\"generated_reasoning\", predictions)\n",
    "# output_csv_path = \"./llama-student-phase2.csv\"\n",
    "# dataset.to_pandas().to_csv(output_csv_path, index=False)\n",
    "\n",
    "# print(f\"Inference completed. Results saved to {output_csv_path}\")"
   ]
  },
  {
   "cell_type": "code",
   "execution_count": 10,
   "metadata": {},
   "outputs": [
    {
     "name": "stdout",
     "output_type": "stream",
     "text": [
      "Index 0: However, how frataxin interacts with the Fe-S cluster biosynthesis components remains unclear as direct one-to-one interactions with each component were reported (IscS [12,22], IscU/Isu1 [6,11,16] or ISD11/Isd11 [14,15]). The presence of a frataxin domain in the ISD11/Isd11 protein suggests that it may be involved in the biosynthesis of the Fe-S cluster.\n",
      "The role of frataxin in the biosynthesis of the Fe-S cluster has been investigated in the context of the ISD11/Isd11 protein, which is a key component of the Fe-S cluster biosynthesis pathway in yeast [15]. The ISD11/Isd11 protein is a frataxin domain-containing protein, and it is involved in the biosynthesis of the Fe-S cluster in yeast.\n",
      "The ISD11/Isd11 protein is a frataxin domain-containing protein \n",
      "\n",
      "Index 1: In the study by Hickey et al. (2012), spikes were sampled from the field at the point of physiological\n",
      "robinson et al.: genomic regions influencing root traits in barley 11 of 13\n",
      "maturity, dried, grain threshed by hand, and stored at −20C to preserve grain dormancy before germination testing. The grain was then dried to a moisture content of 10% and stored at −20C.\n",
      "The grain was then stored at 4°C and 60% moisture content for 6 months to simulate the conditions of the field. The grain was then dried to a moisture content of 10% and stored at 4°C to simulate the conditions of the storage facility. The grain was then stored at 4°C and 60% moisture content for 6 months to simulate the conditions of the storage facility. The grain was then stored at 4°C to simulate the conditions of the storage facility. The grain was stored at 4 \n",
      "\n",
      "Index 2: The drug also reduces catecholamine secretion, thereby reducing stress and leading to a modest (10-20%) reduction in heart rate and blood pressure, which may be particularly beneficial in patients with cardiovascular disease.(7) Unlike midazolam, dexmedetomidine does not affect the ventilatory response to carbon dioxide. Therefore, it is an excellent choice for patients who require sedation but are sensitive to hypoxemia and cannot be adequately sedated with midazolam.\n",
      "Dexmedetomidine is a potent alpha-2 adrenergic agonist with sedative, analgesic, and anxiolytic properties. It has a unique pharmacological profile that makes it an excellent choice for patients requiring sedation, particularly those with cardiovascular disease.\n",
      "Dexmedetomidine has several benefits that make it an attractive option for patients:\n",
      "1. Cardiovascular stability: It does not significantly lower blood pressure, which is beneficial in patients with cardiovascular disease.\n",
      "2. \n",
      "\n",
      "Index 3: By clustering with lowly aggressive close kin (King 1989a,b; Viblanc et al. 2010; Arnaud, Dobson & Murie 2012), breeding females may decrease the time/energy cost of maintaining territorial boundaries (Festa-Bianchet & Boag 1982; Murie & Harris 1988), which could ultimately lead to increases in net energy income (TA) or higher allocations in somatic or reproductive functions. In contrast, breeding males may be more affected by the increased energy costs of maintaining territory (Festa-Bianchet & Boag 1982; Harris & Arnaud 2010; Arnaud, Dobson & Murie 2012), leading to potential decreases in TA or allocations in somatic or reproductive functions.\n",
      "In the context of the current study, the experiment provided a controlled environment for the breeding females to maintain their territory and allocate resources to their offspring, allowing us to examine the effects of \n",
      "\n",
      "Index 4: Ophthalmic symptoms are rare manifestations of the intracranial arachnoid cyst, and include unilateral exophthalmos, visual field abnormality, decreased visual acuity and isolated palsies of the third, fourth and sixth cranial nerves [1–5]. The most common presentation of intracranial arachnoid cysts is a non-specific combination of symptoms, which can include:\n",
      "- Decreased visual acuity (5-15%)\n",
      "- Decreased visual field (10-20%)\n",
      "- Decreased or absent pupillary reflexes (10-20%)\n",
      "- Decreased or absent corneal reflexes (5-10%)\n",
      "- Decreased or absent ophthalmic reflexes (5-10%)\n",
      "- Decreased or absent oculomotor reflexes (5-10%)\n",
      "- Decreased or absent cranial nerve III (oculomotor) reflexes (5-10%)\n",
      "- Decreased or absent cranial nerve VI (abducens) \n",
      "\n",
      "Index 5: Recent studies identified Wee1 as a potential molecular target in cancer cells and the selective small molecule Wee1-inhibitor MK-1775 demonstrated promising results in cancer cells with enhanced levels of Wee1 (96-98). However, Wee1 is also present in non-cancer cells and has been implicated in various cellular processes, including cell growth, differentiation, and apoptosis (99-101).\n",
      "Wee1 is a cytosolic enzyme that plays a critical role in the cell cycle, particularly in the G2/M phase, by promoting the phosphorylation of the cell cycle regulators Cdc2 and Cdc25 (102-104). In addition to its role in the cell cycle, Wee1 has been implicated in the regulation of apoptosis, which is a critical process in maintaining tissue homeostasis and preventing cancer (105-108).\n",
      "Wee1 is a highly conserved enzyme that exists in all eukaryotic cells, including humans (109-112). However \n",
      "\n",
      "Index 6: These problems combine to make early diagnosis essential and immediate treatment a necessity, even for the youngest patients [17, 18]. However, the current literature does not address the specific needs of young children with these conditions, which makes it challenging to develop an effective early intervention program.\n",
      "The current literature does not address the specific needs of young children with these conditions, which makes it challenging to develop an effective early intervention program.\n",
      "The current literature does not address the specific needs of young children with these conditions, which makes it challenging to develop an effective early intervention program.\n",
      "The current literature does not address the specific needs of young children with these conditions, which makes it challenging to develop an effective early intervention program.\n",
      "The current literature does not address the specific needs of young children with these conditions, which makes it challenging to develop an effective early intervention program.\n",
      "The current literature does not address the specific needs of young children with these conditions, which makes it challenging to develop an effective early intervention program.\n",
      "The current literature does \n",
      "\n",
      "Index 7: Also, results demonstrated that the molecular weight and G/M ratio were important factors in controlling the antioxidant properties of sodium alginate (Şen 2011). \n",
      "\n",
      "Index 8: Recently, the light-induced method, which is based on the changes of surface wettability of certain materials [12], has been developed and provides amore convenient approach for cell harvesting [13]. However, the efficiency of the light-induced method is still limited by the difficulty in controlling the light intensity, the wavelength, and the duration of the light exposure, which can lead to the non-uniformity of the light intensity distribution and the cell harvesting area.\n",
      "To improve the efficiency of the light-induced method, the light intensity distribution, the wavelength, and the duration of the light exposure need to be controlled and optimized. The wavelength of the light is a critical parameter that affects the light intensity distribution and the cell harvesting area. The wavelength of the light is typically chosen based on the absorption spectrum of the material being harvested, but the wavelength should be chosen to optimize the absorption and minimize the absorption of other materials.\n",
      "The absorption spectrum of the material being harvested is typically determined by the absorption cross-section, which is \n",
      "\n",
      "Index 9: Currently, with advances in radiotherapeutic, chemotherapeutic, and surgical techniques, limb-salvage surgery has become an accepted treatment [2–9]. The goal of limb-salvage surgery is to preserve the function and appearance of the limb, thereby improving the patient's quality of life.\n",
      "Limb-salvage surgery is typically performed in patients with severe limb-threatening injuries, such as:\n",
      "1. Complex fractures: Fractures that require extensive soft tissue damage, such as open fractures, or fractures with significant soft tissue loss.\n",
      "2. Tumors: Tumors that have invaded the soft tissues and have caused significant damage to the limb.\n",
      "3. Infections: Infections that have caused severe soft tissue damage and have led to significant loss of function.\n",
      "4. Vascular injuries: Injuries that have caused significant damage to the blood vessels and have led to severe ischemia.\n",
      "5. Tendon or ligament injuries: Injuries that have caused significant damage \n",
      "\n"
     ]
    }
   ],
   "source": [
    "for i, prediction in enumerate(predictions):\n",
    "    print(f\"Index {i}: {prediction} \\n\")"
   ]
  }
 ],
 "metadata": {
  "kernelspec": {
   "display_name": "Python 3",
   "language": "python",
   "name": "python3"
  },
  "language_info": {
   "codemirror_mode": {
    "name": "ipython",
    "version": 3
   },
   "file_extension": ".py",
   "mimetype": "text/x-python",
   "name": "python",
   "nbconvert_exporter": "python",
   "pygments_lexer": "ipython3",
   "version": "3.11.0"
  }
 },
 "nbformat": 4,
 "nbformat_minor": 2
}
