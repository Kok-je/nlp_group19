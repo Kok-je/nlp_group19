{
 "cells": [
  {
   "cell_type": "code",
   "execution_count": null,
   "metadata": {},
   "outputs": [],
   "source": [
    "import torch\n",
    "import pandas as pd\n",
    "from datasets import Dataset\n",
    "from transformers import AutoModelForCausalLM, AutoTokenizer"
   ]
  },
  {
   "cell_type": "code",
   "execution_count": null,
   "metadata": {},
   "outputs": [],
   "source": [
    "trained_model = \"./llama-student-phase1\"\n",
    "tokenizer = AutoTokenizer.from_pretrained(trained_model)\n",
    "model = AutoModelForCausalLM.from_pretrained(trained_model)\n",
    "model.eval()"
   ]
  },
  {
   "cell_type": "code",
   "execution_count": null,
   "metadata": {},
   "outputs": [],
   "source": [
    "# ====== Load dataset ======\n",
    "def load_partition(path: str) -> Dataset:\n",
    "    df = pd.read_csv(path)\n",
    "    return Dataset.from_pandas(df)\n",
    "\n",
    "dataset = load_partition(\"./merged_dataset.csv\")"
   ]
  },
  {
   "cell_type": "code",
   "execution_count": null,
   "metadata": {},
   "outputs": [],
   "source": [
    "# Perform inference step here\n",
    "def generate_output(text):\n",
    "    inputs = tokenizer(text, return_tensors=\"pt\", padding=True, truncation=True)\n",
    "    with torch.no_grad():\n",
    "        output = model.generate(**inputs, max_length=200)\n",
    "    return tokenizer.decode(output[0], skip_special_tokens=True)\n",
    "\n",
    "predictions = []\n",
    "\n",
    "for row in dataset:\n",
    "    text_input = row[\"string\"]\n",
    "    \n",
    "    # Generate reasoning and classification\n",
    "    generated_text = generate_output(text_input)\n",
    "    \n",
    "    predictions.append(generated_text)\n",
    "\n",
    "# Save results\n",
    "dataset = dataset.add_column(\"generated_reasoning\", predictions)\n",
    "output_csv_path = \"./llama-student-phase2.csv\"\n",
    "dataset.to_pandas().to_csv(output_csv_path, index=False)\n",
    "\n",
    "print(f\"Inference completed. Results saved to {output_csv_path}\")"
   ]
  }
 ],
 "metadata": {
  "kernelspec": {
   "display_name": "Python 3",
   "language": "python",
   "name": "python3"
  },
  "language_info": {
   "codemirror_mode": {
    "name": "ipython",
    "version": 3
   },
   "file_extension": ".py",
   "mimetype": "text/x-python",
   "name": "python",
   "nbconvert_exporter": "python",
   "pygments_lexer": "ipython3",
   "version": "3.11.0"
  }
 },
 "nbformat": 4,
 "nbformat_minor": 2
}
