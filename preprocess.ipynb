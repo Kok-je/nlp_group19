{
 "cells": [
  {
   "cell_type": "code",
   "metadata": {
    "ExecuteTime": {
     "end_time": "2025-04-07T12:14:37.027528Z",
     "start_time": "2025-04-07T12:14:36.281623Z"
    }
   },
   "source": [
    "import pandas as pd    \n",
    "from model import initialize_model, call_llm\n"
   ],
   "outputs": [],
   "execution_count": 1
  },
  {
   "cell_type": "code",
   "metadata": {
    "ExecuteTime": {
     "end_time": "2025-04-07T12:14:37.036758Z",
     "start_time": "2025-04-07T12:14:37.034520Z"
    }
   },
   "source": [
    "\n",
    "def preprocess(file_path):\n",
    "    data = pd.read_json(path_or_buf=file_path, lines=True)\n",
    "    ids = set()\n",
    "    rows_to_be_dropped = []\n",
    "    for i in range(len(data)):\n",
    "        row = data.iloc[i]\n",
    "        if row.unique_id in ids:\n",
    "            rows_to_be_dropped.append(i)\n",
    "        else:\n",
    "            ids.add(row.unique_id)\n",
    "    data = data.drop(rows_to_be_dropped)\n",
    "    return data"
   ],
   "outputs": [],
   "execution_count": 2
  },
  {
   "metadata": {},
   "cell_type": "code",
   "outputs": [],
   "execution_count": null,
   "source": "data = preprocess(\"./data/train.jsonl\")"
  },
  {
   "metadata": {
    "ExecuteTime": {
     "end_time": "2025-04-07T12:15:35.755130Z",
     "start_time": "2025-04-07T12:15:35.745689Z"
    }
   },
   "cell_type": "code",
   "source": "len(data)",
   "outputs": [
    {
     "data": {
      "text/plain": [
       "8194"
      ]
     },
     "execution_count": 5,
     "metadata": {},
     "output_type": "execute_result"
    }
   ],
   "execution_count": 5
  },
  {
   "metadata": {
    "ExecuteTime": {
     "end_time": "2025-04-07T12:16:54.101171Z",
     "start_time": "2025-04-07T12:16:54.061113Z"
    }
   },
   "cell_type": "code",
   "source": "data.to_json(\"./data/train_cleaned.jsonl\", orient=\"records\", lines=True)",
   "outputs": [],
   "execution_count": 8
  },
  {
   "metadata": {},
   "cell_type": "code",
   "outputs": [],
   "execution_count": null,
   "source": "print(set([x for x in data[\"label\"]]))"
  },
  {
   "metadata": {},
   "cell_type": "code",
   "outputs": [],
   "execution_count": null,
   "source": "print(len(data))"
  },
  {
   "cell_type": "code",
   "execution_count": 5,
   "metadata": {},
   "outputs": [
    {
     "name": "stdout",
     "output_type": "stream",
     "text": [
      "     source  citeEnd                                        sectionName  \\\n",
      "0  explicit    175.0                                       Introduction   \n",
      "1  explicit     36.0  Novel Quantitative Trait Loci for Seminal Root...   \n",
      "2  explicit    228.0                                       Introduction   \n",
      "3  explicit    110.0                                         Discussion   \n",
      "4  explicit    239.0                                         Discussion   \n",
      "\n",
      "   citeStart                                             string       label  \\\n",
      "0      168.0  However, how frataxin interacts with the Fe-S ...  background   \n",
      "1       16.0  In the study by Hickey et al. (2012), spikes w...  background   \n",
      "2      225.0  The drug also reduces catecholamine secretion,...  background   \n",
      "3       46.0  By clustering with lowly aggressive close kin ...  background   \n",
      "4      234.0  Ophthalmic symptoms are rare manifestations of...  background   \n",
      "\n",
      "   label_confidence                             citingPaperId  \\\n",
      "0               1.0  1872080baa7d30ec8fb87be9a65358cd3a7fb649   \n",
      "1               1.0  ce1d09a4a3a8d7fd3405b9328f65f00c952cf64b   \n",
      "2               1.0  9cdf605beb1aa1078f235c4332b3024daa8b31dc   \n",
      "3               1.0  d9f3207db0c79a3b154f3875c9760cc6b056904b   \n",
      "4               1.0  88b86556857f4374842d2af2e359576806239175   \n",
      "\n",
      "                               citedPaperId  isKeyCitation  \\\n",
      "0  894be9b4ea46a5c422e81ef3c241072d4c73fdc0           True   \n",
      "1  b6642e19efb8db5623b3cc4eef1c5822a6151107           True   \n",
      "2  4e6a17fb8d7a3cada601d942e22eb5da6d01adbd          False   \n",
      "3  2cc6ff899bf17666ad35893524a4d61624555ed7          False   \n",
      "4  a5bb0ff1a026944d2a47a155462959af2b8505a8          False   \n",
      "\n",
      "                                                  id  \\\n",
      "0  1872080baa7d30ec8fb87be9a65358cd3a7fb649>894be...   \n",
      "1  ce1d09a4a3a8d7fd3405b9328f65f00c952cf64b>b6642...   \n",
      "2  9cdf605beb1aa1078f235c4332b3024daa8b31dc>4e6a1...   \n",
      "3  d9f3207db0c79a3b154f3875c9760cc6b056904b>2cc6f...   \n",
      "4  88b86556857f4374842d2af2e359576806239175>a5bb0...   \n",
      "\n",
      "                                           unique_id  excerpt_index label2  \\\n",
      "0  1872080baa7d30ec8fb87be9a65358cd3a7fb649>894be...             11    NaN   \n",
      "1  ce1d09a4a3a8d7fd3405b9328f65f00c952cf64b>b6642...              2    NaN   \n",
      "2  9cdf605beb1aa1078f235c4332b3024daa8b31dc>4e6a1...              0    NaN   \n",
      "3  d9f3207db0c79a3b154f3875c9760cc6b056904b>2cc6f...              3    NaN   \n",
      "4  88b86556857f4374842d2af2e359576806239175>a5bb0...              2    NaN   \n",
      "\n",
      "   label2_confidence  \n",
      "0                NaN  \n",
      "1                NaN  \n",
      "2                NaN  \n",
      "3                NaN  \n",
      "4                NaN  \n"
     ]
    }
   ],
   "source": [
    "print(data.head())"
   ]
  },
  {
   "cell_type": "code",
   "execution_count": 11,
   "metadata": {},
   "outputs": [
    {
     "name": "stdout",
     "output_type": "stream",
     "text": [
      "However, how frataxin interacts with the Fe-S cluster biosynthesis components remains unclear as direct one-to-one interactions with each component were reported (IscS [12,22], IscU/Isu1 [6,11,16] or ISD11/Isd11 [14,15]).\n"
     ]
    }
   ],
   "source": [
    "print(data.iloc[0].string)"
   ]
  },
  {
   "cell_type": "code",
   "execution_count": 12,
   "metadata": {},
   "outputs": [
    {
     "name": "stdout",
     "output_type": "stream",
     "text": [
      "8243\n"
     ]
    }
   ],
   "source": [
    "print(len(data))"
   ]
  },
  {
   "cell_type": "code",
   "execution_count": 7,
   "metadata": {},
   "outputs": [
    {
     "ename": "NameError",
     "evalue": "name 'data' is not defined",
     "output_type": "error",
     "traceback": [
      "\u001B[31m---------------------------------------------------------------------------\u001B[39m",
      "\u001B[31mNameError\u001B[39m                                 Traceback (most recent call last)",
      "\u001B[36mCell\u001B[39m\u001B[36m \u001B[39m\u001B[32mIn[7]\u001B[39m\u001B[32m, line 6\u001B[39m\n\u001B[32m      4\u001B[39m client, _ = initialize_model(\u001B[33m\"\u001B[39m\u001B[33m\"\u001B[39m)\n\u001B[32m      5\u001B[39m \u001B[38;5;28;01mfor\u001B[39;00m i \u001B[38;5;129;01min\u001B[39;00m \u001B[38;5;28mrange\u001B[39m(\u001B[32m50\u001B[39m):\n\u001B[32m----> \u001B[39m\u001B[32m6\u001B[39m     current_data = \u001B[43mdata\u001B[49m.iloc[i]\n\u001B[32m      7\u001B[39m     response = call_llm(client, \u001B[33m\"\u001B[39m\u001B[33m\"\u001B[39m, current_data.string, current_data.sectionName)\n\u001B[32m      8\u001B[39m     raw_output.append(response)\n",
      "\u001B[31mNameError\u001B[39m: name 'data' is not defined"
     ]
    }
   ],
   "source": [
    "labels = []\n",
    "reasonings = []\n",
    "raw_output = []\n",
    "client, _ = initialize_model(\"\")\n",
    "for i in range(50):\n",
    "    current_data = data.iloc[i]\n",
    "    response = call_llm(client, \"\", current_data.string, current_data.sectionName)\n",
    "    raw_output.append(response)\n",
    "    labels.append(response[0])\n",
    "    reasonings.append(response[1])"
   ]
  },
  {
   "cell_type": "code",
   "execution_count": 19,
   "metadata": {},
   "outputs": [],
   "source": [
    "reasonings = [\" \".join([x.strip() for x in y[1:]]) for y in raw_output]"
   ]
  },
  {
   "cell_type": "code",
   "execution_count": 20,
   "metadata": {},
   "outputs": [
    {
     "name": "stdout",
     "output_type": "stream",
     "text": [
      "['This is the introduction section, providing an overview of the current knowledge gap in the field, and setting the stage for the rest of the text.', ' This study appears to be providing background information on the context and methods used to collect the data, including the specific procedures used to sample, dry, and store the grains, as well as the purpose of the study.', 'This is the introduction section that describes the benefits and effects of the drug, specifically its impact on heart rate and blood pressure, making it a result.', 'This text provides the conclusion or outcome of the research, specifically discussing the potential benefits of breeding females clustering with lowly aggressive close kin.', 'This is a transitional sentence that serves to introduce the discussion, summarizing the key points discussed in the previous section, which is a common approach in academic writing.', 'This is the reasoning  The classification is \"result\" because the text describes the outcome of a study, specifically the results of treating cancer cells with the Wee1 inhibitor MK-1775. The text presents new information about the effects of the inhibitor, which is typical of a \"Results\" section.', 'This section appears to be the discussion section of a research paper, specifically focusing on the importance of early diagnosis and immediate treatment, citing references [17, 18]. The language used is formal and academic, indicating a methodological or interpretive section, rather than a background or result section.', 'The text refers to a specific outcome or result, mentioning a study by Şen (2011) and highlighting the importance of molecular weight and G/M ratio in controlling the antioxidant properties of sodium alginate. The text does not introduce or provide background information or describe a method, but rather reports on what was found.', 'This is the reasoning', 'This text is part of the introduction, setting the stage for the discussion that follows, which makes it a result.', 'This classification is because the text is discussing the implications for explaining cooperation, which is a central question in the field of cooperation and its study. The text is providing an overview of the concepts and theories related to cooperation, and classifying them in terms of psychological mechanisms, which is a specific approach to understanding the phenomenon of cooperation.', 'This is the reasoning  The text appears to be an introduction to a scientific study as it broadly mentions the context of mitochondrial division, referencing several previous studies. The tone is informative and sets the stage for the research being presented. Additionally, the section name \"Introduction\" further supports the classification as \"result\".', 'This is a statement of the results of an experiment or research, providing information about the outcome of the extraction of caveolae, specifically about the bulk plasma membranes that remain.', 'This is because the given text talks about the methodology used in the research, specifically the algorithm used to segment organs from coronal slices, without any specific results being presented. It provides the background information necessary to understand the methods used in the research.', 'This is the reasoning  The section name \"For women with competing care-giving responsibilities\" suggests that the text is providing a specific solution or approach for a particular group of women, rather than providing general background information on the topic. The use of phrases such as \"allowing them to be accompanied by their children\" and \"providing on-site childcare\" further supports the idea that the text is focused on a particular method or strategy. Additionally, the use of a single sentence to make', 'This is providing a general background information about the effects of a particular change on mitochondrial function, including the production of reactive oxygen species (ROS) and reactive nitrogen species (RNS). It is providing a general context for the reader to understand the topic, rather than presenting a specific method or result.', 'This is the reasoning The text specifically states that there is no high-quality evidence for the effectiveness of manipulative therapy for the treatment of CR, which implies that the effectiveness is unknown or not supported by evidence.', 'The text classifies as \"method\" because it is summarizing the previous research and establishing the consistency of the current findings with existing knowledge in the field. The phrase \"our data showed\" suggests that the author is presenting the results of their own research, which is a methodology-based approach.', 'The text appears to be discussing the significance and implications of a previously mentioned study or discovery (SCP160 having been implicated in a network). This type of text is often used to summarise the findings of a study, relate them to existing knowledge, and provide context for future research, which is a characteristic of the \"method\" section.', 'This is the reasoning', 'This is the reasoning', 'The text does not present a specific result or conclusion, but rather provides a context about the third group of proteins and their importance in coping with alterations in electron flow.', 'This is the reasoning Due to the statement of the results being consistent with previous field and laboratory observations, it falls under the category of a \"results\" section in research papers.', 'This is the reasoning The text appears to be summarizing a specific study or research finding (decrease in SC absorption in mice), which is typical of a results section. Additionally, the text mentions specific articles (Deng et al., 2010; Deng et al., 2012) that provide evidence to support the claim, further supporting the classification as a result.', 'This is the reasoning  The text identifies a specific finding or result, specifically that SNPs of MMP-1 are linked to an increased risk of colorectal cancer, which is the main point of the introduction section.', 'This is the conclusion or result of a study or research, summarizing the main findings.', 'This is the reasoning  The text is classified as \"method\" because it discusses the supportive modality called PBM and its established role in the management of postmastectomy lymphedema and radiation-induced oral mucositis, along with citing references to support the claims. The text is presenting a methodology or a supportive modality used in a specific condition, which is typical of the \"method\" category.', 'This is the reasoning', 'This text appears to be the result of a study or research, as it mentions the use of language models, Corpus of Spontaneous Japanese, and provides a reference citation [23], indicating that it is presenting a specific outcome or finding.', 'This text is introducing the main topic of the section, which is the use of Cisplatin as a treatment, and providing supporting information that it has been used to treat various types of solid tumors, which is the main result of the research.', 'This section is introducing the main topic and providing background information on a recent phenomenon, which is then analyzed and built upon in later sections.', 'This is the reasoning', 'This is the reasoning', 'This section is presenting specific results of the study and referring to a previous description of the method.', 'The text is a discussion of previously published research results, specifically contradictory results that were observed in bovines.', 'This is the introduction of the main finding of the paper, summarizing the relationship between the number of EPIYA motifs and CagA phosphorylation.', 'This text is a statement of the results obtained in a research, specifically mentioning specific interactions between proteins and their effects, which is a typical characteristic of the results section.', 'This is the reasoning  The text appears to be discussing and interpreting existing research, specifically the study by Blickstein et al, while also providing context and adding new insights. The language used, such as \"in keeping with\" and \"showed\", suggests a narrative and analytical approach, which is typical of methods sections.', \"This is the reasoning  The text appears to be the conclusion or result of a previous study, as it is quoting a previous study and comparing it to the authors' own results, suggesting that the main purpose of the text is to discuss the relationship between the results of the study and existing knowledge.\", 'This is the reasoning  The text appears to be discussing the occurrence of soft tissue tumors in a specific context, which is related to a medical procedure. The text cites multiple references and provides specific examples, indicating that it is presenting a method of research or a discussion of existing literature in the field.', 'This is the reasoning', 'Background information about the topic is being provided, mentioning specific studies and authors, which is typical of an introduction section.', 'This is the reasoning  The text is classified as a result because it presents the outcome of the study, specifically the switch in prevalence of DENV serotypes over the years. The text summarizes the data and provides a conclusion, making it a result section.', 'Presenting an overview of existing applications is a necessary step before introducing a new approach, and the text is doing exactly that, showcasing research on neural meanfield models and anesthetized-induced EEG changes, indicating a summary or demonstration of a larger scope.', 'This is the reasoning due to the fact that the text is presenting the conclusion and implications of the previous research, specifically summarizing the effects of atranorin on phytophagous arthropods and snails.', 'The text discusses the geographical locations where research has been conducted, providing a general overview of the field of study.', 'The text provides specific numerical data comparing the bandwidth towards the L0 scratchpad memory to the minimal bandwidth, indicating a technical approach described in the method section.', 'This text presents a list of resources related to the topic, with references to specific studies and authors, which is typical of a methodological section in a scientific paper.', 'This is because the text provides information about the results of experiments or research, specifically the process of transforming the training set trees for optimal performance within the model class.', 'This is the reasoning']\n"
     ]
    }
   ],
   "source": [
    "print(reasonings)"
   ]
  },
  {
   "cell_type": "code",
   "execution_count": 14,
   "metadata": {},
   "outputs": [
    {
     "name": "stdout",
     "output_type": "stream",
     "text": [
      "['This is the introduction section, providing an overview of the current knowledge gap in the field, and setting the stage for the rest of the text.', '', 'This is the introduction section that describes the benefits and effects of the drug, specifically its impact on heart rate and blood pressure, making it a result.', 'This text provides the conclusion or outcome of the research, specifically discussing the potential benefits of breeding females clustering with lowly aggressive close kin.', 'This is a transitional sentence that serves to introduce the discussion, summarizing the key points discussed in the previous section, which is a common approach in academic writing.', 'This is the reasoning', 'This section appears to be the discussion section of a research paper, specifically focusing on the importance of early diagnosis and immediate treatment, citing references [17, 18]. The language used is formal and academic, indicating a methodological or interpretive section, rather than a background or result section.', 'The text refers to a specific outcome or result, mentioning a study by Şen (2011) and highlighting the importance of molecular weight and G/M ratio in controlling the antioxidant properties of sodium alginate. The text does not introduce or provide background information or describe a method, but rather reports on what was found.', 'This is the reasoning', 'This text is part of the introduction, setting the stage for the discussion that follows, which makes it a result.', 'This classification is because the text is discussing the implications for explaining cooperation, which is a central question in the field of cooperation and its study. The text is providing an overview of the concepts and theories related to cooperation, and classifying them in terms of psychological mechanisms, which is a specific approach to understanding the phenomenon of cooperation.', 'This is the reasoning', 'This is a statement of the results of an experiment or research, providing information about the outcome of the extraction of caveolae, specifically about the bulk plasma membranes that remain.', 'This is because the given text talks about the methodology used in the research, specifically the algorithm used to segment organs from coronal slices, without any specific results being presented. It provides the background information necessary to understand the methods used in the research.', 'This is the reasoning', 'This is providing a general background information about the effects of a particular change on mitochondrial function, including the production of reactive oxygen species (ROS) and reactive nitrogen species (RNS). It is providing a general context for the reader to understand the topic, rather than presenting a specific method or result.', 'This is the reasoning', 'The text classifies as \"method\" because it is summarizing the previous research and establishing the consistency of the current findings with existing knowledge in the field. The phrase \"our data showed\" suggests that the author is presenting the results of their own research, which is a methodology-based approach.', 'The text appears to be discussing the significance and implications of a previously mentioned study or discovery (SCP160 having been implicated in a network). This type of text is often used to summarise the findings of a study, relate them to existing knowledge, and provide context for future research, which is a characteristic of the \"method\" section.', 'This is the reasoning', 'This is the reasoning', 'The text does not present a specific result or conclusion, but rather provides a context about the third group of proteins and their importance in coping with alterations in electron flow.', 'This is the reasoning Due to the statement of the results being consistent with previous field and laboratory observations, it falls under the category of a \"results\" section in research papers.', 'This is the reasoning', 'This is the reasoning', 'This is the conclusion or result of a study or research, summarizing the main findings.', 'This is the reasoning', 'This is the reasoning', 'This text appears to be the result of a study or research, as it mentions the use of language models, Corpus of Spontaneous Japanese, and provides a reference citation [23], indicating that it is presenting a specific outcome or finding.', 'This text is introducing the main topic of the section, which is the use of Cisplatin as a treatment, and providing supporting information that it has been used to treat various types of solid tumors, which is the main result of the research.', 'This section is introducing the main topic and providing background information on a recent phenomenon, which is then analyzed and built upon in later sections.', 'This is the reasoning', 'This is the reasoning', 'This section is presenting specific results of the study and referring to a previous description of the method.', 'The text is a discussion of previously published research results, specifically contradictory results that were observed in bovines.', 'This is the introduction of the main finding of the paper, summarizing the relationship between the number of EPIYA motifs and CagA phosphorylation.', 'This text is a statement of the results obtained in a research, specifically mentioning specific interactions between proteins and their effects, which is a typical characteristic of the results section.', 'This is the reasoning', 'This is the reasoning', 'This is the reasoning', 'This is the reasoning', 'Background information about the topic is being provided, mentioning specific studies and authors, which is typical of an introduction section.', 'This is the reasoning', 'Presenting an overview of existing applications is a necessary step before introducing a new approach, and the text is doing exactly that, showcasing research on neural meanfield models and anesthetized-induced EEG changes, indicating a summary or demonstration of a larger scope.', 'This is the reasoning due to the fact that the text is presenting the conclusion and implications of the previous research, specifically summarizing the effects of atranorin on phytophagous arthropods and snails.', 'The text discusses the geographical locations where research has been conducted, providing a general overview of the field of study.', 'The text provides specific numerical data comparing the bandwidth towards the L0 scratchpad memory to the minimal bandwidth, indicating a technical approach described in the method section.', 'This text presents a list of resources related to the topic, with references to specific studies and authors, which is typical of a methodological section in a scientific paper.', 'This is because the text provides information about the results of experiments or research, specifically the process of transforming the training set trees for optimal performance within the model class.', 'This is the reasoning']\n"
     ]
    }
   ],
   "source": [
    "print(reasonings)"
   ]
  },
  {
   "cell_type": "code",
   "execution_count": 8,
   "metadata": {},
   "outputs": [
    {
     "name": "stdout",
     "output_type": "stream",
     "text": [
      "['result', 'background', 'result', 'result', 'background', 'result', 'method', 'result', 'method', 'result', 'result', 'result', 'background', 'background', 'result', 'background', 'result', 'method', 'method', 'result', 'result', 'background', 'result', 'result', 'result', 'result', 'method', 'result', 'result', 'result', 'result', 'result', 'result', 'result', 'result', 'result', 'result', 'method', 'result', 'method', 'result', 'result', 'result', 'result', 'result', 'background', 'method', 'method', 'result', 'result', 'result', 'result', 'background', 'result', 'result', 'result', 'result', 'result', 'result', 'result', 'result', 'result', 'result', 'result', 'result', 'result', 'result', 'method', 'method', 'result', 'result', 'result', 'result', 'background', 'result', 'result', 'result', 'result', 'result', 'background', 'result', 'background', 'background', 'result', 'result', 'result', 'method', 'result', 'result', 'result', 'method', 'result', 'method', 'result', 'result', 'result', 'result', 'method', 'method', 'result']\n"
     ]
    }
   ],
   "source": [
    "print(labels)"
   ]
  },
  {
   "cell_type": "code",
   "execution_count": 21,
   "metadata": {},
   "outputs": [],
   "source": [
    "df = pd.DataFrame(zip(labels, reasonings), columns=[\"id\", \"reasoning\"])\n",
    "df.to_csv(\"first_50.csv\", )"
   ]
  }
 ],
 "metadata": {
  "kernelspec": {
   "display_name": "Python 3",
   "language": "python",
   "name": "python3"
  },
  "language_info": {
   "codemirror_mode": {
    "name": "ipython",
    "version": 3
   },
   "file_extension": ".py",
   "mimetype": "text/x-python",
   "name": "python",
   "nbconvert_exporter": "python",
   "pygments_lexer": "ipython3",
   "version": "3.11.11"
  }
 },
 "nbformat": 4,
 "nbformat_minor": 2
}
