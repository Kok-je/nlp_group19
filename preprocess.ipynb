{
 "cells": [
  {
   "cell_type": "code",
   "metadata": {
    "ExecuteTime": {
     "end_time": "2025-04-07T16:51:38.181758Z",
     "start_time": "2025-04-07T16:51:37.465294Z"
    }
   },
   "source": [
    "import pandas as pd\n",
    "\n",
    "from evaluate import evaluate_models\n",
    "from model import initialize_model, call_llm\n"
   ],
   "outputs": [],
   "execution_count": 1
  },
  {
   "cell_type": "code",
   "metadata": {
    "ExecuteTime": {
     "end_time": "2025-04-07T16:51:38.193275Z",
     "start_time": "2025-04-07T16:51:38.190894Z"
    }
   },
   "source": [
    "\n",
    "def preprocess(file_path):\n",
    "    data = pd.read_json(path_or_buf=file_path, lines=True)\n",
    "    ids = set()\n",
    "    rows_to_be_dropped = []\n",
    "    for i in range(len(data)):\n",
    "        row = data.iloc[i]\n",
    "        if row.unique_id in ids:\n",
    "            rows_to_be_dropped.append(i)\n",
    "        else:\n",
    "            ids.add(row.unique_id)\n",
    "    data = data.drop(rows_to_be_dropped)\n",
    "    return data"
   ],
   "outputs": [],
   "execution_count": 2
  },
  {
   "metadata": {
    "ExecuteTime": {
     "end_time": "2025-04-07T16:51:54.487869Z",
     "start_time": "2025-04-07T16:51:54.295633Z"
    }
   },
   "cell_type": "code",
   "source": "data = preprocess(\"./data/train.jsonl\")",
   "outputs": [],
   "execution_count": 7
  },
  {
   "metadata": {
    "ExecuteTime": {
     "end_time": "2025-04-07T16:33:00.293175Z",
     "start_time": "2025-04-07T16:33:00.291058Z"
    }
   },
   "cell_type": "code",
   "source": "len(data)",
   "outputs": [
    {
     "data": {
      "text/plain": [
       "8194"
      ]
     },
     "execution_count": 11,
     "metadata": {},
     "output_type": "execute_result"
    }
   ],
   "execution_count": 11
  },
  {
   "metadata": {
    "ExecuteTime": {
     "end_time": "2025-04-07T12:16:54.101171Z",
     "start_time": "2025-04-07T12:16:54.061113Z"
    }
   },
   "cell_type": "code",
   "source": "data.to_json(\"./data/train_cleaned.jsonl\", orient=\"records\", lines=True)",
   "outputs": [],
   "execution_count": 8
  },
  {
   "metadata": {},
   "cell_type": "code",
   "outputs": [],
   "execution_count": null,
   "source": "print(set([x for x in data[\"label\"]]))"
  },
  {
   "metadata": {},
   "cell_type": "code",
   "outputs": [],
   "execution_count": null,
   "source": "print(len(data))"
  },
  {
   "cell_type": "code",
   "execution_count": 5,
   "metadata": {},
   "outputs": [
    {
     "name": "stdout",
     "output_type": "stream",
     "text": [
      "     source  citeEnd                                        sectionName  \\\n",
      "0  explicit    175.0                                       Introduction   \n",
      "1  explicit     36.0  Novel Quantitative Trait Loci for Seminal Root...   \n",
      "2  explicit    228.0                                       Introduction   \n",
      "3  explicit    110.0                                         Discussion   \n",
      "4  explicit    239.0                                         Discussion   \n",
      "\n",
      "   citeStart                                             string       label  \\\n",
      "0      168.0  However, how frataxin interacts with the Fe-S ...  background   \n",
      "1       16.0  In the study by Hickey et al. (2012), spikes w...  background   \n",
      "2      225.0  The drug also reduces catecholamine secretion,...  background   \n",
      "3       46.0  By clustering with lowly aggressive close kin ...  background   \n",
      "4      234.0  Ophthalmic symptoms are rare manifestations of...  background   \n",
      "\n",
      "   label_confidence                             citingPaperId  \\\n",
      "0               1.0  1872080baa7d30ec8fb87be9a65358cd3a7fb649   \n",
      "1               1.0  ce1d09a4a3a8d7fd3405b9328f65f00c952cf64b   \n",
      "2               1.0  9cdf605beb1aa1078f235c4332b3024daa8b31dc   \n",
      "3               1.0  d9f3207db0c79a3b154f3875c9760cc6b056904b   \n",
      "4               1.0  88b86556857f4374842d2af2e359576806239175   \n",
      "\n",
      "                               citedPaperId  isKeyCitation  \\\n",
      "0  894be9b4ea46a5c422e81ef3c241072d4c73fdc0           True   \n",
      "1  b6642e19efb8db5623b3cc4eef1c5822a6151107           True   \n",
      "2  4e6a17fb8d7a3cada601d942e22eb5da6d01adbd          False   \n",
      "3  2cc6ff899bf17666ad35893524a4d61624555ed7          False   \n",
      "4  a5bb0ff1a026944d2a47a155462959af2b8505a8          False   \n",
      "\n",
      "                                                  id  \\\n",
      "0  1872080baa7d30ec8fb87be9a65358cd3a7fb649>894be...   \n",
      "1  ce1d09a4a3a8d7fd3405b9328f65f00c952cf64b>b6642...   \n",
      "2  9cdf605beb1aa1078f235c4332b3024daa8b31dc>4e6a1...   \n",
      "3  d9f3207db0c79a3b154f3875c9760cc6b056904b>2cc6f...   \n",
      "4  88b86556857f4374842d2af2e359576806239175>a5bb0...   \n",
      "\n",
      "                                           unique_id  excerpt_index label2  \\\n",
      "0  1872080baa7d30ec8fb87be9a65358cd3a7fb649>894be...             11    NaN   \n",
      "1  ce1d09a4a3a8d7fd3405b9328f65f00c952cf64b>b6642...              2    NaN   \n",
      "2  9cdf605beb1aa1078f235c4332b3024daa8b31dc>4e6a1...              0    NaN   \n",
      "3  d9f3207db0c79a3b154f3875c9760cc6b056904b>2cc6f...              3    NaN   \n",
      "4  88b86556857f4374842d2af2e359576806239175>a5bb0...              2    NaN   \n",
      "\n",
      "   label2_confidence  \n",
      "0                NaN  \n",
      "1                NaN  \n",
      "2                NaN  \n",
      "3                NaN  \n",
      "4                NaN  \n"
     ]
    }
   ],
   "source": [
    "print(data.head())"
   ]
  },
  {
   "cell_type": "code",
   "execution_count": 11,
   "metadata": {},
   "outputs": [
    {
     "name": "stdout",
     "output_type": "stream",
     "text": [
      "However, how frataxin interacts with the Fe-S cluster biosynthesis components remains unclear as direct one-to-one interactions with each component were reported (IscS [12,22], IscU/Isu1 [6,11,16] or ISD11/Isd11 [14,15]).\n"
     ]
    }
   ],
   "source": [
    "print(data.iloc[0].string)"
   ]
  },
  {
   "cell_type": "code",
   "execution_count": 12,
   "metadata": {},
   "outputs": [
    {
     "name": "stdout",
     "output_type": "stream",
     "text": [
      "8243\n"
     ]
    }
   ],
   "source": [
    "print(len(data))"
   ]
  },
  {
   "cell_type": "code",
   "execution_count": 7,
   "metadata": {},
   "outputs": [
    {
     "ename": "NameError",
     "evalue": "name 'data' is not defined",
     "output_type": "error",
     "traceback": [
      "\u001B[31m---------------------------------------------------------------------------\u001B[39m",
      "\u001B[31mNameError\u001B[39m                                 Traceback (most recent call last)",
      "\u001B[36mCell\u001B[39m\u001B[36m \u001B[39m\u001B[32mIn[7]\u001B[39m\u001B[32m, line 6\u001B[39m\n\u001B[32m      4\u001B[39m client, _ = initialize_model(\u001B[33m\"\u001B[39m\u001B[33m\"\u001B[39m)\n\u001B[32m      5\u001B[39m \u001B[38;5;28;01mfor\u001B[39;00m i \u001B[38;5;129;01min\u001B[39;00m \u001B[38;5;28mrange\u001B[39m(\u001B[32m50\u001B[39m):\n\u001B[32m----> \u001B[39m\u001B[32m6\u001B[39m     current_data = \u001B[43mdata\u001B[49m.iloc[i]\n\u001B[32m      7\u001B[39m     response = call_llm(client, \u001B[33m\"\u001B[39m\u001B[33m\"\u001B[39m, current_data.string, current_data.sectionName)\n\u001B[32m      8\u001B[39m     raw_output.append(response)\n",
      "\u001B[31mNameError\u001B[39m: name 'data' is not defined"
     ]
    }
   ],
   "source": [
    "labels = []\n",
    "reasonings = []\n",
    "raw_output = []\n",
    "client, _ = initialize_model(\"\")\n",
    "for i in range(50):\n",
    "    current_data = data.iloc[i]\n",
    "    response = call_llm(client, \"\", current_data.string, current_data.sectionName)\n",
    "    raw_output.append(response)\n",
    "    labels.append(response[0])\n",
    "    reasonings.append(response[1])"
   ]
  },
  {
   "cell_type": "code",
   "execution_count": 19,
   "metadata": {},
   "outputs": [],
   "source": [
    "reasonings = [\" \".join([x.strip() for x in y[1:]]) for y in raw_output]"
   ]
  },
  {
   "cell_type": "code",
   "execution_count": 20,
   "metadata": {},
   "outputs": [
    {
     "name": "stdout",
     "output_type": "stream",
     "text": [
      "['This is the introduction section, providing an overview of the current knowledge gap in the field, and setting the stage for the rest of the text.', ' This study appears to be providing background information on the context and methods used to collect the data, including the specific procedures used to sample, dry, and store the grains, as well as the purpose of the study.', 'This is the introduction section that describes the benefits and effects of the drug, specifically its impact on heart rate and blood pressure, making it a result.', 'This text provides the conclusion or outcome of the research, specifically discussing the potential benefits of breeding females clustering with lowly aggressive close kin.', 'This is a transitional sentence that serves to introduce the discussion, summarizing the key points discussed in the previous section, which is a common approach in academic writing.', 'This is the reasoning  The classification is \"result\" because the text describes the outcome of a study, specifically the results of treating cancer cells with the Wee1 inhibitor MK-1775. The text presents new information about the effects of the inhibitor, which is typical of a \"Results\" section.', 'This section appears to be the discussion section of a research paper, specifically focusing on the importance of early diagnosis and immediate treatment, citing references [17, 18]. The language used is formal and academic, indicating a methodological or interpretive section, rather than a background or result section.', 'The text refers to a specific outcome or result, mentioning a study by Şen (2011) and highlighting the importance of molecular weight and G/M ratio in controlling the antioxidant properties of sodium alginate. The text does not introduce or provide background information or describe a method, but rather reports on what was found.', 'This is the reasoning', 'This text is part of the introduction, setting the stage for the discussion that follows, which makes it a result.', 'This classification is because the text is discussing the implications for explaining cooperation, which is a central question in the field of cooperation and its study. The text is providing an overview of the concepts and theories related to cooperation, and classifying them in terms of psychological mechanisms, which is a specific approach to understanding the phenomenon of cooperation.', 'This is the reasoning  The text appears to be an introduction to a scientific study as it broadly mentions the context of mitochondrial division, referencing several previous studies. The tone is informative and sets the stage for the research being presented. Additionally, the section name \"Introduction\" further supports the classification as \"result\".', 'This is a statement of the results of an experiment or research, providing information about the outcome of the extraction of caveolae, specifically about the bulk plasma membranes that remain.', 'This is because the given text talks about the methodology used in the research, specifically the algorithm used to segment organs from coronal slices, without any specific results being presented. It provides the background information necessary to understand the methods used in the research.', 'This is the reasoning  The section name \"For women with competing care-giving responsibilities\" suggests that the text is providing a specific solution or approach for a particular group of women, rather than providing general background information on the topic. The use of phrases such as \"allowing them to be accompanied by their children\" and \"providing on-site childcare\" further supports the idea that the text is focused on a particular method or strategy. Additionally, the use of a single sentence to make', 'This is providing a general background information about the effects of a particular change on mitochondrial function, including the production of reactive oxygen species (ROS) and reactive nitrogen species (RNS). It is providing a general context for the reader to understand the topic, rather than presenting a specific method or result.', 'This is the reasoning The text specifically states that there is no high-quality evidence for the effectiveness of manipulative therapy for the treatment of CR, which implies that the effectiveness is unknown or not supported by evidence.', 'The text classifies as \"method\" because it is summarizing the previous research and establishing the consistency of the current findings with existing knowledge in the field. The phrase \"our data showed\" suggests that the author is presenting the results of their own research, which is a methodology-based approach.', 'The text appears to be discussing the significance and implications of a previously mentioned study or discovery (SCP160 having been implicated in a network). This type of text is often used to summarise the findings of a study, relate them to existing knowledge, and provide context for future research, which is a characteristic of the \"method\" section.', 'This is the reasoning', 'This is the reasoning', 'The text does not present a specific result or conclusion, but rather provides a context about the third group of proteins and their importance in coping with alterations in electron flow.', 'This is the reasoning Due to the statement of the results being consistent with previous field and laboratory observations, it falls under the category of a \"results\" section in research papers.', 'This is the reasoning The text appears to be summarizing a specific study or research finding (decrease in SC absorption in mice), which is typical of a results section. Additionally, the text mentions specific articles (Deng et al., 2010; Deng et al., 2012) that provide evidence to support the claim, further supporting the classification as a result.', 'This is the reasoning  The text identifies a specific finding or result, specifically that SNPs of MMP-1 are linked to an increased risk of colorectal cancer, which is the main point of the introduction section.', 'This is the conclusion or result of a study or research, summarizing the main findings.', 'This is the reasoning  The text is classified as \"method\" because it discusses the supportive modality called PBM and its established role in the management of postmastectomy lymphedema and radiation-induced oral mucositis, along with citing references to support the claims. The text is presenting a methodology or a supportive modality used in a specific condition, which is typical of the \"method\" category.', 'This is the reasoning', 'This text appears to be the result of a study or research, as it mentions the use of language models, Corpus of Spontaneous Japanese, and provides a reference citation [23], indicating that it is presenting a specific outcome or finding.', 'This text is introducing the main topic of the section, which is the use of Cisplatin as a treatment, and providing supporting information that it has been used to treat various types of solid tumors, which is the main result of the research.', 'This section is introducing the main topic and providing background information on a recent phenomenon, which is then analyzed and built upon in later sections.', 'This is the reasoning', 'This is the reasoning', 'This section is presenting specific results of the study and referring to a previous description of the method.', 'The text is a discussion of previously published research results, specifically contradictory results that were observed in bovines.', 'This is the introduction of the main finding of the paper, summarizing the relationship between the number of EPIYA motifs and CagA phosphorylation.', 'This text is a statement of the results obtained in a research, specifically mentioning specific interactions between proteins and their effects, which is a typical characteristic of the results section.', 'This is the reasoning  The text appears to be discussing and interpreting existing research, specifically the study by Blickstein et al, while also providing context and adding new insights. The language used, such as \"in keeping with\" and \"showed\", suggests a narrative and analytical approach, which is typical of methods sections.', \"This is the reasoning  The text appears to be the conclusion or result of a previous study, as it is quoting a previous study and comparing it to the authors' own results, suggesting that the main purpose of the text is to discuss the relationship between the results of the study and existing knowledge.\", 'This is the reasoning  The text appears to be discussing the occurrence of soft tissue tumors in a specific context, which is related to a medical procedure. The text cites multiple references and provides specific examples, indicating that it is presenting a method of research or a discussion of existing literature in the field.', 'This is the reasoning', 'Background information about the topic is being provided, mentioning specific studies and authors, which is typical of an introduction section.', 'This is the reasoning  The text is classified as a result because it presents the outcome of the study, specifically the switch in prevalence of DENV serotypes over the years. The text summarizes the data and provides a conclusion, making it a result section.', 'Presenting an overview of existing applications is a necessary step before introducing a new approach, and the text is doing exactly that, showcasing research on neural meanfield models and anesthetized-induced EEG changes, indicating a summary or demonstration of a larger scope.', 'This is the reasoning due to the fact that the text is presenting the conclusion and implications of the previous research, specifically summarizing the effects of atranorin on phytophagous arthropods and snails.', 'The text discusses the geographical locations where research has been conducted, providing a general overview of the field of study.', 'The text provides specific numerical data comparing the bandwidth towards the L0 scratchpad memory to the minimal bandwidth, indicating a technical approach described in the method section.', 'This text presents a list of resources related to the topic, with references to specific studies and authors, which is typical of a methodological section in a scientific paper.', 'This is because the text provides information about the results of experiments or research, specifically the process of transforming the training set trees for optimal performance within the model class.', 'This is the reasoning']\n"
     ]
    }
   ],
   "source": [
    "print(reasonings)"
   ]
  },
  {
   "cell_type": "code",
   "execution_count": 14,
   "metadata": {},
   "outputs": [
    {
     "name": "stdout",
     "output_type": "stream",
     "text": [
      "['This is the introduction section, providing an overview of the current knowledge gap in the field, and setting the stage for the rest of the text.', '', 'This is the introduction section that describes the benefits and effects of the drug, specifically its impact on heart rate and blood pressure, making it a result.', 'This text provides the conclusion or outcome of the research, specifically discussing the potential benefits of breeding females clustering with lowly aggressive close kin.', 'This is a transitional sentence that serves to introduce the discussion, summarizing the key points discussed in the previous section, which is a common approach in academic writing.', 'This is the reasoning', 'This section appears to be the discussion section of a research paper, specifically focusing on the importance of early diagnosis and immediate treatment, citing references [17, 18]. The language used is formal and academic, indicating a methodological or interpretive section, rather than a background or result section.', 'The text refers to a specific outcome or result, mentioning a study by Şen (2011) and highlighting the importance of molecular weight and G/M ratio in controlling the antioxidant properties of sodium alginate. The text does not introduce or provide background information or describe a method, but rather reports on what was found.', 'This is the reasoning', 'This text is part of the introduction, setting the stage for the discussion that follows, which makes it a result.', 'This classification is because the text is discussing the implications for explaining cooperation, which is a central question in the field of cooperation and its study. The text is providing an overview of the concepts and theories related to cooperation, and classifying them in terms of psychological mechanisms, which is a specific approach to understanding the phenomenon of cooperation.', 'This is the reasoning', 'This is a statement of the results of an experiment or research, providing information about the outcome of the extraction of caveolae, specifically about the bulk plasma membranes that remain.', 'This is because the given text talks about the methodology used in the research, specifically the algorithm used to segment organs from coronal slices, without any specific results being presented. It provides the background information necessary to understand the methods used in the research.', 'This is the reasoning', 'This is providing a general background information about the effects of a particular change on mitochondrial function, including the production of reactive oxygen species (ROS) and reactive nitrogen species (RNS). It is providing a general context for the reader to understand the topic, rather than presenting a specific method or result.', 'This is the reasoning', 'The text classifies as \"method\" because it is summarizing the previous research and establishing the consistency of the current findings with existing knowledge in the field. The phrase \"our data showed\" suggests that the author is presenting the results of their own research, which is a methodology-based approach.', 'The text appears to be discussing the significance and implications of a previously mentioned study or discovery (SCP160 having been implicated in a network). This type of text is often used to summarise the findings of a study, relate them to existing knowledge, and provide context for future research, which is a characteristic of the \"method\" section.', 'This is the reasoning', 'This is the reasoning', 'The text does not present a specific result or conclusion, but rather provides a context about the third group of proteins and their importance in coping with alterations in electron flow.', 'This is the reasoning Due to the statement of the results being consistent with previous field and laboratory observations, it falls under the category of a \"results\" section in research papers.', 'This is the reasoning', 'This is the reasoning', 'This is the conclusion or result of a study or research, summarizing the main findings.', 'This is the reasoning', 'This is the reasoning', 'This text appears to be the result of a study or research, as it mentions the use of language models, Corpus of Spontaneous Japanese, and provides a reference citation [23], indicating that it is presenting a specific outcome or finding.', 'This text is introducing the main topic of the section, which is the use of Cisplatin as a treatment, and providing supporting information that it has been used to treat various types of solid tumors, which is the main result of the research.', 'This section is introducing the main topic and providing background information on a recent phenomenon, which is then analyzed and built upon in later sections.', 'This is the reasoning', 'This is the reasoning', 'This section is presenting specific results of the study and referring to a previous description of the method.', 'The text is a discussion of previously published research results, specifically contradictory results that were observed in bovines.', 'This is the introduction of the main finding of the paper, summarizing the relationship between the number of EPIYA motifs and CagA phosphorylation.', 'This text is a statement of the results obtained in a research, specifically mentioning specific interactions between proteins and their effects, which is a typical characteristic of the results section.', 'This is the reasoning', 'This is the reasoning', 'This is the reasoning', 'This is the reasoning', 'Background information about the topic is being provided, mentioning specific studies and authors, which is typical of an introduction section.', 'This is the reasoning', 'Presenting an overview of existing applications is a necessary step before introducing a new approach, and the text is doing exactly that, showcasing research on neural meanfield models and anesthetized-induced EEG changes, indicating a summary or demonstration of a larger scope.', 'This is the reasoning due to the fact that the text is presenting the conclusion and implications of the previous research, specifically summarizing the effects of atranorin on phytophagous arthropods and snails.', 'The text discusses the geographical locations where research has been conducted, providing a general overview of the field of study.', 'The text provides specific numerical data comparing the bandwidth towards the L0 scratchpad memory to the minimal bandwidth, indicating a technical approach described in the method section.', 'This text presents a list of resources related to the topic, with references to specific studies and authors, which is typical of a methodological section in a scientific paper.', 'This is because the text provides information about the results of experiments or research, specifically the process of transforming the training set trees for optimal performance within the model class.', 'This is the reasoning']\n"
     ]
    }
   ],
   "source": [
    "print(reasonings)"
   ]
  },
  {
   "cell_type": "code",
   "execution_count": 8,
   "metadata": {},
   "outputs": [
    {
     "name": "stdout",
     "output_type": "stream",
     "text": [
      "['result', 'background', 'result', 'result', 'background', 'result', 'method', 'result', 'method', 'result', 'result', 'result', 'background', 'background', 'result', 'background', 'result', 'method', 'method', 'result', 'result', 'background', 'result', 'result', 'result', 'result', 'method', 'result', 'result', 'result', 'result', 'result', 'result', 'result', 'result', 'result', 'result', 'method', 'result', 'method', 'result', 'result', 'result', 'result', 'result', 'background', 'method', 'method', 'result', 'result', 'result', 'result', 'background', 'result', 'result', 'result', 'result', 'result', 'result', 'result', 'result', 'result', 'result', 'result', 'result', 'result', 'result', 'method', 'method', 'result', 'result', 'result', 'result', 'background', 'result', 'result', 'result', 'result', 'result', 'background', 'result', 'background', 'background', 'result', 'result', 'result', 'method', 'result', 'result', 'result', 'method', 'result', 'method', 'result', 'result', 'result', 'result', 'method', 'method', 'result']\n"
     ]
    }
   ],
   "source": [
    "print(labels)"
   ]
  },
  {
   "cell_type": "code",
   "execution_count": 21,
   "metadata": {},
   "outputs": [],
   "source": [
    "df = pd.DataFrame(zip(labels, reasonings), columns=[\"id\", \"reasoning\"])\n",
    "df.to_csv(\"first_50.csv\", )"
   ]
  },
  {
   "metadata": {
    "ExecuteTime": {
     "end_time": "2025-04-07T16:51:43.373212Z",
     "start_time": "2025-04-07T16:51:43.335229Z"
    }
   },
   "cell_type": "code",
   "source": "teacher = pd.read_csv(\"results/Teachers/Ours/deepseek-openai/deepseek_openai_combined.csv\")",
   "outputs": [],
   "execution_count": 3
  },
  {
   "metadata": {
    "ExecuteTime": {
     "end_time": "2025-04-07T16:51:44.242273Z",
     "start_time": "2025-04-07T16:51:44.233928Z"
    }
   },
   "cell_type": "code",
   "source": "teacher.head()",
   "outputs": [
    {
     "data": {
      "text/plain": [
       "   Unnamed: 0                                                 id  \\\n",
       "0           0  1872080baa7d30ec8fb87be9a65358cd3a7fb649>894be...   \n",
       "1           1  ce1d09a4a3a8d7fd3405b9328f65f00c952cf64b>b6642...   \n",
       "2           2  9cdf605beb1aa1078f235c4332b3024daa8b31dc>4e6a1...   \n",
       "3           3  d9f3207db0c79a3b154f3875c9760cc6b056904b>2cc6f...   \n",
       "4           4  88b86556857f4374842d2af2e359576806239175>a5bb0...   \n",
       "\n",
       "  model_classification                                          reasoning  \n",
       "0           background  The citation text is discussing the current st...  \n",
       "1               method  The citation text describes specific procedure...  \n",
       "2           background  The citation text is found in the Introduction...  \n",
       "3           background  The citation is used to provide context and su...  \n",
       "4           background  The citation text describes general informatio...  "
      ],
      "text/html": [
       "<div>\n",
       "<style scoped>\n",
       "    .dataframe tbody tr th:only-of-type {\n",
       "        vertical-align: middle;\n",
       "    }\n",
       "\n",
       "    .dataframe tbody tr th {\n",
       "        vertical-align: top;\n",
       "    }\n",
       "\n",
       "    .dataframe thead th {\n",
       "        text-align: right;\n",
       "    }\n",
       "</style>\n",
       "<table border=\"1\" class=\"dataframe\">\n",
       "  <thead>\n",
       "    <tr style=\"text-align: right;\">\n",
       "      <th></th>\n",
       "      <th>Unnamed: 0</th>\n",
       "      <th>id</th>\n",
       "      <th>model_classification</th>\n",
       "      <th>reasoning</th>\n",
       "    </tr>\n",
       "  </thead>\n",
       "  <tbody>\n",
       "    <tr>\n",
       "      <th>0</th>\n",
       "      <td>0</td>\n",
       "      <td>1872080baa7d30ec8fb87be9a65358cd3a7fb649&gt;894be...</td>\n",
       "      <td>background</td>\n",
       "      <td>The citation text is discussing the current st...</td>\n",
       "    </tr>\n",
       "    <tr>\n",
       "      <th>1</th>\n",
       "      <td>1</td>\n",
       "      <td>ce1d09a4a3a8d7fd3405b9328f65f00c952cf64b&gt;b6642...</td>\n",
       "      <td>method</td>\n",
       "      <td>The citation text describes specific procedure...</td>\n",
       "    </tr>\n",
       "    <tr>\n",
       "      <th>2</th>\n",
       "      <td>2</td>\n",
       "      <td>9cdf605beb1aa1078f235c4332b3024daa8b31dc&gt;4e6a1...</td>\n",
       "      <td>background</td>\n",
       "      <td>The citation text is found in the Introduction...</td>\n",
       "    </tr>\n",
       "    <tr>\n",
       "      <th>3</th>\n",
       "      <td>3</td>\n",
       "      <td>d9f3207db0c79a3b154f3875c9760cc6b056904b&gt;2cc6f...</td>\n",
       "      <td>background</td>\n",
       "      <td>The citation is used to provide context and su...</td>\n",
       "    </tr>\n",
       "    <tr>\n",
       "      <th>4</th>\n",
       "      <td>4</td>\n",
       "      <td>88b86556857f4374842d2af2e359576806239175&gt;a5bb0...</td>\n",
       "      <td>background</td>\n",
       "      <td>The citation text describes general informatio...</td>\n",
       "    </tr>\n",
       "  </tbody>\n",
       "</table>\n",
       "</div>"
      ]
     },
     "execution_count": 4,
     "metadata": {},
     "output_type": "execute_result"
    }
   ],
   "execution_count": 4
  },
  {
   "metadata": {
    "ExecuteTime": {
     "end_time": "2025-04-07T16:51:46.008134Z",
     "start_time": "2025-04-07T16:51:45.973903Z"
    }
   },
   "cell_type": "code",
   "source": "llama = pd.read_csv(\"results/Teachers/Llama/meta-llama_Llama-3.3-70B-Instruct-Turbo-Free/output.csv\")",
   "outputs": [],
   "execution_count": 5
  },
  {
   "metadata": {
    "ExecuteTime": {
     "end_time": "2025-04-07T16:35:12.114520Z",
     "start_time": "2025-04-07T16:35:12.112272Z"
    }
   },
   "cell_type": "code",
   "source": "len(llama)",
   "outputs": [
    {
     "data": {
      "text/plain": [
       "8194"
      ]
     },
     "execution_count": 17,
     "metadata": {},
     "output_type": "execute_result"
    }
   ],
   "execution_count": 17
  },
  {
   "metadata": {
    "ExecuteTime": {
     "end_time": "2025-04-07T16:51:58.344735Z",
     "start_time": "2025-04-07T16:51:58.340509Z"
    }
   },
   "cell_type": "code",
   "source": "llama_corr =llama['model_classification'] == data[\"label\"].reset_index(drop=True)",
   "outputs": [],
   "execution_count": 8
  },
  {
   "metadata": {
    "ExecuteTime": {
     "end_time": "2025-04-07T16:51:59.392046Z",
     "start_time": "2025-04-07T16:51:59.388321Z"
    }
   },
   "cell_type": "code",
   "source": "teacher_wrong = teacher[\"model_classification\"] != data[\"label\"].reset_index(drop=True)",
   "outputs": [],
   "execution_count": 9
  },
  {
   "metadata": {
    "ExecuteTime": {
     "end_time": "2025-04-07T16:52:00.407133Z",
     "start_time": "2025-04-07T16:52:00.394976Z"
    }
   },
   "cell_type": "code",
   "source": "data.reset_index(drop=True)[teacher_wrong & llama_corr]",
   "outputs": [
    {
     "data": {
      "text/plain": [
       "        source  citeEnd                                        sectionName  \\\n",
       "1     explicit     36.0  Novel Quantitative Trait Loci for Seminal Root...   \n",
       "14    explicit    190.0         Providing self-determination opportunities   \n",
       "21    explicit    161.0                                            Results   \n",
       "40    explicit    206.0                                    1. Introduction   \n",
       "42    explicit    123.0                                         Discussion   \n",
       "...        ...      ...                                                ...   \n",
       "8132  explicit    144.0                                                      \n",
       "8162  explicit    282.0  3.2. Yield and characterisation of ethanol org...   \n",
       "8165  explicit     79.0                                         Discussion   \n",
       "8182  explicit     60.0                                     1 Introduction   \n",
       "8188  explicit    177.0  4.3. Deceleration of the slow exchanging subst...   \n",
       "\n",
       "      citeStart                                             string  \\\n",
       "1          16.0  In the study by Hickey et al. (2012), spikes w...   \n",
       "14        180.0  For women with competing care-giving responsib...   \n",
       "21        143.0  The third group of proteins might be necessary...   \n",
       "40        184.0  In this chapter we will present the formalism ...   \n",
       "42        119.0  A serotype-shift occurred over the years with ...   \n",
       "...         ...                                                ...   \n",
       "8132      140.0  For more details on EDC calculation, forwarder...   \n",
       "8162      265.0  The efficient removal of lignin due to the pri...   \n",
       "8165       75.0  Gadolinium enhancement of the inflamed tissues...   \n",
       "8182       56.0  Intuitively this is done by using packed secre...   \n",
       "8188      167.0  This deceleration can be caused by the structu...   \n",
       "\n",
       "           label  label_confidence                             citingPaperId  \\\n",
       "1     background            1.0000  ce1d09a4a3a8d7fd3405b9328f65f00c952cf64b   \n",
       "14    background            0.7338  0323f404c7211e8e7f5034f070e3e1a54ecff495   \n",
       "21    background            0.7749  5d3996c173eeedf80bd41f36aff3c0c9da54937a   \n",
       "40    background            0.7406  e364d59a1dc537f2d51cebd7647030833629bb07   \n",
       "42    background            1.0000  ac5fb99eda6b95e9703bb3d93417df5f7373e662   \n",
       "...          ...               ...                                       ...   \n",
       "8132  background            0.7297  dd8c456a60b0ae3dc19f2d1eee6fbd3c3921c400   \n",
       "8162  background            1.0000  fe677d2f86d623b3dfc92f060bd8d0d2a0ea413d   \n",
       "8165  background            0.7635  d5e9bb418f5183ebcaf371efce583b2e710315ef   \n",
       "8182  background            0.6334  d47a55e61b83373dcb896c0f0f0c6dcb89aa28fd   \n",
       "8188  background            1.0000  b2a8408af4bb2de1305cd3e736147199e4abc8de   \n",
       "\n",
       "                                  citedPaperId  isKeyCitation  \\\n",
       "1     b6642e19efb8db5623b3cc4eef1c5822a6151107           True   \n",
       "14    7b889faead3d086f66e10d2b2024f1a85419c7d0           True   \n",
       "21    5142ce7b4f63cb4a956fbb52a07349210dd64cf6          False   \n",
       "40    d18293e4a7b9d11f93cd5384005e289e00122f07          False   \n",
       "42    e9891d090394b105cc1a6a85ccf55253ca96728c          False   \n",
       "...                                        ...            ...   \n",
       "8132  1cc4208afda03257c461e8b767c007b5570104bd          False   \n",
       "8162  548992f59f682a83a671e7f288f7aa574580d4a5           True   \n",
       "8165  6aa6183f41837ccaed16951fe32e9e3e861a0356           True   \n",
       "8182  4493db6859a8550d2d41b0eb29c75d6045df884e           True   \n",
       "8188  744e757a2ceb28e93e3db0b1e02a021b3e241077           True   \n",
       "\n",
       "                                                     id  \\\n",
       "1     ce1d09a4a3a8d7fd3405b9328f65f00c952cf64b>b6642...   \n",
       "14    0323f404c7211e8e7f5034f070e3e1a54ecff495>7b889...   \n",
       "21    5d3996c173eeedf80bd41f36aff3c0c9da54937a>5142c...   \n",
       "40    e364d59a1dc537f2d51cebd7647030833629bb07>d1829...   \n",
       "42    ac5fb99eda6b95e9703bb3d93417df5f7373e662>e9891...   \n",
       "...                                                 ...   \n",
       "8132  dd8c456a60b0ae3dc19f2d1eee6fbd3c3921c400>1cc42...   \n",
       "8162  fe677d2f86d623b3dfc92f060bd8d0d2a0ea413d>54899...   \n",
       "8165  d5e9bb418f5183ebcaf371efce583b2e710315ef>6aa61...   \n",
       "8182  d47a55e61b83373dcb896c0f0f0c6dcb89aa28fd>4493d...   \n",
       "8188  b2a8408af4bb2de1305cd3e736147199e4abc8de>744e7...   \n",
       "\n",
       "                                              unique_id  excerpt_index label2  \\\n",
       "1     ce1d09a4a3a8d7fd3405b9328f65f00c952cf64b>b6642...              2    NaN   \n",
       "14    0323f404c7211e8e7f5034f070e3e1a54ecff495>7b889...              1    NaN   \n",
       "21    5d3996c173eeedf80bd41f36aff3c0c9da54937a>5142c...              0    NaN   \n",
       "40    e364d59a1dc537f2d51cebd7647030833629bb07>d1829...              0    NaN   \n",
       "42    ac5fb99eda6b95e9703bb3d93417df5f7373e662>e9891...              0    NaN   \n",
       "...                                                 ...            ...    ...   \n",
       "8132  dd8c456a60b0ae3dc19f2d1eee6fbd3c3921c400>1cc42...             13    NaN   \n",
       "8162  fe677d2f86d623b3dfc92f060bd8d0d2a0ea413d>54899...              2    NaN   \n",
       "8165  d5e9bb418f5183ebcaf371efce583b2e710315ef>6aa61...              1    NaN   \n",
       "8182  d47a55e61b83373dcb896c0f0f0c6dcb89aa28fd>4493d...              5    NaN   \n",
       "8188  b2a8408af4bb2de1305cd3e736147199e4abc8de>744e7...              3    NaN   \n",
       "\n",
       "      label2_confidence  \n",
       "1                   NaN  \n",
       "14                  NaN  \n",
       "21                  NaN  \n",
       "40                  NaN  \n",
       "42                  NaN  \n",
       "...                 ...  \n",
       "8132                NaN  \n",
       "8162                NaN  \n",
       "8165                NaN  \n",
       "8182                NaN  \n",
       "8188                NaN  \n",
       "\n",
       "[534 rows x 15 columns]"
      ],
      "text/html": [
       "<div>\n",
       "<style scoped>\n",
       "    .dataframe tbody tr th:only-of-type {\n",
       "        vertical-align: middle;\n",
       "    }\n",
       "\n",
       "    .dataframe tbody tr th {\n",
       "        vertical-align: top;\n",
       "    }\n",
       "\n",
       "    .dataframe thead th {\n",
       "        text-align: right;\n",
       "    }\n",
       "</style>\n",
       "<table border=\"1\" class=\"dataframe\">\n",
       "  <thead>\n",
       "    <tr style=\"text-align: right;\">\n",
       "      <th></th>\n",
       "      <th>source</th>\n",
       "      <th>citeEnd</th>\n",
       "      <th>sectionName</th>\n",
       "      <th>citeStart</th>\n",
       "      <th>string</th>\n",
       "      <th>label</th>\n",
       "      <th>label_confidence</th>\n",
       "      <th>citingPaperId</th>\n",
       "      <th>citedPaperId</th>\n",
       "      <th>isKeyCitation</th>\n",
       "      <th>id</th>\n",
       "      <th>unique_id</th>\n",
       "      <th>excerpt_index</th>\n",
       "      <th>label2</th>\n",
       "      <th>label2_confidence</th>\n",
       "    </tr>\n",
       "  </thead>\n",
       "  <tbody>\n",
       "    <tr>\n",
       "      <th>1</th>\n",
       "      <td>explicit</td>\n",
       "      <td>36.0</td>\n",
       "      <td>Novel Quantitative Trait Loci for Seminal Root...</td>\n",
       "      <td>16.0</td>\n",
       "      <td>In the study by Hickey et al. (2012), spikes w...</td>\n",
       "      <td>background</td>\n",
       "      <td>1.0000</td>\n",
       "      <td>ce1d09a4a3a8d7fd3405b9328f65f00c952cf64b</td>\n",
       "      <td>b6642e19efb8db5623b3cc4eef1c5822a6151107</td>\n",
       "      <td>True</td>\n",
       "      <td>ce1d09a4a3a8d7fd3405b9328f65f00c952cf64b&gt;b6642...</td>\n",
       "      <td>ce1d09a4a3a8d7fd3405b9328f65f00c952cf64b&gt;b6642...</td>\n",
       "      <td>2</td>\n",
       "      <td>NaN</td>\n",
       "      <td>NaN</td>\n",
       "    </tr>\n",
       "    <tr>\n",
       "      <th>14</th>\n",
       "      <td>explicit</td>\n",
       "      <td>190.0</td>\n",
       "      <td>Providing self-determination opportunities</td>\n",
       "      <td>180.0</td>\n",
       "      <td>For women with competing care-giving responsib...</td>\n",
       "      <td>background</td>\n",
       "      <td>0.7338</td>\n",
       "      <td>0323f404c7211e8e7f5034f070e3e1a54ecff495</td>\n",
       "      <td>7b889faead3d086f66e10d2b2024f1a85419c7d0</td>\n",
       "      <td>True</td>\n",
       "      <td>0323f404c7211e8e7f5034f070e3e1a54ecff495&gt;7b889...</td>\n",
       "      <td>0323f404c7211e8e7f5034f070e3e1a54ecff495&gt;7b889...</td>\n",
       "      <td>1</td>\n",
       "      <td>NaN</td>\n",
       "      <td>NaN</td>\n",
       "    </tr>\n",
       "    <tr>\n",
       "      <th>21</th>\n",
       "      <td>explicit</td>\n",
       "      <td>161.0</td>\n",
       "      <td>Results</td>\n",
       "      <td>143.0</td>\n",
       "      <td>The third group of proteins might be necessary...</td>\n",
       "      <td>background</td>\n",
       "      <td>0.7749</td>\n",
       "      <td>5d3996c173eeedf80bd41f36aff3c0c9da54937a</td>\n",
       "      <td>5142ce7b4f63cb4a956fbb52a07349210dd64cf6</td>\n",
       "      <td>False</td>\n",
       "      <td>5d3996c173eeedf80bd41f36aff3c0c9da54937a&gt;5142c...</td>\n",
       "      <td>5d3996c173eeedf80bd41f36aff3c0c9da54937a&gt;5142c...</td>\n",
       "      <td>0</td>\n",
       "      <td>NaN</td>\n",
       "      <td>NaN</td>\n",
       "    </tr>\n",
       "    <tr>\n",
       "      <th>40</th>\n",
       "      <td>explicit</td>\n",
       "      <td>206.0</td>\n",
       "      <td>1. Introduction</td>\n",
       "      <td>184.0</td>\n",
       "      <td>In this chapter we will present the formalism ...</td>\n",
       "      <td>background</td>\n",
       "      <td>0.7406</td>\n",
       "      <td>e364d59a1dc537f2d51cebd7647030833629bb07</td>\n",
       "      <td>d18293e4a7b9d11f93cd5384005e289e00122f07</td>\n",
       "      <td>False</td>\n",
       "      <td>e364d59a1dc537f2d51cebd7647030833629bb07&gt;d1829...</td>\n",
       "      <td>e364d59a1dc537f2d51cebd7647030833629bb07&gt;d1829...</td>\n",
       "      <td>0</td>\n",
       "      <td>NaN</td>\n",
       "      <td>NaN</td>\n",
       "    </tr>\n",
       "    <tr>\n",
       "      <th>42</th>\n",
       "      <td>explicit</td>\n",
       "      <td>123.0</td>\n",
       "      <td>Discussion</td>\n",
       "      <td>119.0</td>\n",
       "      <td>A serotype-shift occurred over the years with ...</td>\n",
       "      <td>background</td>\n",
       "      <td>1.0000</td>\n",
       "      <td>ac5fb99eda6b95e9703bb3d93417df5f7373e662</td>\n",
       "      <td>e9891d090394b105cc1a6a85ccf55253ca96728c</td>\n",
       "      <td>False</td>\n",
       "      <td>ac5fb99eda6b95e9703bb3d93417df5f7373e662&gt;e9891...</td>\n",
       "      <td>ac5fb99eda6b95e9703bb3d93417df5f7373e662&gt;e9891...</td>\n",
       "      <td>0</td>\n",
       "      <td>NaN</td>\n",
       "      <td>NaN</td>\n",
       "    </tr>\n",
       "    <tr>\n",
       "      <th>...</th>\n",
       "      <td>...</td>\n",
       "      <td>...</td>\n",
       "      <td>...</td>\n",
       "      <td>...</td>\n",
       "      <td>...</td>\n",
       "      <td>...</td>\n",
       "      <td>...</td>\n",
       "      <td>...</td>\n",
       "      <td>...</td>\n",
       "      <td>...</td>\n",
       "      <td>...</td>\n",
       "      <td>...</td>\n",
       "      <td>...</td>\n",
       "      <td>...</td>\n",
       "      <td>...</td>\n",
       "    </tr>\n",
       "    <tr>\n",
       "      <th>8132</th>\n",
       "      <td>explicit</td>\n",
       "      <td>144.0</td>\n",
       "      <td></td>\n",
       "      <td>140.0</td>\n",
       "      <td>For more details on EDC calculation, forwarder...</td>\n",
       "      <td>background</td>\n",
       "      <td>0.7297</td>\n",
       "      <td>dd8c456a60b0ae3dc19f2d1eee6fbd3c3921c400</td>\n",
       "      <td>1cc4208afda03257c461e8b767c007b5570104bd</td>\n",
       "      <td>False</td>\n",
       "      <td>dd8c456a60b0ae3dc19f2d1eee6fbd3c3921c400&gt;1cc42...</td>\n",
       "      <td>dd8c456a60b0ae3dc19f2d1eee6fbd3c3921c400&gt;1cc42...</td>\n",
       "      <td>13</td>\n",
       "      <td>NaN</td>\n",
       "      <td>NaN</td>\n",
       "    </tr>\n",
       "    <tr>\n",
       "      <th>8162</th>\n",
       "      <td>explicit</td>\n",
       "      <td>282.0</td>\n",
       "      <td>3.2. Yield and characterisation of ethanol org...</td>\n",
       "      <td>265.0</td>\n",
       "      <td>The efficient removal of lignin due to the pri...</td>\n",
       "      <td>background</td>\n",
       "      <td>1.0000</td>\n",
       "      <td>fe677d2f86d623b3dfc92f060bd8d0d2a0ea413d</td>\n",
       "      <td>548992f59f682a83a671e7f288f7aa574580d4a5</td>\n",
       "      <td>True</td>\n",
       "      <td>fe677d2f86d623b3dfc92f060bd8d0d2a0ea413d&gt;54899...</td>\n",
       "      <td>fe677d2f86d623b3dfc92f060bd8d0d2a0ea413d&gt;54899...</td>\n",
       "      <td>2</td>\n",
       "      <td>NaN</td>\n",
       "      <td>NaN</td>\n",
       "    </tr>\n",
       "    <tr>\n",
       "      <th>8165</th>\n",
       "      <td>explicit</td>\n",
       "      <td>79.0</td>\n",
       "      <td>Discussion</td>\n",
       "      <td>75.0</td>\n",
       "      <td>Gadolinium enhancement of the inflamed tissues...</td>\n",
       "      <td>background</td>\n",
       "      <td>0.7635</td>\n",
       "      <td>d5e9bb418f5183ebcaf371efce583b2e710315ef</td>\n",
       "      <td>6aa6183f41837ccaed16951fe32e9e3e861a0356</td>\n",
       "      <td>True</td>\n",
       "      <td>d5e9bb418f5183ebcaf371efce583b2e710315ef&gt;6aa61...</td>\n",
       "      <td>d5e9bb418f5183ebcaf371efce583b2e710315ef&gt;6aa61...</td>\n",
       "      <td>1</td>\n",
       "      <td>NaN</td>\n",
       "      <td>NaN</td>\n",
       "    </tr>\n",
       "    <tr>\n",
       "      <th>8182</th>\n",
       "      <td>explicit</td>\n",
       "      <td>60.0</td>\n",
       "      <td>1 Introduction</td>\n",
       "      <td>56.0</td>\n",
       "      <td>Intuitively this is done by using packed secre...</td>\n",
       "      <td>background</td>\n",
       "      <td>0.6334</td>\n",
       "      <td>d47a55e61b83373dcb896c0f0f0c6dcb89aa28fd</td>\n",
       "      <td>4493db6859a8550d2d41b0eb29c75d6045df884e</td>\n",
       "      <td>True</td>\n",
       "      <td>d47a55e61b83373dcb896c0f0f0c6dcb89aa28fd&gt;4493d...</td>\n",
       "      <td>d47a55e61b83373dcb896c0f0f0c6dcb89aa28fd&gt;4493d...</td>\n",
       "      <td>5</td>\n",
       "      <td>NaN</td>\n",
       "      <td>NaN</td>\n",
       "    </tr>\n",
       "    <tr>\n",
       "      <th>8188</th>\n",
       "      <td>explicit</td>\n",
       "      <td>177.0</td>\n",
       "      <td>4.3. Deceleration of the slow exchanging subst...</td>\n",
       "      <td>167.0</td>\n",
       "      <td>This deceleration can be caused by the structu...</td>\n",
       "      <td>background</td>\n",
       "      <td>1.0000</td>\n",
       "      <td>b2a8408af4bb2de1305cd3e736147199e4abc8de</td>\n",
       "      <td>744e757a2ceb28e93e3db0b1e02a021b3e241077</td>\n",
       "      <td>True</td>\n",
       "      <td>b2a8408af4bb2de1305cd3e736147199e4abc8de&gt;744e7...</td>\n",
       "      <td>b2a8408af4bb2de1305cd3e736147199e4abc8de&gt;744e7...</td>\n",
       "      <td>3</td>\n",
       "      <td>NaN</td>\n",
       "      <td>NaN</td>\n",
       "    </tr>\n",
       "  </tbody>\n",
       "</table>\n",
       "<p>534 rows × 15 columns</p>\n",
       "</div>"
      ]
     },
     "execution_count": 10,
     "metadata": {},
     "output_type": "execute_result"
    }
   ],
   "execution_count": 10
  },
  {
   "metadata": {
    "ExecuteTime": {
     "end_time": "2025-04-07T16:52:02.370138Z",
     "start_time": "2025-04-07T16:52:02.329465Z"
    }
   },
   "cell_type": "code",
   "source": "better_teacher = pd.read_csv(\"results/Teachers/Ours/deepseek-openai/deepseek_openai_combined.csv\")[[\"model_classification\", \"reasoning\"]].reset_index(drop=True)",
   "outputs": [],
   "execution_count": 11
  },
  {
   "metadata": {
    "ExecuteTime": {
     "end_time": "2025-04-07T16:49:12.032190Z",
     "start_time": "2025-04-07T16:49:12.028422Z"
    }
   },
   "cell_type": "code",
   "source": "llama",
   "outputs": [
    {
     "data": {
      "text/plain": [
       "     model_classification                                          reasoning\n",
       "0              background  The text discusses the current state of knowle...\n",
       "1              background  The text mentions a specific study by Hickey e...\n",
       "2              background  The text provides information about the effect...\n",
       "3              background  The text discusses existing research and theor...\n",
       "4              background  The text provides an introduction to the topic...\n",
       "...                   ...                                                ...\n",
       "8189               result  The text mentions specific results from a stud...\n",
       "8190           background  The text discusses the need for education and ...\n",
       "8191           background  The text mentions previous studies and their f...\n",
       "8192           background  The text provides an overview of existing know...\n",
       "8193           background  The text provides an overview of existing rese...\n",
       "\n",
       "[8194 rows x 2 columns]"
      ],
      "text/html": [
       "<div>\n",
       "<style scoped>\n",
       "    .dataframe tbody tr th:only-of-type {\n",
       "        vertical-align: middle;\n",
       "    }\n",
       "\n",
       "    .dataframe tbody tr th {\n",
       "        vertical-align: top;\n",
       "    }\n",
       "\n",
       "    .dataframe thead th {\n",
       "        text-align: right;\n",
       "    }\n",
       "</style>\n",
       "<table border=\"1\" class=\"dataframe\">\n",
       "  <thead>\n",
       "    <tr style=\"text-align: right;\">\n",
       "      <th></th>\n",
       "      <th>model_classification</th>\n",
       "      <th>reasoning</th>\n",
       "    </tr>\n",
       "  </thead>\n",
       "  <tbody>\n",
       "    <tr>\n",
       "      <th>0</th>\n",
       "      <td>background</td>\n",
       "      <td>The text discusses the current state of knowle...</td>\n",
       "    </tr>\n",
       "    <tr>\n",
       "      <th>1</th>\n",
       "      <td>background</td>\n",
       "      <td>The text mentions a specific study by Hickey e...</td>\n",
       "    </tr>\n",
       "    <tr>\n",
       "      <th>2</th>\n",
       "      <td>background</td>\n",
       "      <td>The text provides information about the effect...</td>\n",
       "    </tr>\n",
       "    <tr>\n",
       "      <th>3</th>\n",
       "      <td>background</td>\n",
       "      <td>The text discusses existing research and theor...</td>\n",
       "    </tr>\n",
       "    <tr>\n",
       "      <th>4</th>\n",
       "      <td>background</td>\n",
       "      <td>The text provides an introduction to the topic...</td>\n",
       "    </tr>\n",
       "    <tr>\n",
       "      <th>...</th>\n",
       "      <td>...</td>\n",
       "      <td>...</td>\n",
       "    </tr>\n",
       "    <tr>\n",
       "      <th>8189</th>\n",
       "      <td>result</td>\n",
       "      <td>The text mentions specific results from a stud...</td>\n",
       "    </tr>\n",
       "    <tr>\n",
       "      <th>8190</th>\n",
       "      <td>background</td>\n",
       "      <td>The text discusses the need for education and ...</td>\n",
       "    </tr>\n",
       "    <tr>\n",
       "      <th>8191</th>\n",
       "      <td>background</td>\n",
       "      <td>The text mentions previous studies and their f...</td>\n",
       "    </tr>\n",
       "    <tr>\n",
       "      <th>8192</th>\n",
       "      <td>background</td>\n",
       "      <td>The text provides an overview of existing know...</td>\n",
       "    </tr>\n",
       "    <tr>\n",
       "      <th>8193</th>\n",
       "      <td>background</td>\n",
       "      <td>The text provides an overview of existing rese...</td>\n",
       "    </tr>\n",
       "  </tbody>\n",
       "</table>\n",
       "<p>8194 rows × 2 columns</p>\n",
       "</div>"
      ]
     },
     "execution_count": 39,
     "metadata": {},
     "output_type": "execute_result"
    }
   ],
   "execution_count": 39
  },
  {
   "metadata": {
    "ExecuteTime": {
     "end_time": "2025-04-07T16:52:05.587115Z",
     "start_time": "2025-04-07T16:52:05.581522Z"
    }
   },
   "cell_type": "code",
   "source": [
    "mask = (teacher_wrong & llama_corr).reset_index(drop=True)\n",
    "llama = llama[[\"model_classification\",\"reasoning\"]].reset_index(drop=True)\n",
    "# for i in range(len(mask)):\n",
    "#     if mask[i]:\n",
    "#         better_teacher.iloc[i] = llama.iloc[i]\n",
    "better_teacher[mask] = llama[mask]"
   ],
   "outputs": [],
   "execution_count": 12
  },
  {
   "metadata": {
    "ExecuteTime": {
     "end_time": "2025-04-07T16:52:54.063860Z",
     "start_time": "2025-04-07T16:52:54.027289Z"
    }
   },
   "cell_type": "code",
   "source": "better_teacher.to_csv(\"results/Teachers/Ours/LongLiveLLama.csv\", index=False)",
   "outputs": [],
   "execution_count": 13
  },
  {
   "metadata": {
    "ExecuteTime": {
     "end_time": "2025-04-07T16:54:13.802388Z",
     "start_time": "2025-04-07T16:54:13.799463Z"
    }
   },
   "cell_type": "code",
   "source": [
    "from evaluate import evaluate_models\n",
    "from model_card import ModelCard"
   ],
   "outputs": [],
   "execution_count": 17
  },
  {
   "metadata": {
    "ExecuteTime": {
     "end_time": "2025-04-07T16:55:50.026074Z",
     "start_time": "2025-04-07T16:55:49.907208Z"
    }
   },
   "cell_type": "code",
   "source": [
    "evaluate_models([ModelCard(\"The King\",\"v1\",\"is back\",\"NLP Team 19\", 0,1000,\"results/Teachers/Ours/LongLiveLLama.csv\"),\n",
    "                ModelCard(\"Our Teacher\",\"v0\",\"Our best teacher model so far\",\"NLP Team 19\", 0, 900, \"results/Teachers/Ours/deepseek-openai/deepseek_openai_combined.csv\")])"
   ],
   "outputs": [
    {
     "name": "stdout",
     "output_type": "stream",
     "text": [
      "Nikhil - The King v1\n",
      "Size: 1000 Billion Parameters\n",
      "Price: $0/M tokens\n",
      "==================================================\n",
      "Model Metrics Report\n",
      "==================================================\n",
      "Accuracy: 0.85\n",
      "==================================================\n",
      "Macro F1: 0.82\n",
      "Micro F1: 0.88\n",
      "==================================================\n",
      "Macro Recall: 0.86\n",
      "Micro Recall: 0.83\n",
      "==================================================\n",
      "Macro Precision: 0.80\n",
      "Micro Precision: 0.93\n",
      "Report: None\n",
      "==================================================\n",
      "NLP Team 19 - Our Teacher v0\n",
      "Size: 900 Billion Parameters\n",
      "Price: $0/M tokens\n",
      "==================================================\n",
      "Model Metrics Report\n",
      "==================================================\n",
      "Accuracy: 0.78\n",
      "==================================================\n",
      "Macro F1: 0.76\n",
      "Micro F1: 0.81\n",
      "==================================================\n",
      "Macro Recall: 0.82\n",
      "Micro Recall: 0.73\n",
      "==================================================\n",
      "Macro Precision: 0.74\n",
      "Micro Precision: 0.91\n",
      "Report: None\n",
      "==================================================\n"
     ]
    }
   ],
   "execution_count": 20
  }
 ],
 "metadata": {
  "kernelspec": {
   "display_name": "Python 3",
   "language": "python",
   "name": "python3"
  },
  "language_info": {
   "codemirror_mode": {
    "name": "ipython",
    "version": 3
   },
   "file_extension": ".py",
   "mimetype": "text/x-python",
   "name": "python",
   "nbconvert_exporter": "python",
   "pygments_lexer": "ipython3",
   "version": "3.11.11"
  }
 },
 "nbformat": 4,
 "nbformat_minor": 2
}
