{
 "cells": [
  {
   "cell_type": "markdown",
   "metadata": {},
   "source": [
    "The following code cell ensures that the underlying `.py` file gets automatically reloaded after you save any changes.  "
   ]
  },
  {
   "cell_type": "code",
   "execution_count": 1,
   "metadata": {},
   "outputs": [],
   "source": [
    "%load_ext autoreload\n",
    "%autoreload 2"
   ]
  },
  {
   "cell_type": "code",
   "execution_count": 2,
   "metadata": {},
   "outputs": [
    {
     "name": "stderr",
     "output_type": "stream",
     "text": [
      "/Users/ethanyuxin/Documents/World/nlp_group19/.venv/lib/python3.11/site-packages/tqdm/auto.py:21: TqdmWarning: IProgress not found. Please update jupyter and ipywidgets. See https://ipywidgets.readthedocs.io/en/stable/user_install.html\n",
      "  from .autonotebook import tqdm as notebook_tqdm\n"
     ]
    }
   ],
   "source": [
    "import pandas as pd    \n",
    "from model import initialize_model, call_llm\n",
    "from transformers import pipeline\n",
    "import torch"
   ]
  },
  {
   "cell_type": "code",
   "execution_count": 3,
   "metadata": {},
   "outputs": [],
   "source": [
    "\n",
    "def preprocess(file_path):\n",
    "    data = pd.read_json(path_or_buf=file_path, lines=True)\n",
    "    return data"
   ]
  },
  {
   "cell_type": "code",
   "execution_count": 4,
   "metadata": {},
   "outputs": [],
   "source": [
    "data = preprocess(\"./data/train.jsonl\")"
   ]
  },
  {
   "cell_type": "code",
   "execution_count": 5,
   "metadata": {},
   "outputs": [
    {
     "name": "stdout",
     "output_type": "stream",
     "text": [
      "{'background', 'result', 'method'}\n"
     ]
    }
   ],
   "source": [
    "print(set([x for x in data[\"label\"]]))"
   ]
  },
  {
   "cell_type": "code",
   "execution_count": 6,
   "metadata": {},
   "outputs": [
    {
     "name": "stdout",
     "output_type": "stream",
     "text": [
      "     source  citeEnd                                        sectionName  \\\n",
      "0  explicit    175.0                                       Introduction   \n",
      "1  explicit     36.0  Novel Quantitative Trait Loci for Seminal Root...   \n",
      "2  explicit    228.0                                       Introduction   \n",
      "3  explicit    110.0                                         Discussion   \n",
      "4  explicit    239.0                                         Discussion   \n",
      "\n",
      "   citeStart                                             string       label  \\\n",
      "0      168.0  However, how frataxin interacts with the Fe-S ...  background   \n",
      "1       16.0  In the study by Hickey et al. (2012), spikes w...  background   \n",
      "2      225.0  The drug also reduces catecholamine secretion,...  background   \n",
      "3       46.0  By clustering with lowly aggressive close kin ...  background   \n",
      "4      234.0  Ophthalmic symptoms are rare manifestations of...  background   \n",
      "\n",
      "   label_confidence                             citingPaperId  \\\n",
      "0               1.0  1872080baa7d30ec8fb87be9a65358cd3a7fb649   \n",
      "1               1.0  ce1d09a4a3a8d7fd3405b9328f65f00c952cf64b   \n",
      "2               1.0  9cdf605beb1aa1078f235c4332b3024daa8b31dc   \n",
      "3               1.0  d9f3207db0c79a3b154f3875c9760cc6b056904b   \n",
      "4               1.0  88b86556857f4374842d2af2e359576806239175   \n",
      "\n",
      "                               citedPaperId  isKeyCitation  \\\n",
      "0  894be9b4ea46a5c422e81ef3c241072d4c73fdc0           True   \n",
      "1  b6642e19efb8db5623b3cc4eef1c5822a6151107           True   \n",
      "2  4e6a17fb8d7a3cada601d942e22eb5da6d01adbd          False   \n",
      "3  2cc6ff899bf17666ad35893524a4d61624555ed7          False   \n",
      "4  a5bb0ff1a026944d2a47a155462959af2b8505a8          False   \n",
      "\n",
      "                                                  id  \\\n",
      "0  1872080baa7d30ec8fb87be9a65358cd3a7fb649>894be...   \n",
      "1  ce1d09a4a3a8d7fd3405b9328f65f00c952cf64b>b6642...   \n",
      "2  9cdf605beb1aa1078f235c4332b3024daa8b31dc>4e6a1...   \n",
      "3  d9f3207db0c79a3b154f3875c9760cc6b056904b>2cc6f...   \n",
      "4  88b86556857f4374842d2af2e359576806239175>a5bb0...   \n",
      "\n",
      "                                           unique_id  excerpt_index label2  \\\n",
      "0  1872080baa7d30ec8fb87be9a65358cd3a7fb649>894be...             11    NaN   \n",
      "1  ce1d09a4a3a8d7fd3405b9328f65f00c952cf64b>b6642...              2    NaN   \n",
      "2  9cdf605beb1aa1078f235c4332b3024daa8b31dc>4e6a1...              0    NaN   \n",
      "3  d9f3207db0c79a3b154f3875c9760cc6b056904b>2cc6f...              3    NaN   \n",
      "4  88b86556857f4374842d2af2e359576806239175>a5bb0...              2    NaN   \n",
      "\n",
      "   label2_confidence  \n",
      "0                NaN  \n",
      "1                NaN  \n",
      "2                NaN  \n",
      "3                NaN  \n",
      "4                NaN  \n"
     ]
    }
   ],
   "source": [
    "print(data.head())"
   ]
  },
  {
   "cell_type": "code",
   "execution_count": 7,
   "metadata": {},
   "outputs": [
    {
     "name": "stdout",
     "output_type": "stream",
     "text": [
      "However, how frataxin interacts with the Fe-S cluster biosynthesis components remains unclear as direct one-to-one interactions with each component were reported (IscS [12,22], IscU/Isu1 [6,11,16] or ISD11/Isd11 [14,15]).\n"
     ]
    }
   ],
   "source": [
    "print(data.iloc[0].string)"
   ]
  },
  {
   "cell_type": "code",
   "execution_count": 8,
   "metadata": {},
   "outputs": [
    {
     "name": "stdout",
     "output_type": "stream",
     "text": [
      "8243\n"
     ]
    }
   ],
   "source": [
    "print(len(data))"
   ]
  },
  {
   "cell_type": "code",
   "execution_count": 9,
   "metadata": {},
   "outputs": [
    {
     "name": "stdout",
     "output_type": "stream",
     "text": [
      "ChatCompletionOutput(choices=[ChatCompletionOutputComplete(finish_reason='stop', index=0, message=ChatCompletionOutputMessage(role='assistant', content='{\"classification\": \"background\", \"reasoning\": \"The text is providing a summary of the main distribution of 13-galactosidase-producing cells in tissues from different lines, which is typical of the background section in a scientific paper, where authors usually introduce the context and provide necessary context for the study.\"}', tool_calls=None), logprobs=None)], created=1743232015, id='', model='meta-llama/Meta-Llama-3-8B-Instruct', system_fingerprint='3.2.1-native', usage=ChatCompletionOutputUsage(completion_tokens=66, prompt_tokens=183, total_tokens=249), object='chat.completion')\n",
      "ChatCompletionOutput(choices=[ChatCompletionOutputComplete(finish_reason='stop', index=0, message=ChatCompletionOutputMessage(role='assistant', content='{\"classification\": \"background\", \"reasoning\": \"The text discusses previous research and provides context for the significance of the finding, which is a characteristic of a background section.\"}', tool_calls=None), logprobs=None)], created=1743232016, id='', model='meta-llama/Meta-Llama-3-8B-Instruct', system_fingerprint='3.2.1-native', usage=ChatCompletionOutputUsage(completion_tokens=37, prompt_tokens=203, total_tokens=240), object='chat.completion')\n",
      "ChatCompletionOutput(choices=[ChatCompletionOutputComplete(finish_reason='stop', index=0, message=ChatCompletionOutputMessage(role='assistant', content='{\"classification\": \"method\", \"reasoning\": \"This text specifies the method used to assess the neurodevelopmental outcome, providing details on the instrument used (Revised Griffith\\'s scales of Mental Development) and the age at which the assessment was taken (24 months)\"}', tool_calls=None), logprobs=None)], created=1743232018, id='', model='meta-llama/Meta-Llama-3-8B-Instruct', system_fingerprint='3.2.1-native', usage=ChatCompletionOutputUsage(completion_tokens=56, prompt_tokens=156, total_tokens=212), object='chat.completion')\n",
      "ChatCompletionOutput(choices=[ChatCompletionOutputComplete(finish_reason='stop', index=0, message=ChatCompletionOutputMessage(role='assistant', content='{\"classification\": \"method\", \"reasoning\": \"The text appears to be discussing the effects of a specific compound BHT on specific cell types and tissues, which is characteristic of the method section where authors describe the procedures and experiments conducted to achieve the results.\"}', tool_calls=None), logprobs=None)], created=1743232019, id='', model='meta-llama/Meta-Llama-3-8B-Instruct', system_fingerprint='3.2.1-native', usage=ChatCompletionOutputUsage(completion_tokens=54, prompt_tokens=181, total_tokens=235), object='chat.completion')\n",
      "ChatCompletionOutput(choices=[ChatCompletionOutputComplete(finish_reason='stop', index=0, message=ChatCompletionOutputMessage(role='assistant', content='{\\n\"classification\": \"background\",\\n\"reasoning\": \"The text is providing context and previous research to establish the foundation for the current study, highlighting the differences between the authors\\' approach and others. The language used is descriptive and explanatory, without any specific data or results presented, which is typical of the background section in a scientific paper.\"\\n}', tool_calls=None), logprobs=None)], created=1743232021, id='', model='meta-llama/Meta-Llama-3-8B-Instruct', system_fingerprint='3.2.1-native', usage=ChatCompletionOutputUsage(completion_tokens=70, prompt_tokens=218, total_tokens=288), object='chat.completion')\n",
      "ChatCompletionOutput(choices=[ChatCompletionOutputComplete(finish_reason='stop', index=0, message=ChatCompletionOutputMessage(role='assistant', content='{\\n\"classification\": \"method\",\\n\"reasoning\": \"The text is mentioning the manipulation of the HPA axis through pharmacological or surgical means, which suggests that it is discussing a potential method or technique used in the study, rather than the results or background. This type of language is often used in the methods section to describe the experimental design and procedures used in the study.\"\\n}', tool_calls=None), logprobs=None)], created=1743232023, id='', model='meta-llama/Meta-Llama-3-8B-Instruct', system_fingerprint='3.2.1-native', usage=ChatCompletionOutputUsage(completion_tokens=78, prompt_tokens=198, total_tokens=276), object='chat.completion')\n",
      "ChatCompletionOutput(choices=[ChatCompletionOutputComplete(finish_reason='stop', index=0, message=ChatCompletionOutputMessage(role='assistant', content='{\\n\"classification\": \"background\",\\n\"reasoning\": \"The text provides a background on elk behavior and habitat selection in the presence of wolf predation risk, citing previous studies. It does not present any new findings, hypotheses, or experimental design, which are common characteristics of the\\'method\\' section. The text does not explicitly state a result or conclusion, which are typical of the\\'result\\' section. Therefore, the classification is \\'background\\'.\"\\n}', tool_calls=None), logprobs=None)], created=1743232025, id='', model='meta-llama/Meta-Llama-3-8B-Instruct', system_fingerprint='3.2.1-native', usage=ChatCompletionOutputUsage(completion_tokens=93, prompt_tokens=182, total_tokens=275), object='chat.completion')\n",
      "ChatCompletionOutput(choices=[ChatCompletionOutputComplete(finish_reason='stop', index=0, message=ChatCompletionOutputMessage(role='assistant', content='{\\n\"classification\": \"method\",\\n\"reasoning\": \"The provided text is describing known mechanisms of resistance to CDDP, which is a fundamental concept in cancer research. This is more typical of a method or background section, where the authors are setting the stage and providing context for the research that will follow.\"\\n}', tool_calls=None), logprobs=None)], created=1743232027, id='', model='meta-llama/Meta-Llama-3-8B-Instruct', system_fingerprint='3.2.1-native', usage=ChatCompletionOutputUsage(completion_tokens=65, prompt_tokens=206, total_tokens=271), object='chat.completion')\n",
      "ChatCompletionOutput(choices=[ChatCompletionOutputComplete(finish_reason='stop', index=0, message=ChatCompletionOutputMessage(role='assistant', content='{\"classification\": \"background\", \"reasoning\": \"The text appears to be providing context and mentioning previous studies that are relevant to the research, which is typical of a background section in a scientific paper, as it sets the stage for the research that follows.\"}', tool_calls=None), logprobs=None)], created=1743232029, id='', model='meta-llama/Meta-Llama-3-8B-Instruct', system_fingerprint='3.2.1-native', usage=ChatCompletionOutputUsage(completion_tokens=54, prompt_tokens=171, total_tokens=225), object='chat.completion')\n",
      "ChatCompletionOutput(choices=[ChatCompletionOutputComplete(finish_reason='stop', index=0, message=ChatCompletionOutputMessage(role='assistant', content='{\"classification\": \"background\", \"reasoning\": \"The text appears to be providing context about the topic by describing other potential carcinogenic effects of insulin resistance, and referencing a specific study [1]. This indicates that the author is setting the stage for the main topic, and the text is providing general knowledge about the field rather than presenting experimental results or describing a specific method.\"}', tool_calls=None), logprobs=None)], created=1743232031, id='', model='meta-llama/Meta-Llama-3-8B-Instruct', system_fingerprint='3.2.1-native', usage=ChatCompletionOutputUsage(completion_tokens=77, prompt_tokens=181, total_tokens=258), object='chat.completion')\n",
      "ChatCompletionOutput(choices=[ChatCompletionOutputComplete(finish_reason='stop', index=0, message=ChatCompletionOutputMessage(role='assistant', content='{\"classification\": \"background\", \"reasoning\": \"The text mentions recent studies and references, indicating that it is providing context and background information to establish the significance and relevance of the research being conducted.\"}', tool_calls=None), logprobs=None)], created=1743232032, id='', model='meta-llama/Meta-Llama-3-8B-Instruct', system_fingerprint='3.2.1-native', usage=ChatCompletionOutputUsage(completion_tokens=42, prompt_tokens=196, total_tokens=238), object='chat.completion')\n",
      "ChatCompletionOutput(choices=[ChatCompletionOutputComplete(finish_reason='stop', index=0, message=ChatCompletionOutputMessage(role='assistant', content='{\"classification\": \"background\", \"reasoning\": \"The text is discussing previous studies to establish the context for the current study, which is a characteristic of a background section. The text is presenting existing knowledge and its relevance to the current research, rather than presenting new experimental data or the methods used to collect the data, which are typical of the result and method sections respectively.\"}', tool_calls=None), logprobs=None)], created=1743232034, id='', model='meta-llama/Meta-Llama-3-8B-Instruct', system_fingerprint='3.2.1-native', usage=ChatCompletionOutputUsage(completion_tokens=77, prompt_tokens=218, total_tokens=295), object='chat.completion')\n",
      "ChatCompletionOutput(choices=[ChatCompletionOutputComplete(finish_reason='stop', index=0, message=ChatCompletionOutputMessage(role='assistant', content='{\"classification\": \"background\", \"reasoning\": \"The text is introducing the topic and providing some context by mentioning recent developments in the field, but it is not presenting any specific results or methods. It is setting the stage for the rest of the paper.\"}', tool_calls=None), logprobs=None)], created=1743232037, id='', model='meta-llama/Meta-Llama-3-8B-Instruct', system_fingerprint='3.2.1-native', usage=ChatCompletionOutputUsage(completion_tokens=54, prompt_tokens=169, total_tokens=223), object='chat.completion')\n",
      "ChatCompletionOutput(choices=[ChatCompletionOutputComplete(finish_reason='stop', index=0, message=ChatCompletionOutputMessage(role='assistant', content='{\\n\"classification\": \"background\",\\n\"reasoning\": \"The given text appears to be a background section as it lists the different plant defense compounds, providing a general overview of the field and laying the groundwork for the discussion to follow.\"\\n}', tool_calls=None), logprobs=None)], created=1743232039, id='', model='meta-llama/Meta-Llama-3-8B-Instruct', system_fingerprint='3.2.1-native', usage=ChatCompletionOutputUsage(completion_tokens=49, prompt_tokens=256, total_tokens=305), object='chat.completion')\n",
      "ChatCompletionOutput(choices=[ChatCompletionOutputComplete(finish_reason='stop', index=0, message=ChatCompletionOutputMessage(role='assistant', content='{\"classification\": \"method\", \"reasoning\": \"The text mentions a specific statistical method being used (logistic regression), which is typical of a methods section in a scientific paper. The mention of a reference number [49] also indicates that this is part of the methods section\"}', tool_calls=None), logprobs=None)], created=1743232041, id='', model='meta-llama/Meta-Llama-3-8B-Instruct', system_fingerprint='3.2.1-native', usage=ChatCompletionOutputUsage(completion_tokens=58, prompt_tokens=154, total_tokens=212), object='chat.completion')\n",
      "ChatCompletionOutput(choices=[ChatCompletionOutputComplete(finish_reason='stop', index=0, message=ChatCompletionOutputMessage(role='assistant', content='{\\n\"classification\": \"background\",\\n\"reasoning\": \"The text appears to be a statement of existing knowledge or background information, mentioning previous findings and suggesting a possible explanation for them.\"\\n}', tool_calls=None), logprobs=None)], created=1743232042, id='', model='meta-llama/Meta-Llama-3-8B-Instruct', system_fingerprint='3.2.1-native', usage=ChatCompletionOutputUsage(completion_tokens=39, prompt_tokens=191, total_tokens=230), object='chat.completion')\n",
      "ChatCompletionOutput(choices=[ChatCompletionOutputComplete(finish_reason='stop', index=0, message=ChatCompletionOutputMessage(role='assistant', content='{\"classification\": \"background\", \"reasoning\": \"The sentence is identifying a limitation or a potential pitfall in the estimation of PAF, indicating that it is part of the background or introduction section of the paper, setting the stage for the discussion of the results.\"}', tool_calls=None), logprobs=None)], created=1743232044, id='', model='meta-llama/Meta-Llama-3-8B-Instruct', system_fingerprint='3.2.1-native', usage=ChatCompletionOutputUsage(completion_tokens=56, prompt_tokens=168, total_tokens=224), object='chat.completion')\n",
      "ChatCompletionOutput(choices=[ChatCompletionOutputComplete(finish_reason='stop', index=0, message=ChatCompletionOutputMessage(role='assistant', content='{\"classification\": \"background\", \"reasoning\": \"The text provides background information on previous research about the sgl locus and its relation to the wingless (wg) mutants, setting the stage for the rest of the paper.\"}', tool_calls=None), logprobs=None)], created=1743232045, id='', model='meta-llama/Meta-Llama-3-8B-Instruct', system_fingerprint='3.2.1-native', usage=ChatCompletionOutputUsage(completion_tokens=48, prompt_tokens=180, total_tokens=228), object='chat.completion')\n",
      "ChatCompletionOutput(choices=[ChatCompletionOutputComplete(finish_reason='stop', index=0, message=ChatCompletionOutputMessage(role='assistant', content='{\\n\"classification\": \"background\",\\n\"reasoning\": \"The text appears to be a background section because it provides contextual information about a previous study, discussing the sample used, the condition of interest, and the results found, without presenting any specific new findings or claims. The text sets the stage for a potential investigation or analysis, but does not contain any novel results or data.\"\\n}', tool_calls=None), logprobs=None)], created=1743232047, id='', model='meta-llama/Meta-Llama-3-8B-Instruct', system_fingerprint='3.2.1-native', usage=ChatCompletionOutputUsage(completion_tokens=78, prompt_tokens=193, total_tokens=271), object='chat.completion')\n",
      "ChatCompletionOutput(choices=[ChatCompletionOutputComplete(finish_reason='stop', index=0, message=ChatCompletionOutputMessage(role='assistant', content='{\\n\"classification\": \"background\",\\n\"reasoning\": \"The text is providing context about the origin of the data used in the study, providing details about where the data came from and some background information, but it does not describe the procedures or techniques used to collect the data, which would be typical of a method section.\"\\n}', tool_calls=None), logprobs=None)], created=1743232049, id='', model='meta-llama/Meta-Llama-3-8B-Instruct', system_fingerprint='3.2.1-native', usage=ChatCompletionOutputUsage(completion_tokens=67, prompt_tokens=183, total_tokens=250), object='chat.completion')\n",
      "ChatCompletionOutput(choices=[ChatCompletionOutputComplete(finish_reason='stop', index=0, message=ChatCompletionOutputMessage(role='assistant', content='{\"classification\": \"background\", \"reasoning\": \"The text is discussing evidence from previous research that relates to the general topic of the paper, which is typical of a background section. The mention of a study and a specific population (deaf couples) also suggests that this text is providing context for the rest of the paper, rather than presenting new results or methodology.\"}', tool_calls=None), logprobs=None)], created=1743232051, id='', model='meta-llama/Meta-Llama-3-8B-Instruct', system_fingerprint='3.2.1-native', usage=ChatCompletionOutputUsage(completion_tokens=76, prompt_tokens=177, total_tokens=253), object='chat.completion')\n",
      "ChatCompletionOutput(choices=[ChatCompletionOutputComplete(finish_reason='stop', index=0, message=ChatCompletionOutputMessage(role='assistant', content='{\\n\"classification\": \"background\",\\n\"reasoning\": \"The text provides reference to a previous study, indicating a familiarity with previous research on the topic, which is typical of the background section. The section name is \\'Introduction\\', which usually provides context and sets the stage for the research, and the text rebuzzestablishes the field of study by referencing existing literature, another common background section activity.\"\\n}', tool_calls=None), logprobs=None)], created=1743232055, id='', model='meta-llama/Meta-Llama-3-8B-Instruct', system_fingerprint='3.2.1-native', usage=ChatCompletionOutputUsage(completion_tokens=83, prompt_tokens=174, total_tokens=257), object='chat.completion')\n",
      "ChatCompletionOutput(choices=[ChatCompletionOutputComplete(finish_reason='stop', index=0, message=ChatCompletionOutputMessage(role='assistant', content='{\"classification\": \"method\", \"reasoning\": \"The text is describing a difference in the experimental design used in this study, specifically the type of inoculation method employed, which is characteristic of a method section.\"}', tool_calls=None), logprobs=None)], created=1743232056, id='', model='meta-llama/Meta-Llama-3-8B-Instruct', system_fingerprint='3.2.1-native', usage=ChatCompletionOutputUsage(completion_tokens=45, prompt_tokens=175, total_tokens=220), object='chat.completion')\n",
      "ChatCompletionOutput(choices=[ChatCompletionOutputComplete(finish_reason='stop', index=0, message=ChatCompletionOutputMessage(role='assistant', content='{\\n\"classification\": \"background\",\\n\"reasoning\": \"The text provides a summary of earlier research findings to support the discussion, focusing on the relevance of prolonged imbalance of systemic hemodynamics and insufficient postprandial sympathetic activation to PPH, which is a key study topic. This type of text is typical of a background section, providing a foundation for the study\\'s argument or hypothesis.\"\\n}', tool_calls=None), logprobs=None)], created=1743232058, id='', model='meta-llama/Meta-Llama-3-8B-Instruct', system_fingerprint='3.2.1-native', usage=ChatCompletionOutputUsage(completion_tokens=80, prompt_tokens=188, total_tokens=268), object='chat.completion')\n",
      "ChatCompletionOutput(choices=[ChatCompletionOutputComplete(finish_reason='stop', index=0, message=ChatCompletionOutputMessage(role='assistant', content='{\"classification\": \"background\", \"reasoning\": \"The text is introducing the topic of face processing and citing previous research, which is typical for a background section where the context and knowledge in the field are established.\"}', tool_calls=None), logprobs=None)], created=1743232061, id='', model='meta-llama/Meta-Llama-3-8B-Instruct', system_fingerprint='3.2.1-native', usage=ChatCompletionOutputUsage(completion_tokens=45, prompt_tokens=217, total_tokens=262), object='chat.completion')\n",
      "ChatCompletionOutput(choices=[ChatCompletionOutputComplete(finish_reason='stop', index=0, message=ChatCompletionOutputMessage(role='assistant', content='{\"classification\": \"result\", \"reasoning\": \"The text appears to be a summary of previously conducted research, which is typical of a\\'results\\' section. The fact that it mentions the consistency with findings in the literature further supports this classification, as it implies the presentation of results rather than a setup for the research (background) or a description of the research approach (method).\"}', tool_calls=None), logprobs=None)], created=1743232063, id='', model='meta-llama/Meta-Llama-3-8B-Instruct', system_fingerprint='3.2.1-native', usage=ChatCompletionOutputUsage(completion_tokens=79, prompt_tokens=218, total_tokens=297), object='chat.completion')\n",
      "ChatCompletionOutput(choices=[ChatCompletionOutputComplete(finish_reason='stop', index=0, message=ChatCompletionOutputMessage(role='assistant', content='{\\n\"classification\": \"method\",\\n\"reasoning\": \"The section name is \\'Methods\\' and the text is discussing the experimental design and setup, which is a typical indication of a method section in a scientific paper.\"\\n}', tool_calls=None), logprobs=None)], created=1743232065, id='', model='meta-llama/Meta-Llama-3-8B-Instruct', system_fingerprint='3.2.1-native', usage=ChatCompletionOutputUsage(completion_tokens=46, prompt_tokens=167, total_tokens=213), object='chat.completion')\n",
      "ChatCompletionOutput(choices=[ChatCompletionOutputComplete(finish_reason='stop', index=0, message=ChatCompletionOutputMessage(role='assistant', content='{\"classification\": \"method\", \"reasoning\": \"The text is citing previous research to introduce the concept of BCL-xL regulating the open state of VDAC in synthetic membranes, which implies a discussion of the underlying mechanism, hence classified as a method section.\"}', tool_calls=None), logprobs=None)], created=1743232066, id='', model='meta-llama/Meta-Llama-3-8B-Instruct', system_fingerprint='3.2.1-native', usage=ChatCompletionOutputUsage(completion_tokens=55, prompt_tokens=198, total_tokens=253), object='chat.completion')\n",
      "ChatCompletionOutput(choices=[ChatCompletionOutputComplete(finish_reason='stop', index=0, message=ChatCompletionOutputMessage(role='assistant', content='{\"classification\": \"background\", \"reasoning\": \"This text appears to be a background section because it is referencing previous research and explaining the context of the study, specifically discussing the findings of others on the topic of the behavior of Gram-negative bacteria with different antibiotics. This type of information is usually presented in the introduction or background section of a scientific paper to provide context and establish the significance of the study.\"}', tool_calls=None), logprobs=None)], created=1743232069, id='', model='meta-llama/Meta-Llama-3-8B-Instruct', system_fingerprint='3.2.1-native', usage=ChatCompletionOutputUsage(completion_tokens=83, prompt_tokens=203, total_tokens=286), object='chat.completion')\n",
      "ChatCompletionOutput(choices=[ChatCompletionOutputComplete(finish_reason='stop', index=0, message=ChatCompletionOutputMessage(role='assistant', content='{\\n\"classification\": \"background\",\\n\"reasoning\": \"The text discusses previous studies and the properties of the Montgomery-Åsberg Depression Rating Scale, providing background information. It does not describe the methodology used in the study, nor does it present specific results. Instead, it appears to be setting the stage for the research being conducted.\"\\n}', tool_calls=None), logprobs=None)], created=1743232071, id='', model='meta-llama/Meta-Llama-3-8B-Instruct', system_fingerprint='3.2.1-native', usage=ChatCompletionOutputUsage(completion_tokens=70, prompt_tokens=196, total_tokens=266), object='chat.completion')\n",
      "ChatCompletionOutput(choices=[ChatCompletionOutputComplete(finish_reason='stop', index=0, message=ChatCompletionOutputMessage(role='assistant', content='{\\n    \"classification\": \"result\",\\n    \"reasoning\": \"The text appears to be presenting previously obtained results, specifically the findings that are consistent with a specific concept, which is a characteristic of the\\'result\\' section in a scientific paper.\"\\n}', tool_calls=None), logprobs=None)], created=1743232072, id='', model='meta-llama/Meta-Llama-3-8B-Instruct', system_fingerprint='3.2.1-native', usage=ChatCompletionOutputUsage(completion_tokens=52, prompt_tokens=161, total_tokens=213), object='chat.completion')\n",
      "ChatCompletionOutput(choices=[ChatCompletionOutputComplete(finish_reason='stop', index=0, message=ChatCompletionOutputMessage(role='assistant', content='{\\n\"classification\": \"method\",\\n\"reasoning\": \"The text is describing a specific approach or technique used in the research, mentioning a proposed method for reducing indels at off-target sites, and referencing previous studies where this method was discussed.\"\\n}', tool_calls=None), logprobs=None)], created=1743232074, id='', model='meta-llama/Meta-Llama-3-8B-Instruct', system_fingerprint='3.2.1-native', usage=ChatCompletionOutputUsage(completion_tokens=51, prompt_tokens=185, total_tokens=236), object='chat.completion')\n",
      "ChatCompletionOutput(choices=[ChatCompletionOutputComplete(finish_reason='stop', index=0, message=ChatCompletionOutputMessage(role='assistant', content='{\\n\"classification\": \"background\",\\n\"reasoning\": \"The text provides information about a technology or a piece of equipment, which is typical of a background section in a scientific paper. It is providing context and setting the stage for the research, rather than presenting original results or describing the methods used to obtain them.\"\\n}', tool_calls=None), logprobs=None)], created=1743232076, id='', model='meta-llama/Meta-Llama-3-8B-Instruct', system_fingerprint='3.2.1-native', usage=ChatCompletionOutputUsage(completion_tokens=65, prompt_tokens=174, total_tokens=239), object='chat.completion')\n",
      "ChatCompletionOutput(choices=[ChatCompletionOutputComplete(finish_reason='stop', index=0, message=ChatCompletionOutputMessage(role='assistant', content='{\"classification\": \"result\", \"reasoning\": \"The text is mentioning a specific experiment and its outcome, a result is typically expected in this section, moreover, it\\'s also mentioning a previous study and a figure, which suggests that it\\'s presenting the outcome of a particular experiment\"}', tool_calls=None), logprobs=None)], created=1743232077, id='', model='meta-llama/Meta-Llama-3-8B-Instruct', system_fingerprint='3.2.1-native', usage=ChatCompletionOutputUsage(completion_tokens=58, prompt_tokens=215, total_tokens=273), object='chat.completion')\n",
      "ChatCompletionOutput(choices=[ChatCompletionOutputComplete(finish_reason='stop', index=0, message=ChatCompletionOutputMessage(role='assistant', content='{\"classification\": \"result\", \"reasoning\": \"The text states the main results of the study, specifically that all coated NiTi wires showed more deflection with the unloading force than the loading force, and supports this with citations to previous studies\"}', tool_calls=None), logprobs=None)], created=1743232079, id='', model='meta-llama/Meta-Llama-3-8B-Instruct', system_fingerprint='3.2.1-native', usage=ChatCompletionOutputUsage(completion_tokens=52, prompt_tokens=212, total_tokens=264), object='chat.completion')\n",
      "ChatCompletionOutput(choices=[ChatCompletionOutputComplete(finish_reason='stop', index=0, message=ChatCompletionOutputMessage(role='assistant', content='{\\n\"classification\": \"background\",\\n\"reasoning\": \"The section name indicates that it\\'s investigating a specific topic, but the text of \\'1. Introduction\\' suggests it\\'s an introductory section, likely providing context and background information on the topic being investigated.\"\\n}', tool_calls=None), logprobs=None)], created=1743232080, id='', model='meta-llama/Meta-Llama-3-8B-Instruct', system_fingerprint='3.2.1-native', usage=ChatCompletionOutputUsage(completion_tokens=54, prompt_tokens=157, total_tokens=211), object='chat.completion')\n",
      "ChatCompletionOutput(choices=[ChatCompletionOutputComplete(finish_reason='stop', index=0, message=ChatCompletionOutputMessage(role='assistant', content='{\"classification\": \"background\", \"reasoning\": \"The text is describing the evaluation methodology and compares the results with a reference model, which is a typical background section scenario to introduce the context, relevance and relevance of the research to the reader.\"}', tool_calls=None), logprobs=None)], created=1743232082, id='', model='meta-llama/Meta-Llama-3-8B-Instruct', system_fingerprint='3.2.1-native', usage=ChatCompletionOutputUsage(completion_tokens=51, prompt_tokens=191, total_tokens=242), object='chat.completion')\n",
      "ChatCompletionOutput(choices=[ChatCompletionOutputComplete(finish_reason='stop', index=0, message=ChatCompletionOutputMessage(role='assistant', content='{\\n\"classification\": \"method\",\\n\"reasoning\": \"The text provides information about the exclusion criteria and the final number of subjects included in the study, which is typical for the\\'methods\\' section of a scientific paper.\"\\n}', tool_calls=None), logprobs=None)], created=1743232083, id='', model='meta-llama/Meta-Llama-3-8B-Instruct', system_fingerprint='3.2.1-native', usage=ChatCompletionOutputUsage(completion_tokens=47, prompt_tokens=195, total_tokens=242), object='chat.completion')\n",
      "ChatCompletionOutput(choices=[ChatCompletionOutputComplete(finish_reason='stop', index=0, message=ChatCompletionOutputMessage(role='assistant', content='{\"classification\": \"method\", \"reasoning\": \"The text does not appear to be a discussion section, as it does not summarize or interpret the results. Instead, it seems to be discussing the design of the study, specifically the adaptation period (3 mo) allowed to the patients.\"}', tool_calls=None), logprobs=None)], created=1743232084, id='', model='meta-llama/Meta-Llama-3-8B-Instruct', system_fingerprint='3.2.1-native', usage=ChatCompletionOutputUsage(completion_tokens=60, prompt_tokens=166, total_tokens=226), object='chat.completion')\n",
      "ChatCompletionOutput(choices=[ChatCompletionOutputComplete(finish_reason='stop', index=0, message=ChatCompletionOutputMessage(role='assistant', content='{\"classification\": \"background\", \"reasoning\": \"The text appears to be discussing the historical context and knowledge gap regarding the factors contributing to drought conditions during the Dust Bowl era, which is a general background information rather than presenting specific results or methods.\"}', tool_calls=None), logprobs=None)], created=1743232086, id='', model='meta-llama/Meta-Llama-3-8B-Instruct', system_fingerprint='3.2.1-native', usage=ChatCompletionOutputUsage(completion_tokens=52, prompt_tokens=204, total_tokens=256), object='chat.completion')\n",
      "ChatCompletionOutput(choices=[ChatCompletionOutputComplete(finish_reason='stop', index=0, message=ChatCompletionOutputMessage(role='assistant', content='{\"classification\": \"background\", \"reasoning\": \"This section focuses on introducing the concept of MBs and citing relevant studies, indicating that it is a background section where the background information about the topic is presented.\"}', tool_calls=None), logprobs=None)], created=1743232087, id='', model='meta-llama/Meta-Llama-3-8B-Instruct', system_fingerprint='3.2.1-native', usage=ChatCompletionOutputUsage(completion_tokens=45, prompt_tokens=182, total_tokens=227), object='chat.completion')\n",
      "ChatCompletionOutput(choices=[ChatCompletionOutputComplete(finish_reason='stop', index=0, message=ChatCompletionOutputMessage(role='assistant', content='{\\n\"classification\": \"background\",\\n\"reasoning\": \"The text provides information about the existing knowledge in the field, specifically about previous studies, and does not describe the methodology used in the current study, but rather provides context.\"\\n}', tool_calls=None), logprobs=None)], created=1743232089, id='', model='meta-llama/Meta-Llama-3-8B-Instruct', system_fingerprint='3.2.1-native', usage=ChatCompletionOutputUsage(completion_tokens=48, prompt_tokens=187, total_tokens=235), object='chat.completion')\n",
      "ChatCompletionOutput(choices=[ChatCompletionOutputComplete(finish_reason='stop', index=0, message=ChatCompletionOutputMessage(role='assistant', content='{\\n\"classification\": \"method\",\\n\"reasoning\": \"The text appears to be discussing the interpretation of semi-log plots, which is a methodological aspect. The mention of exponential distributions also suggests that the author is discussing a specific method or technique used to analyze the data.\"\\n}', tool_calls=None), logprobs=None)], created=1743232090, id='', model='meta-llama/Meta-Llama-3-8B-Instruct', system_fingerprint='3.2.1-native', usage=ChatCompletionOutputUsage(completion_tokens=57, prompt_tokens=148, total_tokens=205), object='chat.completion')\n",
      "ChatCompletionOutput(choices=[ChatCompletionOutputComplete(finish_reason='stop', index=0, message=ChatCompletionOutputMessage(role='assistant', content='{\"classification\": \"background\", \"reasoning\": \"The text appears to be describing the dataset used in the experiment, providing information about the Extended Yale B dataset and its characteristics. This is typical of the background section in a scientific paper, where the authors introduce the context and framework of the research.\"}', tool_calls=None), logprobs=None)], created=1743232092, id='', model='meta-llama/Meta-Llama-3-8B-Instruct', system_fingerprint='3.2.1-native', usage=ChatCompletionOutputUsage(completion_tokens=62, prompt_tokens=160, total_tokens=222), object='chat.completion')\n",
      "ChatCompletionOutput(choices=[ChatCompletionOutputComplete(finish_reason='stop', index=0, message=ChatCompletionOutputMessage(role='assistant', content='{\\n\"classification\": \"background\",\\n\"reasoning\": \"The provided text discusses previous research and the rarity of reporting a specific capability for certain isolates, which indicates a background or introduction section providing context for the study.\"\\n}', tool_calls=None), logprobs=None)], created=1743232094, id='', model='meta-llama/Meta-Llama-3-8B-Instruct', system_fingerprint='3.2.1-native', usage=ChatCompletionOutputUsage(completion_tokens=46, prompt_tokens=187, total_tokens=233), object='chat.completion')\n",
      "ChatCompletionOutput(choices=[ChatCompletionOutputComplete(finish_reason='stop', index=0, message=ChatCompletionOutputMessage(role='assistant', content='{\"classification\": \"method\", \"reasoning\": \"The section name provided is \\'Methods\\' and the text explicitly states the use of a specific equation, indicating that this section is describing the methods used to obtain the results.\"}', tool_calls=None), logprobs=None)], created=1743232095, id='', model='meta-llama/Meta-Llama-3-8B-Instruct', system_fingerprint='3.2.1-native', usage=ChatCompletionOutputUsage(completion_tokens=47, prompt_tokens=171, total_tokens=218), object='chat.completion')\n",
      "ChatCompletionOutput(choices=[ChatCompletionOutputComplete(finish_reason='stop', index=0, message=ChatCompletionOutputMessage(role='assistant', content='{\\n\"classification\": \"background\",\\n\"reasoning\": \"The provided text appears to be background information because it mentions previous research and its relevance to the current study, specifically citing a specific publication (Dong et al. 2008b). This is a characteristic of the introduction section, where authors typically provide context and background information to set the stage for the rest of the paper.\"\\n}', tool_calls=None), logprobs=None)], created=1743232097, id='', model='meta-llama/Meta-Llama-3-8B-Instruct', system_fingerprint='3.2.1-native', usage=ChatCompletionOutputUsage(completion_tokens=79, prompt_tokens=161, total_tokens=240), object='chat.completion')\n",
      "ChatCompletionOutput(choices=[ChatCompletionOutputComplete(finish_reason='stop', index=0, message=ChatCompletionOutputMessage(role='assistant', content='{\\n\"classification\": \"method\",\\n\"reasoning\": \"The text explicitly mentions the Lin-Kernighan heuristic and its implementation, indicating that this is the method section where the author is describing the approach used to solve the problem.\"\\n}', tool_calls=None), logprobs=None)], created=1743232099, id='', model='meta-llama/Meta-Llama-3-8B-Instruct', system_fingerprint='3.2.1-native', usage=ChatCompletionOutputUsage(completion_tokens=49, prompt_tokens=183, total_tokens=232), object='chat.completion')\n",
      "ChatCompletionOutput(choices=[ChatCompletionOutputComplete(finish_reason='stop', index=0, message=ChatCompletionOutputMessage(role='assistant', content='{\"classification\": \"background\", \"reasoning\": \"The text is discussing various forms of elevated CK signaling, providing context for a scientific topic, which is typical of the background section in a scientific paper.\"}', tool_calls=None), logprobs=None)], created=1743232100, id='', model='meta-llama/Meta-Llama-3-8B-Instruct', system_fingerprint='3.2.1-native', usage=ChatCompletionOutputUsage(completion_tokens=43, prompt_tokens=188, total_tokens=231), object='chat.completion')\n",
      "ChatCompletionOutput(choices=[ChatCompletionOutputComplete(finish_reason='stop', index=0, message=ChatCompletionOutputMessage(role='assistant', content='{\"classification\": \"background\", \"reasoning\": \"The text is providing background information, specifically citing previous studies that support the current study\\'s findings. It does not contain specific results or methods, but rather sets the stage for the subsequent discussion.\"}', tool_calls=None), logprobs=None)], created=1743232102, id='', model='meta-llama/Meta-Llama-3-8B-Instruct', system_fingerprint='3.2.1-native', usage=ChatCompletionOutputUsage(completion_tokens=51, prompt_tokens=239, total_tokens=290), object='chat.completion')\n"
     ]
    }
   ],
   "source": [
    "labels = []\n",
    "reasonings = []\n",
    "raw_output = []\n",
    "client, _ = initialize_model(\"\")\n",
    "start = 50\n",
    "end = start + 50\n",
    "for i in range(start, end):\n",
    "    current_data = data.iloc[i]\n",
    "    classification, reasoning = call_llm(client, \"\", current_data.string, current_data.sectionName)\n",
    "    raw_output.append(classification)\n",
    "    labels.append(classification)\n",
    "    reasonings.append(reasoning)\n",
    "\n",
    "df = pd.DataFrame(zip(labels, reasonings), columns=[\"id\", \"reasoning\"])\n",
    "df.to_csv(f\"{start}_{end}.csv\")"
   ]
  },
  {
   "cell_type": "code",
   "execution_count": 10,
   "metadata": {},
   "outputs": [
    {
     "name": "stdout",
     "output_type": "stream",
     "text": [
      "['background', 'background', 'method', 'method', 'background', 'method', 'background', 'method', 'background', 'background', 'background', 'background', 'background', 'background', 'method', 'background', 'background', 'background', 'background', 'background', 'background', 'background', 'method', 'background', 'background', 'result', 'method', 'method', 'background', 'background', 'result', 'method', 'background', 'result', 'result', 'background', 'background', 'method', 'method', 'background', 'background', 'background', 'method', 'background', 'background', 'method', 'background', 'method', 'background', 'background']\n",
      "['The text is providing a summary of the main distribution of 13-galactosidase-producing cells in tissues from different lines, which is typical of the background section in a scientific paper, where authors usually introduce the context and provide necessary context for the study.', 'The text discusses previous research and provides context for the significance of the finding, which is a characteristic of a background section.', \"This text specifies the method used to assess the neurodevelopmental outcome, providing details on the instrument used (Revised Griffith's scales of Mental Development) and the age at which the assessment was taken (24 months)\", 'The text appears to be discussing the effects of a specific compound BHT on specific cell types and tissues, which is characteristic of the method section where authors describe the procedures and experiments conducted to achieve the results.', \"The text is providing context and previous research to establish the foundation for the current study, highlighting the differences between the authors' approach and others. The language used is descriptive and explanatory, without any specific data or results presented, which is typical of the background section in a scientific paper.\", 'The text is mentioning the manipulation of the HPA axis through pharmacological or surgical means, which suggests that it is discussing a potential method or technique used in the study, rather than the results or background. This type of language is often used in the methods section to describe the experimental design and procedures used in the study.', \"The text provides a background on elk behavior and habitat selection in the presence of wolf predation risk, citing previous studies. It does not present any new findings, hypotheses, or experimental design, which are common characteristics of the'method' section. The text does not explicitly state a result or conclusion, which are typical of the'result' section. Therefore, the classification is 'background'.\", 'The provided text is describing known mechanisms of resistance to CDDP, which is a fundamental concept in cancer research. This is more typical of a method or background section, where the authors are setting the stage and providing context for the research that will follow.', 'The text appears to be providing context and mentioning previous studies that are relevant to the research, which is typical of a background section in a scientific paper, as it sets the stage for the research that follows.', 'The text appears to be providing context about the topic by describing other potential carcinogenic effects of insulin resistance, and referencing a specific study [1]. This indicates that the author is setting the stage for the main topic, and the text is providing general knowledge about the field rather than presenting experimental results or describing a specific method.', 'The text mentions recent studies and references, indicating that it is providing context and background information to establish the significance and relevance of the research being conducted.', 'The text is discussing previous studies to establish the context for the current study, which is a characteristic of a background section. The text is presenting existing knowledge and its relevance to the current research, rather than presenting new experimental data or the methods used to collect the data, which are typical of the result and method sections respectively.', 'The text is introducing the topic and providing some context by mentioning recent developments in the field, but it is not presenting any specific results or methods. It is setting the stage for the rest of the paper.', 'The given text appears to be a background section as it lists the different plant defense compounds, providing a general overview of the field and laying the groundwork for the discussion to follow.', 'The text mentions a specific statistical method being used (logistic regression), which is typical of a methods section in a scientific paper. The mention of a reference number [49] also indicates that this is part of the methods section', 'The text appears to be a statement of existing knowledge or background information, mentioning previous findings and suggesting a possible explanation for them.', 'The sentence is identifying a limitation or a potential pitfall in the estimation of PAF, indicating that it is part of the background or introduction section of the paper, setting the stage for the discussion of the results.', 'The text provides background information on previous research about the sgl locus and its relation to the wingless (wg) mutants, setting the stage for the rest of the paper.', 'The text appears to be a background section because it provides contextual information about a previous study, discussing the sample used, the condition of interest, and the results found, without presenting any specific new findings or claims. The text sets the stage for a potential investigation or analysis, but does not contain any novel results or data.', 'The text is providing context about the origin of the data used in the study, providing details about where the data came from and some background information, but it does not describe the procedures or techniques used to collect the data, which would be typical of a method section.', 'The text is discussing evidence from previous research that relates to the general topic of the paper, which is typical of a background section. The mention of a study and a specific population (deaf couples) also suggests that this text is providing context for the rest of the paper, rather than presenting new results or methodology.', \"The text provides reference to a previous study, indicating a familiarity with previous research on the topic, which is typical of the background section. The section name is 'Introduction', which usually provides context and sets the stage for the research, and the text rebuzzestablishes the field of study by referencing existing literature, another common background section activity.\", 'The text is describing a difference in the experimental design used in this study, specifically the type of inoculation method employed, which is characteristic of a method section.', \"The text provides a summary of earlier research findings to support the discussion, focusing on the relevance of prolonged imbalance of systemic hemodynamics and insufficient postprandial sympathetic activation to PPH, which is a key study topic. This type of text is typical of a background section, providing a foundation for the study's argument or hypothesis.\", 'The text is introducing the topic of face processing and citing previous research, which is typical for a background section where the context and knowledge in the field are established.', \"The text appears to be a summary of previously conducted research, which is typical of a'results' section. The fact that it mentions the consistency with findings in the literature further supports this classification, as it implies the presentation of results rather than a setup for the research (background) or a description of the research approach (method).\", \"The section name is 'Methods' and the text is discussing the experimental design and setup, which is a typical indication of a method section in a scientific paper.\", 'The text is citing previous research to introduce the concept of BCL-xL regulating the open state of VDAC in synthetic membranes, which implies a discussion of the underlying mechanism, hence classified as a method section.', 'This text appears to be a background section because it is referencing previous research and explaining the context of the study, specifically discussing the findings of others on the topic of the behavior of Gram-negative bacteria with different antibiotics. This type of information is usually presented in the introduction or background section of a scientific paper to provide context and establish the significance of the study.', 'The text discusses previous studies and the properties of the Montgomery-Åsberg Depression Rating Scale, providing background information. It does not describe the methodology used in the study, nor does it present specific results. Instead, it appears to be setting the stage for the research being conducted.', \"The text appears to be presenting previously obtained results, specifically the findings that are consistent with a specific concept, which is a characteristic of the'result' section in a scientific paper.\", 'The text is describing a specific approach or technique used in the research, mentioning a proposed method for reducing indels at off-target sites, and referencing previous studies where this method was discussed.', 'The text provides information about a technology or a piece of equipment, which is typical of a background section in a scientific paper. It is providing context and setting the stage for the research, rather than presenting original results or describing the methods used to obtain them.', \"The text is mentioning a specific experiment and its outcome, a result is typically expected in this section, moreover, it's also mentioning a previous study and a figure, which suggests that it's presenting the outcome of a particular experiment\", 'The text states the main results of the study, specifically that all coated NiTi wires showed more deflection with the unloading force than the loading force, and supports this with citations to previous studies', \"The section name indicates that it's investigating a specific topic, but the text of '1. Introduction' suggests it's an introductory section, likely providing context and background information on the topic being investigated.\", 'The text is describing the evaluation methodology and compares the results with a reference model, which is a typical background section scenario to introduce the context, relevance and relevance of the research to the reader.', \"The text provides information about the exclusion criteria and the final number of subjects included in the study, which is typical for the'methods' section of a scientific paper.\", 'The text does not appear to be a discussion section, as it does not summarize or interpret the results. Instead, it seems to be discussing the design of the study, specifically the adaptation period (3 mo) allowed to the patients.', 'The text appears to be discussing the historical context and knowledge gap regarding the factors contributing to drought conditions during the Dust Bowl era, which is a general background information rather than presenting specific results or methods.', 'This section focuses on introducing the concept of MBs and citing relevant studies, indicating that it is a background section where the background information about the topic is presented.', 'The text provides information about the existing knowledge in the field, specifically about previous studies, and does not describe the methodology used in the current study, but rather provides context.', 'The text appears to be discussing the interpretation of semi-log plots, which is a methodological aspect. The mention of exponential distributions also suggests that the author is discussing a specific method or technique used to analyze the data.', 'The text appears to be describing the dataset used in the experiment, providing information about the Extended Yale B dataset and its characteristics. This is typical of the background section in a scientific paper, where the authors introduce the context and framework of the research.', 'The provided text discusses previous research and the rarity of reporting a specific capability for certain isolates, which indicates a background or introduction section providing context for the study.', \"The section name provided is 'Methods' and the text explicitly states the use of a specific equation, indicating that this section is describing the methods used to obtain the results.\", 'The provided text appears to be background information because it mentions previous research and its relevance to the current study, specifically citing a specific publication (Dong et al. 2008b). This is a characteristic of the introduction section, where authors typically provide context and background information to set the stage for the rest of the paper.', 'The text explicitly mentions the Lin-Kernighan heuristic and its implementation, indicating that this is the method section where the author is describing the approach used to solve the problem.', 'The text is discussing various forms of elevated CK signaling, providing context for a scientific topic, which is typical of the background section in a scientific paper.', \"The text is providing background information, specifically citing previous studies that support the current study's findings. It does not contain specific results or methods, but rather sets the stage for the subsequent discussion.\"]\n"
     ]
    }
   ],
   "source": [
    "print(labels)\n",
    "print(reasonings)"
   ]
  },
  {
   "cell_type": "code",
   "execution_count": 11,
   "metadata": {},
   "outputs": [],
   "source": [
    "# reasonings = [\" \".join([x.strip() for x in y[1:]]) for y in raw_output]"
   ]
  },
  {
   "cell_type": "code",
   "execution_count": 12,
   "metadata": {},
   "outputs": [
    {
     "name": "stdout",
     "output_type": "stream",
     "text": [
      "['background', 'background', 'method', 'method', 'background', 'method', 'background', 'method', 'background', 'background', 'background', 'background', 'background', 'background', 'method', 'background', 'background', 'background', 'background', 'background', 'background', 'background', 'method', 'background', 'background', 'result', 'method', 'method', 'background', 'background', 'result', 'method', 'background', 'result', 'result', 'background', 'background', 'method', 'method', 'background', 'background', 'background', 'method', 'background', 'background', 'method', 'background', 'method', 'background', 'background']\n"
     ]
    }
   ],
   "source": [
    "print(labels)"
   ]
  },
  {
   "cell_type": "code",
   "execution_count": 13,
   "metadata": {},
   "outputs": [],
   "source": [
    "df = pd.DataFrame(zip(labels, reasonings), columns=[\"id\", \"reasoning\"])\n",
    "df.to_csv(\"first_50.csv\", )"
   ]
  }
 ],
 "metadata": {
  "kernelspec": {
   "display_name": "3.10.4",
   "language": "python",
   "name": "python3"
  },
  "language_info": {
   "codemirror_mode": {
    "name": "ipython",
    "version": 3
   },
   "file_extension": ".py",
   "mimetype": "text/x-python",
   "name": "python",
   "nbconvert_exporter": "python",
   "pygments_lexer": "ipython3",
   "version": "3.11.8"
  }
 },
 "nbformat": 4,
 "nbformat_minor": 2
}
