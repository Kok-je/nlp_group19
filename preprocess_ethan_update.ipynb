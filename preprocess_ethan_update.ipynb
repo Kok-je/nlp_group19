{
 "cells": [
  {
   "cell_type": "markdown",
   "metadata": {},
   "source": [
    "The following code cell ensures that the underlying `.py` file gets automatically reloaded after you save any changes.  "
   ]
  },
  {
   "cell_type": "code",
   "execution_count": 13,
   "metadata": {},
   "outputs": [],
   "source": [
    "%load_ext autoreload\n",
    "%autoreload 2"
   ]
  },
  {
   "cell_type": "code",
   "execution_count": 2,
   "metadata": {},
   "outputs": [],
   "source": [
    "import pandas as pd    \n",
    "from model import initialize_model, call_llm"
   ]
  },
  {
   "cell_type": "code",
   "execution_count": 3,
   "metadata": {},
   "outputs": [],
   "source": [
    "\n",
    "def preprocess(file_path):\n",
    "    data = pd.read_json(path_or_buf=file_path, lines=True)\n",
    "    ids = set()\n",
    "    rows_to_be_dropped = []\n",
    "    for i in range(len(data)):\n",
    "        row = data.iloc[i]\n",
    "        if row.unique_id in ids:\n",
    "            rows_to_be_dropped.append(i)\n",
    "        else:\n",
    "            ids.add(row.unique_id)\n",
    "    data = data.drop(rows_to_be_dropped)\n",
    "    return data"
   ]
  },
  {
   "cell_type": "code",
   "execution_count": 4,
   "metadata": {},
   "outputs": [],
   "source": [
    "data = preprocess(\"./data/train.jsonl\")"
   ]
  },
  {
   "cell_type": "code",
   "execution_count": 5,
   "metadata": {},
   "outputs": [
    {
     "name": "stdout",
     "output_type": "stream",
     "text": [
      "{'method', 'background', 'result'}\n"
     ]
    }
   ],
   "source": [
    "print(set([x for x in data[\"label\"]]))"
   ]
  },
  {
   "cell_type": "code",
   "execution_count": 6,
   "metadata": {},
   "outputs": [
    {
     "name": "stdout",
     "output_type": "stream",
     "text": [
      "     source  citeEnd                                        sectionName  \\\n",
      "0  explicit    175.0                                       Introduction   \n",
      "1  explicit     36.0  Novel Quantitative Trait Loci for Seminal Root...   \n",
      "2  explicit    228.0                                       Introduction   \n",
      "3  explicit    110.0                                         Discussion   \n",
      "4  explicit    239.0                                         Discussion   \n",
      "\n",
      "   citeStart                                             string       label  \\\n",
      "0      168.0  However, how frataxin interacts with the Fe-S ...  background   \n",
      "1       16.0  In the study by Hickey et al. (2012), spikes w...  background   \n",
      "2      225.0  The drug also reduces catecholamine secretion,...  background   \n",
      "3       46.0  By clustering with lowly aggressive close kin ...  background   \n",
      "4      234.0  Ophthalmic symptoms are rare manifestations of...  background   \n",
      "\n",
      "   label_confidence                             citingPaperId  \\\n",
      "0               1.0  1872080baa7d30ec8fb87be9a65358cd3a7fb649   \n",
      "1               1.0  ce1d09a4a3a8d7fd3405b9328f65f00c952cf64b   \n",
      "2               1.0  9cdf605beb1aa1078f235c4332b3024daa8b31dc   \n",
      "3               1.0  d9f3207db0c79a3b154f3875c9760cc6b056904b   \n",
      "4               1.0  88b86556857f4374842d2af2e359576806239175   \n",
      "\n",
      "                               citedPaperId  isKeyCitation  \\\n",
      "0  894be9b4ea46a5c422e81ef3c241072d4c73fdc0           True   \n",
      "1  b6642e19efb8db5623b3cc4eef1c5822a6151107           True   \n",
      "2  4e6a17fb8d7a3cada601d942e22eb5da6d01adbd          False   \n",
      "3  2cc6ff899bf17666ad35893524a4d61624555ed7          False   \n",
      "4  a5bb0ff1a026944d2a47a155462959af2b8505a8          False   \n",
      "\n",
      "                                                  id  \\\n",
      "0  1872080baa7d30ec8fb87be9a65358cd3a7fb649>894be...   \n",
      "1  ce1d09a4a3a8d7fd3405b9328f65f00c952cf64b>b6642...   \n",
      "2  9cdf605beb1aa1078f235c4332b3024daa8b31dc>4e6a1...   \n",
      "3  d9f3207db0c79a3b154f3875c9760cc6b056904b>2cc6f...   \n",
      "4  88b86556857f4374842d2af2e359576806239175>a5bb0...   \n",
      "\n",
      "                                           unique_id  excerpt_index label2  \\\n",
      "0  1872080baa7d30ec8fb87be9a65358cd3a7fb649>894be...             11    NaN   \n",
      "1  ce1d09a4a3a8d7fd3405b9328f65f00c952cf64b>b6642...              2    NaN   \n",
      "2  9cdf605beb1aa1078f235c4332b3024daa8b31dc>4e6a1...              0    NaN   \n",
      "3  d9f3207db0c79a3b154f3875c9760cc6b056904b>2cc6f...              3    NaN   \n",
      "4  88b86556857f4374842d2af2e359576806239175>a5bb0...              2    NaN   \n",
      "\n",
      "   label2_confidence  \n",
      "0                NaN  \n",
      "1                NaN  \n",
      "2                NaN  \n",
      "3                NaN  \n",
      "4                NaN  \n"
     ]
    }
   ],
   "source": [
    "print(data.head())"
   ]
  },
  {
   "cell_type": "code",
   "execution_count": 6,
   "metadata": {},
   "outputs": [
    {
     "name": "stdout",
     "output_type": "stream",
     "text": [
      "However, how frataxin interacts with the Fe-S cluster biosynthesis components remains unclear as direct one-to-one interactions with each component were reported (IscS [12,22], IscU/Isu1 [6,11,16] or ISD11/Isd11 [14,15]).\n"
     ]
    }
   ],
   "source": [
    "print(data.iloc[0].string)"
   ]
  },
  {
   "cell_type": "code",
   "execution_count": 7,
   "metadata": {},
   "outputs": [
    {
     "name": "stdout",
     "output_type": "stream",
     "text": [
      "8194\n"
     ]
    }
   ],
   "source": [
    "print(len(data))"
   ]
  },
  {
   "cell_type": "code",
   "execution_count": 8,
   "metadata": {},
   "outputs": [
    {
     "name": "stdout",
     "output_type": "stream",
     "text": [
      "ChatCompletionOutput(choices=[ChatCompletionOutputComplete(finish_reason='stop', index=0, message=ChatCompletionOutputMessage(role='assistant', content='{\\n\"classification\": \"background\",\\n\"reasoning\": \"The text is discussing the current state of knowledge in the field, referencing previous studies and highlighting the gap in understanding. This is typical of an introduction section, which sets the stage for the research by providing context and summarizing the current understanding of the topic.\"\\n}', tool_calls=None), logprobs=None)], created=1743231178, id='', model='meta-llama/Meta-Llama-3-8B-Instruct', system_fingerprint='3.2.1-native', usage=ChatCompletionOutputUsage(completion_tokens=65, prompt_tokens=195, total_tokens=260), object='chat.completion')\n",
      "ChatCompletionOutput(choices=[ChatCompletionOutputComplete(finish_reason='stop', index=0, message=ChatCompletionOutputMessage(role='assistant', content='{\"classification\": \"method\", \"reasoning\": \"This text appears to describe a specific method used to sample and preserve the grain for germination testing, as it mentions storing the grain at -20C and preserving grain dormancy. This type of information is typically found in the Methods section of a scientific paper.\"}', tool_calls=None), logprobs=None)], created=1743231180, id='', model='meta-llama/Meta-Llama-3-8B-Instruct', system_fingerprint='3.2.1-native', usage=ChatCompletionOutputUsage(completion_tokens=65, prompt_tokens=214, total_tokens=279), object='chat.completion')\n",
      "ChatCompletionOutput(choices=[ChatCompletionOutputComplete(finish_reason='stop', index=0, message=ChatCompletionOutputMessage(role='assistant', content='{\\n\"classification\": \"background\",\\n\"reasoning\": \"The text describes the effects of the drug, including its mechanism of action and physiological effects, which are typical characteristics of background information. The text does not present new data or results, but rather provides a general overview of the drug\\'s properties, which is typical of an introduction section.\"\\n}', tool_calls=None), logprobs=None)], created=1743231182, id='', model='meta-llama/Meta-Llama-3-8B-Instruct', system_fingerprint='3.2.1-native', usage=ChatCompletionOutputUsage(completion_tokens=70, prompt_tokens=196, total_tokens=266), object='chat.completion')\n",
      "ChatCompletionOutput(choices=[ChatCompletionOutputComplete(finish_reason='stop', index=0, message=ChatCompletionOutputMessage(role='assistant', content='{\"classification\": \"background\", \"reasoning\": \"The text discusses the breeding habits of animals and references previous studies, indicating that it is providing background information on the topic. The text is summarizing existing research and how it relates to the main topic, rather than presenting new experimental results or describing the methodology used to collect data.\"}', tool_calls=None), logprobs=None)], created=1743231183, id='', model='meta-llama/Meta-Llama-3-8B-Instruct', system_fingerprint='3.2.1-native', usage=ChatCompletionOutputUsage(completion_tokens=68, prompt_tokens=226, total_tokens=294), object='chat.completion')\n",
      "ChatCompletionOutput(choices=[ChatCompletionOutputComplete(finish_reason='stop', index=0, message=ChatCompletionOutputMessage(role='assistant', content='{\"classification\": \"background\", \"reasoning\": \"The provided text is about general facts and existing knowledge (ophthalmic symptoms) of a specific condition (intracranial arachnoid cyst), which is typical of a background section. The sentences provide a general understanding of the topic without presenting any original data or results.\"}', tool_calls=None), logprobs=None)], created=1743231185, id='', model='meta-llama/Meta-Llama-3-8B-Instruct', system_fingerprint='3.2.1-native', usage=ChatCompletionOutputUsage(completion_tokens=69, prompt_tokens=186, total_tokens=255), object='chat.completion')\n",
      "ChatCompletionOutput(choices=[ChatCompletionOutputComplete(finish_reason='stop', index=0, message=ChatCompletionOutputMessage(role='assistant', content='{\"classification\": \"method\", \"reasoning\": \"The text mentions a specific compound (MK-1775) and its effects on cancer cells, which is consistent with a method section. Additionally, the text is not summarizing or interpreting existing knowledge, but rather referring to specific experiments or techniques used to investigate the target molecule Wee1, which is typical of a method section.\"}', tool_calls=None), logprobs=None)], created=1743231187, id='', model='meta-llama/Meta-Llama-3-8B-Instruct', system_fingerprint='3.2.1-native', usage=ChatCompletionOutputUsage(completion_tokens=79, prompt_tokens=178, total_tokens=257), object='chat.completion')\n",
      "ChatCompletionOutput(choices=[ChatCompletionOutputComplete(finish_reason='stop', index=0, message=ChatCompletionOutputMessage(role='assistant', content='{\\n\"classification\": \"background\",\\n\"reasoning\": \"The text discusses the importance of early diagnosis and immediate treatment for a specific problem, which suggests that it is a background section providing context for the rest of the paper.\"\\n}', tool_calls=None), logprobs=None)], created=1743231188, id='', model='meta-llama/Meta-Llama-3-8B-Instruct', system_fingerprint='3.2.1-native', usage=ChatCompletionOutputUsage(completion_tokens=47, prompt_tokens=159, total_tokens=206), object='chat.completion')\n",
      "ChatCompletionOutput(choices=[ChatCompletionOutputComplete(finish_reason='stop', index=0, message=ChatCompletionOutputMessage(role='assistant', content='{\"classification\": \"method\", \"reasoning\": \"The section name is not a hint about the content, but the context is about the methodology as the sentence is citing a study as a foundation for the evaluation of parameters. The text implies that the results of that study are being used to determine the importance of certain factors, which is a methodological consideration rather than a background or a result in its own right\"}', tool_calls=None), logprobs=None)], created=1743231190, id='', model='meta-llama/Meta-Llama-3-8B-Instruct', system_fingerprint='3.2.1-native', usage=ChatCompletionOutputUsage(completion_tokens=84, prompt_tokens=162, total_tokens=246), object='chat.completion')\n",
      "ChatCompletionOutput(choices=[ChatCompletionOutputComplete(finish_reason='stop', index=0, message=ChatCompletionOutputMessage(role='assistant', content='{\"classification\": \"background\", \"reasoning\": \"The text is introducing a previously developed method, mentioning its basis and potential applications, which is a characteristic of the background section in a scientific paper, where previous related work is commonly presented.\"}', tool_calls=None), logprobs=None)], created=1743231192, id='', model='meta-llama/Meta-Llama-3-8B-Instruct', system_fingerprint='3.2.1-native', usage=ChatCompletionOutputUsage(completion_tokens=50, prompt_tokens=172, total_tokens=222), object='chat.completion')\n",
      "ChatCompletionOutput(choices=[ChatCompletionOutputComplete(finish_reason='stop', index=0, message=ChatCompletionOutputMessage(role='assistant', content='{\\n\"classification\": \"background\",\\n\"reasoning\": \"The text is part of the introduction section, which sets the context for the research. The text provides information about the current state-of-the-art in the field, specifically mentioning advances in radiotherapeutic, chemotherapeutic, and surgical techniques, and establishing the context for the subsequent discussion of limb-salvage surgery as a treatment option.\"\\n}', tool_calls=None), logprobs=None)], created=1743231194, id='', model='meta-llama/Meta-Llama-3-8B-Instruct', system_fingerprint='3.2.1-native', usage=ChatCompletionOutputUsage(completion_tokens=82, prompt_tokens=164, total_tokens=246), object='chat.completion')\n",
      "ChatCompletionOutput(choices=[ChatCompletionOutputComplete(finish_reason='stop', index=0, message=ChatCompletionOutputMessage(role='assistant', content='{\\n    \"classification\": \"background\",\\n    \"reasoning\": \"The text provides a definition of indirect benefits and references scientific papers, which suggests that it is providing background information necessary to understand the topic, rather than presenting novel results or describing a specific method.\"\\n}', tool_calls=None), logprobs=None)], created=1743231195, id='', model='meta-llama/Meta-Llama-3-8B-Instruct', system_fingerprint='3.2.1-native', usage=ChatCompletionOutputUsage(completion_tokens=54, prompt_tokens=210, total_tokens=264), object='chat.completion')\n",
      "ChatCompletionOutput(choices=[ChatCompletionOutputComplete(finish_reason='stop', index=0, message=ChatCompletionOutputMessage(role='assistant', content='{\\n\"classification\": \"background\",\\n\"reasoning\": \"The text provides a brief overview of previous research on mitochondrial division, which is a typical characteristic of the background section in a scientific paper. The text does not introduce new research, hypotheses, or results, but rather sets the context for the study by citing relevant previous work, which is also a common feature of the background section.\"\\n}', tool_calls=None), logprobs=None)], created=1743231197, id='', model='meta-llama/Meta-Llama-3-8B-Instruct', system_fingerprint='3.2.1-native', usage=ChatCompletionOutputUsage(completion_tokens=79, prompt_tokens=193, total_tokens=272), object='chat.completion')\n",
      "ChatCompletionOutput(choices=[ChatCompletionOutputComplete(finish_reason='stop', index=0, message=ChatCompletionOutputMessage(role='assistant', content='{\"classification\": \"result\", \"reasoning\": \"The given text appears to be a result as it is describing the remnant of the total plasma membranes after extraction of caveolae, which is the outcome of an experiment or a finding, and it is labelled as \\'RESULTS\\' which is a common section name for the outcome of an experiment in a scientific paper.\"}', tool_calls=None), logprobs=None)], created=1743231199, id='', model='meta-llama/Meta-Llama-3-8B-Instruct', system_fingerprint='3.2.1-native', usage=ChatCompletionOutputUsage(completion_tokens=76, prompt_tokens=155, total_tokens=231), object='chat.completion')\n",
      "ChatCompletionOutput(choices=[ChatCompletionOutputComplete(finish_reason='stop', index=0, message=ChatCompletionOutputMessage(role='assistant', content='{\"classification\": \"method\", \"reasoning\": \"The text mentions the active contour algorithm which is a method used in image segmentation, and the passage describes a specific approach used in the study, indicating that it is a part of the methodology section.\"}', tool_calls=None), logprobs=None)], created=1743231200, id='', model='meta-llama/Meta-Llama-3-8B-Instruct', system_fingerprint='3.2.1-native', usage=ChatCompletionOutputUsage(completion_tokens=52, prompt_tokens=159, total_tokens=211), object='chat.completion')\n",
      "ChatCompletionOutput(choices=[ChatCompletionOutputComplete(finish_reason='stop', index=0, message=ChatCompletionOutputMessage(role='assistant', content='{\"classification\": \"method\", \"reasoning\": \"The text is referring to a potential approach or strategy to implement, which is a characteristic of a method section. The text is providing a specific suggestion for accommodating caregivers, which is a typical methodological consideration in a study.\"}', tool_calls=None), logprobs=None)], created=1743231203, id='', model='meta-llama/Meta-Llama-3-8B-Instruct', system_fingerprint='3.2.1-native', usage=ChatCompletionOutputUsage(completion_tokens=57, prompt_tokens=170, total_tokens=227), object='chat.completion')\n",
      "ChatCompletionOutput(choices=[ChatCompletionOutputComplete(finish_reason='stop', index=0, message=ChatCompletionOutputMessage(role='assistant', content='{\"classification\": \"background\", \"reasoning\": \"The section name and text are suggesting the introduction or setup of a topic related to mitochondrial lesions, which is a background information\"}', tool_calls=None), logprobs=None)], created=1743231204, id='', model='meta-llama/Meta-Llama-3-8B-Instruct', system_fingerprint='3.2.1-native', usage=ChatCompletionOutputUsage(completion_tokens=37, prompt_tokens=192, total_tokens=229), object='chat.completion')\n",
      "ChatCompletionOutput(choices=[ChatCompletionOutputComplete(finish_reason='stop', index=0, message=ChatCompletionOutputMessage(role='assistant', content='{\\n\"classification\": \"background\",\\n\"reasoning\": \"The text is presenting a lack of evidence and mentioning a specific technique commonly used in a particular region, which is typical of a background section in a scientific paper, where the authors establish the current state of knowledge and context for their study.\"\\n}', tool_calls=None), logprobs=None)], created=1743231206, id='', model='meta-llama/Meta-Llama-3-8B-Instruct', system_fingerprint='3.2.1-native', usage=ChatCompletionOutputUsage(completion_tokens=61, prompt_tokens=174, total_tokens=235), object='chat.completion')\n",
      "ChatCompletionOutput(choices=[ChatCompletionOutputComplete(finish_reason='stop', index=0, message=ChatCompletionOutputMessage(role='assistant', content='{\\n\"classification\": \"background\",\\n\"reasoning\": \"The section name is \\'Discussion\\', which in a scientific paper is typically where the results are interpreted and compared to previous findings. The text itself is a general statement summarizing previous research, indicating a background or foundation for the study, rather than a presentation of new results or a description of the methods used.\"\\n}', tool_calls=None), logprobs=None)], created=1743231207, id='', model='meta-llama/Meta-Llama-3-8B-Instruct', system_fingerprint='3.2.1-native', usage=ChatCompletionOutputUsage(completion_tokens=75, prompt_tokens=194, total_tokens=269), object='chat.completion')\n",
      "ChatCompletionOutput(choices=[ChatCompletionOutputComplete(finish_reason='stop', index=0, message=ChatCompletionOutputMessage(role='assistant', content='{\\n\"classification\": \"background\",\\n\"reasoning\": \"The text appears to be providing background information about a previously studied network, mentioning a specific protein (SCP160p) and its function. It does not mention any experimental results or methods, which are typical characteristics of the discussion section. Instead, it provides context and references previous research, making it more likely to be a background section.\"\\n}', tool_calls=None), logprobs=None)], created=1743231209, id='', model='meta-llama/Meta-Llama-3-8B-Instruct', system_fingerprint='3.2.1-native', usage=ChatCompletionOutputUsage(completion_tokens=80, prompt_tokens=179, total_tokens=259), object='chat.completion')\n",
      "ChatCompletionOutput(choices=[ChatCompletionOutputComplete(finish_reason='stop', index=0, message=ChatCompletionOutputMessage(role='assistant', content='{\\n\"classification\": \"method\",\\n\"reasoning\": \"The text \\'GO (cellular component)\\' appears to be a methodology-related term, likely referring to Gene Ontology, a bioinformatics tool used to identify functional components of a cell or organism. This suggests that the text is likely part of the\\'method\\' section, where the authors would describe the experimental design, procedures, and techniques used to measure mitochondrial respiration, mitochondrial copy number, ROS emission/scavenging, and calcium handling.\"\\n}', tool_calls=None), logprobs=None)], created=1743231212, id='', model='meta-llama/Meta-Llama-3-8B-Instruct', system_fingerprint='3.2.1-native', usage=ChatCompletionOutputUsage(completion_tokens=103, prompt_tokens=181, total_tokens=284), object='chat.completion')\n",
      "ChatCompletionOutput(choices=[ChatCompletionOutputComplete(finish_reason='stop', index=0, message=ChatCompletionOutputMessage(role='assistant', content='{\"classification\": \"background\", \"reasoning\": \"The text \\'2.1 Economic and Policy Environment\\' seems to be a heading or a label for a section, and the subsequent sentence mentions previous research on a topic, which is a common characteristic of background sections in scientific papers.\"}', tool_calls=None), logprobs=None)], created=1743231213, id='', model='meta-llama/Meta-Llama-3-8B-Instruct', system_fingerprint='3.2.1-native', usage=ChatCompletionOutputUsage(completion_tokens=59, prompt_tokens=204, total_tokens=263), object='chat.completion')\n",
      "ChatCompletionOutput(choices=[ChatCompletionOutputComplete(finish_reason='stop', index=0, message=ChatCompletionOutputMessage(role='assistant', content='{\\n\"classification\": \"background\",\\n\"reasoning\": \"Although the section name is \\'Results\\', the text does not present a specific finding or result, but rather discusses a hypothetical group of proteins and references previous research, typical of a background section.\"\\n}', tool_calls=None), logprobs=None)], created=1743231215, id='', model='meta-llama/Meta-Llama-3-8B-Instruct', system_fingerprint='3.2.1-native', usage=ChatCompletionOutputUsage(completion_tokens=52, prompt_tokens=197, total_tokens=249), object='chat.completion')\n",
      "ChatCompletionOutput(choices=[ChatCompletionOutputComplete(finish_reason='stop', index=0, message=ChatCompletionOutputMessage(role='assistant', content='{\\n\"classification\": \"background\",\\n\"reasoning\": \"The text is providing contextual information about previous studies and observations in the field, which is a common feature of the background section in a scientific paper. The text is not presenting original results or describing the methods used, but rather providing a foundation for the study being presented.\"\\n}', tool_calls=None), logprobs=None)], created=1743231216, id='', model='meta-llama/Meta-Llama-3-8B-Instruct', system_fingerprint='3.2.1-native', usage=ChatCompletionOutputUsage(completion_tokens=67, prompt_tokens=198, total_tokens=265), object='chat.completion')\n",
      "ChatCompletionOutput(choices=[ChatCompletionOutputComplete(finish_reason='stop', index=0, message=ChatCompletionOutputMessage(role='assistant', content='{\"classification\": \"background\", \"reasoning\": \"The provided text is an introduction to the topic and is setting the stage by providing background information and referencing previous studies, indicating that it is a background section.\"}', tool_calls=None), logprobs=None)], created=1743231217, id='', model='meta-llama/Meta-Llama-3-8B-Instruct', system_fingerprint='3.2.1-native', usage=ChatCompletionOutputUsage(completion_tokens=44, prompt_tokens=161, total_tokens=205), object='chat.completion')\n",
      "ChatCompletionOutput(choices=[ChatCompletionOutputComplete(finish_reason='stop', index=0, message=ChatCompletionOutputMessage(role='assistant', content='{\"classification\": \"background\", \"reasoning\": \"The text appears to be presenting prior research findings, specifically highlighting the association between SNPs of MMP-1 and increased risk of colorectal cancer, which is typical of a background section in scientific papers, providing context and foundation for the research to be presented.\"}', tool_calls=None), logprobs=None)], created=1743231219, id='', model='meta-llama/Meta-Llama-3-8B-Instruct', system_fingerprint='3.2.1-native', usage=ChatCompletionOutputUsage(completion_tokens=64, prompt_tokens=154, total_tokens=218), object='chat.completion')\n",
      "ChatCompletionOutput(choices=[ChatCompletionOutputComplete(finish_reason='stop', index=0, message=ChatCompletionOutputMessage(role='assistant', content='{\\n\"classification\": \"background\",\\n\"reasoning\": \"The given text is a background section as it provides general information about the role of matricellular proteins in ECM organization and biomechanical stability, and references a known work (Bornstein et al., 2000).\"\\n}', tool_calls=None), logprobs=None)], created=1743231221, id='', model='meta-llama/Meta-Llama-3-8B-Instruct', system_fingerprint='3.2.1-native', usage=ChatCompletionOutputUsage(completion_tokens=59, prompt_tokens=184, total_tokens=243), object='chat.completion')\n",
      "ChatCompletionOutput(choices=[ChatCompletionOutputComplete(finish_reason='stop', index=0, message=ChatCompletionOutputMessage(role='assistant', content='{\\n\"classification\": \"background\",\\n\"reasoning\": \"The text is discussing the established evidence for PBM\\'s beneficial role in managing postmastectomy lymphedema and radiation-induced oral mucositis, which falls under the background section of a scientific paper, providing context and reviewing existing knowledge on the topic.\"\\n}', tool_calls=None), logprobs=None)], created=1743231222, id='', model='meta-llama/Meta-Llama-3-8B-Instruct', system_fingerprint='3.2.1-native', usage=ChatCompletionOutputUsage(completion_tokens=64, prompt_tokens=183, total_tokens=247), object='chat.completion')\n",
      "ChatCompletionOutput(choices=[ChatCompletionOutputComplete(finish_reason='stop', index=0, message=ChatCompletionOutputMessage(role='assistant', content='{\"classification\": \"method\", \"reasoning\": \"The text provides information about the materials and methods used to measure the mitochondrial transmembrane potential, indicating that it is a method section.\"}', tool_calls=None), logprobs=None)], created=1743231223, id='', model='meta-llama/Meta-Llama-3-8B-Instruct', system_fingerprint='3.2.1-native', usage=ChatCompletionOutputUsage(completion_tokens=40, prompt_tokens=225, total_tokens=265), object='chat.completion')\n",
      "ChatCompletionOutput(choices=[ChatCompletionOutputComplete(finish_reason='stop', index=0, message=ChatCompletionOutputMessage(role='assistant', content='{\"classification\": \"background\", \"reasoning\": \"This text appears to be part of the background section because it is providing context and information about the language models and the dataset used to train them, i.e., the Corpus of Spontaneous Japanese (CSJ). The citation [23] also suggests that this text is providing general information rather than presenting new findings or experiments, which is typical of the background section in a scientific paper.\"}', tool_calls=None), logprobs=None)], created=1743231225, id='', model='meta-llama/Meta-Llama-3-8B-Instruct', system_fingerprint='3.2.1-native', usage=ChatCompletionOutputUsage(completion_tokens=90, prompt_tokens=160, total_tokens=250), object='chat.completion')\n",
      "ChatCompletionOutput(choices=[ChatCompletionOutputComplete(finish_reason='stop', index=0, message=ChatCompletionOutputMessage(role='assistant', content='{\\n\"classification\": \"background\",\\n\"reasoning\": \"The text describes the current use of cisplatin as a first-line treatment for various types of solid tumors, which is typical of background information in an introduction section. It sets the stage for the research being presented and provides context for the reader.\"\\n}', tool_calls=None), logprobs=None)], created=1743231227, id='', model='meta-llama/Meta-Llama-3-8B-Instruct', system_fingerprint='3.2.1-native', usage=ChatCompletionOutputUsage(completion_tokens=63, prompt_tokens=167, total_tokens=230), object='chat.completion')\n",
      "ChatCompletionOutput(choices=[ChatCompletionOutputComplete(finish_reason='stop', index=0, message=ChatCompletionOutputMessage(role='assistant', content='{\"classification\": \"background\", \"reasoning\": \"The text provides background information by mentioning previous studies and research on a similar genotype shift observed in various countries, which sets the stage for the research being presented in the paper.\"}', tool_calls=None), logprobs=None)], created=1743231228, id='', model='meta-llama/Meta-Llama-3-8B-Instruct', system_fingerprint='3.2.1-native', usage=ChatCompletionOutputUsage(completion_tokens=47, prompt_tokens=237, total_tokens=284), object='chat.completion')\n",
      "ChatCompletionOutput(choices=[ChatCompletionOutputComplete(finish_reason='stop', index=0, message=ChatCompletionOutputMessage(role='assistant', content='{\"classification\": \"background\", \"reasoning\": \"The text provides general information about a phenomenon and references previously published research. It does not specify the methodology used or present new results, which are typical characteristics of a background section.\"}', tool_calls=None), logprobs=None)], created=1743231230, id='', model='meta-llama/Meta-Llama-3-8B-Instruct', system_fingerprint='3.2.1-native', usage=ChatCompletionOutputUsage(completion_tokens=48, prompt_tokens=178, total_tokens=226), object='chat.completion')\n",
      "ChatCompletionOutput(choices=[ChatCompletionOutputComplete(finish_reason='stop', index=0, message=ChatCompletionOutputMessage(role='assistant', content='{\"classification\": \"background\", \"reasoning\": \"The text is discussing previous research findings and studies that support a widely-held notion, which is a characteristic of background sections in scientific papers. The text is referencing relevant studies and authors, which also suggests it\\'s a background rather than a method or result section.\"}', tool_calls=None), logprobs=None)], created=1743231231, id='', model='meta-llama/Meta-Llama-3-8B-Instruct', system_fingerprint='3.2.1-native', usage=ChatCompletionOutputUsage(completion_tokens=64, prompt_tokens=222, total_tokens=286), object='chat.completion')\n",
      "ChatCompletionOutput(choices=[ChatCompletionOutputComplete(finish_reason='stop', index=0, message=ChatCompletionOutputMessage(role='assistant', content='{\\n\"classification\": \"method\",\\n\"reasoning\": \"The text is likely to be part of the \\'Materials and Methods\\' section of a scientific paper as it is describing the setup and procedures that were used in the study. The mention of \\'as described previously [7]\\' also suggests that the text is part of a methods section.\"\\n}', tool_calls=None), logprobs=None)], created=1743231234, id='', model='meta-llama/Meta-Llama-3-8B-Instruct', system_fingerprint='3.2.1-native', usage=ChatCompletionOutputUsage(completion_tokens=70, prompt_tokens=152, total_tokens=222), object='chat.completion')\n",
      "ChatCompletionOutput(choices=[ChatCompletionOutputComplete(finish_reason='stop', index=0, message=ChatCompletionOutputMessage(role='assistant', content='{\"classification\": \"background\", \"reasoning\": \"The text discusses existing studies and their results, demonstrating its classification as a background section. The section name \\'More examples of contradictory results have been observed in bovines\\' also supports this classification, as it provides additional context about previous research findings.\"}', tool_calls=None), logprobs=None)], created=1743231235, id='', model='meta-llama/Meta-Llama-3-8B-Instruct', system_fingerprint='3.2.1-native', usage=ChatCompletionOutputUsage(completion_tokens=62, prompt_tokens=179, total_tokens=241), object='chat.completion')\n",
      "ChatCompletionOutput(choices=[ChatCompletionOutputComplete(finish_reason='stop', index=0, message=ChatCompletionOutputMessage(role='assistant', content='{\"classification\": \"background\", \"reasoning\": \"The given text is likely a background section because it mentions specific references (e.g., Higashi et al., 2002a; Argent et al., 2004, 2008a; Zhang et al., 2005; Naito et al., 2006) that support the statement about the relationship between the number of EPIYA motifs and CagA phosphorylation. This type of information is typical for the background section, where relevant research is presented to provide context for the main study.\"}', tool_calls=None), logprobs=None)], created=1743231238, id='', model='meta-llama/Meta-Llama-3-8B-Instruct', system_fingerprint='3.2.1-native', usage=ChatCompletionOutputUsage(completion_tokens=119, prompt_tokens=197, total_tokens=316), object='chat.completion')\n",
      "ChatCompletionOutput(choices=[ChatCompletionOutputComplete(finish_reason='stop', index=0, message=ChatCompletionOutputMessage(role='assistant', content='{\"classification\": \"background\", \"reasoning\": \"The text is discussing the prior research and interactions between certain proteins rather than presenting novel results, which is typical of the background section in a scientific paper.\"}', tool_calls=None), logprobs=None)], created=1743231239, id='', model='meta-llama/Meta-Llama-3-8B-Instruct', system_fingerprint='3.2.1-native', usage=ChatCompletionOutputUsage(completion_tokens=43, prompt_tokens=179, total_tokens=222), object='chat.completion')\n",
      "ChatCompletionOutput(choices=[ChatCompletionOutputComplete(finish_reason='stop', index=0, message=ChatCompletionOutputMessage(role='assistant', content='{\"classification\": \"method\", \"reasoning\": \"The section name is \\'Discussion\\', which typically follows the presentation of the results in a scientific paper. However, the text itself refers to a previously published study (Blickstein et al) and the writer\\'s intention appears to be to demonstrate the relevance of this study to their own work, which is a common practice in the method section where an investigator explains the rationale for their study and the basis for their assumptions.\"}', tool_calls=None), logprobs=None)], created=1743231242, id='', model='meta-llama/Meta-Llama-3-8B-Instruct', system_fingerprint='3.2.1-native', usage=ChatCompletionOutputUsage(completion_tokens=96, prompt_tokens=168, total_tokens=264), object='chat.completion')\n",
      "ChatCompletionOutput(choices=[ChatCompletionOutputComplete(finish_reason='stop', index=0, message=ChatCompletionOutputMessage(role='assistant', content='{\\n\"classification\": \"background\",\\n\"reasoning\": \"The text is discussing a previously reported result, specifically a study that found the effect of β-glucan on IFN-γ production in mice, and this information is being used to compare to the current study\\'s results, which is a typical characteristic of a background section in a scientific paper.\"\\n}', tool_calls=None), logprobs=None)], created=1743231244, id='', model='meta-llama/Meta-Llama-3-8B-Instruct', system_fingerprint='3.2.1-native', usage=ChatCompletionOutputUsage(completion_tokens=73, prompt_tokens=180, total_tokens=253), object='chat.completion')\n",
      "ChatCompletionOutput(choices=[ChatCompletionOutputComplete(finish_reason='stop', index=0, message=ChatCompletionOutputMessage(role='assistant', content='{\"classification\": \"background\", \"reasoning\": \"The text is discussing previous research and their findings related to the occurrence of soft tissue tumors in low-dose irradiation, which is typical of the background section where the foundation of the study is established by providing context and relevant literature.\"}', tool_calls=None), logprobs=None)], created=1743231245, id='', model='meta-llama/Meta-Llama-3-8B-Instruct', system_fingerprint='3.2.1-native', usage=ChatCompletionOutputUsage(completion_tokens=59, prompt_tokens=208, total_tokens=267), object='chat.completion')\n",
      "ChatCompletionOutput(choices=[ChatCompletionOutputComplete(finish_reason='stop', index=0, message=ChatCompletionOutputMessage(role='assistant', content='{\\n\"classification\": \"background\",\\n\"reasoning\": \"This section name is \\'Introduction\\' which is typically a part of the background section in a scientific paper. The text is providing an overview of what will be presented in the chapter, mentioning previous works and establishing the scope of the chapter, which are common characteristics of a background section.\"\\n}', tool_calls=None), logprobs=None)], created=1743231247, id='', model='meta-llama/Meta-Llama-3-8B-Instruct', system_fingerprint='3.2.1-native', usage=ChatCompletionOutputUsage(completion_tokens=70, prompt_tokens=209, total_tokens=279), object='chat.completion')\n",
      "ChatCompletionOutput(choices=[ChatCompletionOutputComplete(finish_reason='stop', index=0, message=ChatCompletionOutputMessage(role='assistant', content='{\\n\"classification\": \"background\",\\n\"reasoning\": \"The text provides a general overview of the field and mentions previous research studies, which is a characteristic of a background section in a scientific paper.\"\\n}', tool_calls=None), logprobs=None)], created=1743231248, id='', model='meta-llama/Meta-Llama-3-8B-Instruct', system_fingerprint='3.2.1-native', usage=ChatCompletionOutputUsage(completion_tokens=42, prompt_tokens=183, total_tokens=225), object='chat.completion')\n",
      "ChatCompletionOutput(choices=[ChatCompletionOutputComplete(finish_reason='stop', index=0, message=ChatCompletionOutputMessage(role='assistant', content='{\\n\"classification\": \"background\",\\n\"reasoning\": \"This text provides information about the historical context of a serotype-shift in the occurrence of DENV-1 and DENV-2, which is a typical aspect of the background section in a scientific paper.\"\\n}', tool_calls=None), logprobs=None)], created=1743231249, id='', model='meta-llama/Meta-Llama-3-8B-Instruct', system_fingerprint='3.2.1-native', usage=ChatCompletionOutputUsage(completion_tokens=55, prompt_tokens=174, total_tokens=229), object='chat.completion')\n",
      "ChatCompletionOutput(choices=[ChatCompletionOutputComplete(finish_reason='stop', index=0, message=ChatCompletionOutputMessage(role='assistant', content='{\"classification\": \"background\", \"reasoning\": \"The text mentions existing research on neural meanfield models, providing context on the topic, which suggests it is a background section. The text does not provide original research or results, rather it is a summary of previous work in the field.\"}', tool_calls=None), logprobs=None)], created=1743231251, id='', model='meta-llama/Meta-Llama-3-8B-Instruct', system_fingerprint='3.2.1-native', usage=ChatCompletionOutputUsage(completion_tokens=60, prompt_tokens=196, total_tokens=256), object='chat.completion')\n",
      "ChatCompletionOutput(choices=[ChatCompletionOutputComplete(finish_reason='stop', index=0, message=ChatCompletionOutputMessage(role='assistant', content='{\\n\"classification\": \"background\",\\n\"reasoning\": \"The text is a summary of previously published findings related to the effects of atranorin on different organisms, providing context for the current research. It does not present original data or results, but rather synthesizes and references existing research.\"\\n}', tool_calls=None), logprobs=None)], created=1743231252, id='', model='meta-llama/Meta-Llama-3-8B-Instruct', system_fingerprint='3.2.1-native', usage=ChatCompletionOutputUsage(completion_tokens=61, prompt_tokens=224, total_tokens=285), object='chat.completion')\n",
      "ChatCompletionOutput(choices=[ChatCompletionOutputComplete(finish_reason='stop', index=0, message=ChatCompletionOutputMessage(role='assistant', content='{\\n\"classification\": \"background\",\\n\"reasoning\": \"The text provides a general introduction to the topic, mentioning previous studies at multiple locations, which is typical of a background section. It does not present any experimental results, data, or procedures, which are characteristic of method and result sections, respectively.\"\\n}', tool_calls=None), logprobs=None)], created=1743231254, id='', model='meta-llama/Meta-Llama-3-8B-Instruct', system_fingerprint='3.2.1-native', usage=ChatCompletionOutputUsage(completion_tokens=63, prompt_tokens=209, total_tokens=272), object='chat.completion')\n",
      "ChatCompletionOutput(choices=[ChatCompletionOutputComplete(finish_reason='stop', index=0, message=ChatCompletionOutputMessage(role='assistant', content='{\"classification\": \"background\", \"reasoning\": \"The text does not contain any technical information, it\\'s likely the introduction section of the paper, giving an overview of the topic and its relevance, without presenting any concrete results, methods or methodologies.\"}', tool_calls=None), logprobs=None)], created=1743231255, id='', model='meta-llama/Meta-Llama-3-8B-Instruct', system_fingerprint='3.2.1-native', usage=ChatCompletionOutputUsage(completion_tokens=52, prompt_tokens=180, total_tokens=232), object='chat.completion')\n",
      "ChatCompletionOutput(choices=[ChatCompletionOutputComplete(finish_reason='stop', index=0, message=ChatCompletionOutputMessage(role='assistant', content='{\"classification\": \"method\", \"reasoning\": \"The text appears to be citing specific references and mentioning specific parts of the brain, which is typical of the methods section. The mention of VGluT3 and the citing of multiple papers suggests that the author is discussing the technical details of their research, which is more relevant to the method section.\"}', tool_calls=None), logprobs=None)], created=1743231257, id='', model='meta-llama/Meta-Llama-3-8B-Instruct', system_fingerprint='3.2.1-native', usage=ChatCompletionOutputUsage(completion_tokens=72, prompt_tokens=246, total_tokens=318), object='chat.completion')\n",
      "ChatCompletionOutput(choices=[ChatCompletionOutputComplete(finish_reason='stop', index=0, message=ChatCompletionOutputMessage(role='assistant', content='{\"classification\": \"method\", \"reasoning\": \"The text seems to describe a pre-processing step or a data manipulation step before getting to the actual results, which is typical of a method section.\"}', tool_calls=None), logprobs=None)], created=1743231258, id='', model='meta-llama/Meta-Llama-3-8B-Instruct', system_fingerprint='3.2.1-native', usage=ChatCompletionOutputUsage(completion_tokens=42, prompt_tokens=188, total_tokens=230), object='chat.completion')\n",
      "ChatCompletionOutput(choices=[ChatCompletionOutputComplete(finish_reason='stop', index=0, message=ChatCompletionOutputMessage(role='assistant', content='{\"classification\": \"background\", \"reasoning\": \"This text appears to be a background section because it is providing context about previous research on succinoglycan biosynthesis, mentioning specific genes and corresponding references, which is typical of a background section in a scientific paper.\"}', tool_calls=None), logprobs=None)], created=1743231260, id='', model='meta-llama/Meta-Llama-3-8B-Instruct', system_fingerprint='3.2.1-native', usage=ChatCompletionOutputUsage(completion_tokens=57, prompt_tokens=176, total_tokens=233), object='chat.completion')\n"
     ]
    }
   ],
   "source": [
    "labels = []\n",
    "reasonings = []\n",
    "raw_output = []\n",
    "ids = []\n",
    "client, _ = initialize_model(\"\")\n",
    "for i in range(50):\n",
    "    current_data = data.iloc[i]\n",
    "    ids.append(current_data.unique_id)\n",
    "    classification, reasoning = call_llm(client, \"\", current_data.string, current_data.sectionName)\n",
    "    raw_output.append(classification)\n",
    "    labels.append(classification)\n",
    "    reasonings.append(reasoning)"
   ]
  },
  {
   "cell_type": "code",
   "execution_count": 9,
   "metadata": {},
   "outputs": [
    {
     "name": "stdout",
     "output_type": "stream",
     "text": [
      "['background', 'method', 'background', 'background', 'background', 'method', 'background', 'method', 'background', 'background', 'background', 'background', 'result', 'method', 'method', 'background', 'background', 'background', 'background', 'method', 'background', 'background', 'background', 'background', 'background', 'background', 'background', 'method', 'background', 'background', 'background', 'background', 'background', 'method', 'background', 'background', 'background', 'method', 'background', 'background', 'background', 'background', 'background', 'background', 'background', 'background', 'background', 'method', 'method', 'background']\n",
      "['The text is discussing the current state of knowledge in the field, referencing previous studies and highlighting the gap in understanding. This is typical of an introduction section, which sets the stage for the research by providing context and summarizing the current understanding of the topic.', 'This text appears to describe a specific method used to sample and preserve the grain for germination testing, as it mentions storing the grain at -20C and preserving grain dormancy. This type of information is typically found in the Methods section of a scientific paper.', \"The text describes the effects of the drug, including its mechanism of action and physiological effects, which are typical characteristics of background information. The text does not present new data or results, but rather provides a general overview of the drug's properties, which is typical of an introduction section.\", 'The text discusses the breeding habits of animals and references previous studies, indicating that it is providing background information on the topic. The text is summarizing existing research and how it relates to the main topic, rather than presenting new experimental results or describing the methodology used to collect data.', 'The provided text is about general facts and existing knowledge (ophthalmic symptoms) of a specific condition (intracranial arachnoid cyst), which is typical of a background section. The sentences provide a general understanding of the topic without presenting any original data or results.', 'The text mentions a specific compound (MK-1775) and its effects on cancer cells, which is consistent with a method section. Additionally, the text is not summarizing or interpreting existing knowledge, but rather referring to specific experiments or techniques used to investigate the target molecule Wee1, which is typical of a method section.', 'The text discusses the importance of early diagnosis and immediate treatment for a specific problem, which suggests that it is a background section providing context for the rest of the paper.', 'The section name is not a hint about the content, but the context is about the methodology as the sentence is citing a study as a foundation for the evaluation of parameters. The text implies that the results of that study are being used to determine the importance of certain factors, which is a methodological consideration rather than a background or a result in its own right', 'The text is introducing a previously developed method, mentioning its basis and potential applications, which is a characteristic of the background section in a scientific paper, where previous related work is commonly presented.', 'The text is part of the introduction section, which sets the context for the research. The text provides information about the current state-of-the-art in the field, specifically mentioning advances in radiotherapeutic, chemotherapeutic, and surgical techniques, and establishing the context for the subsequent discussion of limb-salvage surgery as a treatment option.', 'The text provides a definition of indirect benefits and references scientific papers, which suggests that it is providing background information necessary to understand the topic, rather than presenting novel results or describing a specific method.', 'The text provides a brief overview of previous research on mitochondrial division, which is a typical characteristic of the background section in a scientific paper. The text does not introduce new research, hypotheses, or results, but rather sets the context for the study by citing relevant previous work, which is also a common feature of the background section.', \"The given text appears to be a result as it is describing the remnant of the total plasma membranes after extraction of caveolae, which is the outcome of an experiment or a finding, and it is labelled as 'RESULTS' which is a common section name for the outcome of an experiment in a scientific paper.\", 'The text mentions the active contour algorithm which is a method used in image segmentation, and the passage describes a specific approach used in the study, indicating that it is a part of the methodology section.', 'The text is referring to a potential approach or strategy to implement, which is a characteristic of a method section. The text is providing a specific suggestion for accommodating caregivers, which is a typical methodological consideration in a study.', 'The section name and text are suggesting the introduction or setup of a topic related to mitochondrial lesions, which is a background information', 'The text is presenting a lack of evidence and mentioning a specific technique commonly used in a particular region, which is typical of a background section in a scientific paper, where the authors establish the current state of knowledge and context for their study.', \"The section name is 'Discussion', which in a scientific paper is typically where the results are interpreted and compared to previous findings. The text itself is a general statement summarizing previous research, indicating a background or foundation for the study, rather than a presentation of new results or a description of the methods used.\", 'The text appears to be providing background information about a previously studied network, mentioning a specific protein (SCP160p) and its function. It does not mention any experimental results or methods, which are typical characteristics of the discussion section. Instead, it provides context and references previous research, making it more likely to be a background section.', \"The text 'GO (cellular component)' appears to be a methodology-related term, likely referring to Gene Ontology, a bioinformatics tool used to identify functional components of a cell or organism. This suggests that the text is likely part of the'method' section, where the authors would describe the experimental design, procedures, and techniques used to measure mitochondrial respiration, mitochondrial copy number, ROS emission/scavenging, and calcium handling.\", \"The text '2.1 Economic and Policy Environment' seems to be a heading or a label for a section, and the subsequent sentence mentions previous research on a topic, which is a common characteristic of background sections in scientific papers.\", \"Although the section name is 'Results', the text does not present a specific finding or result, but rather discusses a hypothetical group of proteins and references previous research, typical of a background section.\", 'The text is providing contextual information about previous studies and observations in the field, which is a common feature of the background section in a scientific paper. The text is not presenting original results or describing the methods used, but rather providing a foundation for the study being presented.', 'The provided text is an introduction to the topic and is setting the stage by providing background information and referencing previous studies, indicating that it is a background section.', 'The text appears to be presenting prior research findings, specifically highlighting the association between SNPs of MMP-1 and increased risk of colorectal cancer, which is typical of a background section in scientific papers, providing context and foundation for the research to be presented.', 'The given text is a background section as it provides general information about the role of matricellular proteins in ECM organization and biomechanical stability, and references a known work (Bornstein et al., 2000).', \"The text is discussing the established evidence for PBM's beneficial role in managing postmastectomy lymphedema and radiation-induced oral mucositis, which falls under the background section of a scientific paper, providing context and reviewing existing knowledge on the topic.\", 'The text provides information about the materials and methods used to measure the mitochondrial transmembrane potential, indicating that it is a method section.', 'This text appears to be part of the background section because it is providing context and information about the language models and the dataset used to train them, i.e., the Corpus of Spontaneous Japanese (CSJ). The citation [23] also suggests that this text is providing general information rather than presenting new findings or experiments, which is typical of the background section in a scientific paper.', 'The text describes the current use of cisplatin as a first-line treatment for various types of solid tumors, which is typical of background information in an introduction section. It sets the stage for the research being presented and provides context for the reader.', 'The text provides background information by mentioning previous studies and research on a similar genotype shift observed in various countries, which sets the stage for the research being presented in the paper.', 'The text provides general information about a phenomenon and references previously published research. It does not specify the methodology used or present new results, which are typical characteristics of a background section.', \"The text is discussing previous research findings and studies that support a widely-held notion, which is a characteristic of background sections in scientific papers. The text is referencing relevant studies and authors, which also suggests it's a background rather than a method or result section.\", \"The text is likely to be part of the 'Materials and Methods' section of a scientific paper as it is describing the setup and procedures that were used in the study. The mention of 'as described previously [7]' also suggests that the text is part of a methods section.\", \"The text discusses existing studies and their results, demonstrating its classification as a background section. The section name 'More examples of contradictory results have been observed in bovines' also supports this classification, as it provides additional context about previous research findings.\", 'The given text is likely a background section because it mentions specific references (e.g., Higashi et al., 2002a; Argent et al., 2004, 2008a; Zhang et al., 2005; Naito et al., 2006) that support the statement about the relationship between the number of EPIYA motifs and CagA phosphorylation. This type of information is typical for the background section, where relevant research is presented to provide context for the main study.', 'The text is discussing the prior research and interactions between certain proteins rather than presenting novel results, which is typical of the background section in a scientific paper.', \"The section name is 'Discussion', which typically follows the presentation of the results in a scientific paper. However, the text itself refers to a previously published study (Blickstein et al) and the writer's intention appears to be to demonstrate the relevance of this study to their own work, which is a common practice in the method section where an investigator explains the rationale for their study and the basis for their assumptions.\", \"The text is discussing a previously reported result, specifically a study that found the effect of β-glucan on IFN-γ production in mice, and this information is being used to compare to the current study's results, which is a typical characteristic of a background section in a scientific paper.\", 'The text is discussing previous research and their findings related to the occurrence of soft tissue tumors in low-dose irradiation, which is typical of the background section where the foundation of the study is established by providing context and relevant literature.', \"This section name is 'Introduction' which is typically a part of the background section in a scientific paper. The text is providing an overview of what will be presented in the chapter, mentioning previous works and establishing the scope of the chapter, which are common characteristics of a background section.\", 'The text provides a general overview of the field and mentions previous research studies, which is a characteristic of a background section in a scientific paper.', 'This text provides information about the historical context of a serotype-shift in the occurrence of DENV-1 and DENV-2, which is a typical aspect of the background section in a scientific paper.', 'The text mentions existing research on neural meanfield models, providing context on the topic, which suggests it is a background section. The text does not provide original research or results, rather it is a summary of previous work in the field.', 'The text is a summary of previously published findings related to the effects of atranorin on different organisms, providing context for the current research. It does not present original data or results, but rather synthesizes and references existing research.', 'The text provides a general introduction to the topic, mentioning previous studies at multiple locations, which is typical of a background section. It does not present any experimental results, data, or procedures, which are characteristic of method and result sections, respectively.', \"The text does not contain any technical information, it's likely the introduction section of the paper, giving an overview of the topic and its relevance, without presenting any concrete results, methods or methodologies.\", 'The text appears to be citing specific references and mentioning specific parts of the brain, which is typical of the methods section. The mention of VGluT3 and the citing of multiple papers suggests that the author is discussing the technical details of their research, which is more relevant to the method section.', 'The text seems to describe a pre-processing step or a data manipulation step before getting to the actual results, which is typical of a method section.', 'This text appears to be a background section because it is providing context about previous research on succinoglycan biosynthesis, mentioning specific genes and corresponding references, which is typical of a background section in a scientific paper.']\n"
     ]
    }
   ],
   "source": [
    "print(labels)\n",
    "print(reasonings)"
   ]
  },
  {
   "cell_type": "code",
   "execution_count": 10,
   "metadata": {},
   "outputs": [],
   "source": [
    "# reasonings = [\" \".join([x.strip() for x in y[1:]]) for y in raw_output]"
   ]
  },
  {
   "cell_type": "code",
   "execution_count": 11,
   "metadata": {},
   "outputs": [
    {
     "name": "stdout",
     "output_type": "stream",
     "text": [
      "['background', 'method', 'background', 'background', 'background', 'method', 'background', 'method', 'background', 'background', 'background', 'background', 'result', 'method', 'method', 'background', 'background', 'background', 'background', 'method', 'background', 'background', 'background', 'background', 'background', 'background', 'background', 'method', 'background', 'background', 'background', 'background', 'background', 'method', 'background', 'background', 'background', 'method', 'background', 'background', 'background', 'background', 'background', 'background', 'background', 'background', 'background', 'method', 'method', 'background']\n"
     ]
    }
   ],
   "source": [
    "print(labels)"
   ]
  },
  {
   "cell_type": "code",
   "execution_count": 10,
   "metadata": {},
   "outputs": [],
   "source": [
    "df = pd.DataFrame(zip(ids, reasonings), columns=[\"id\", \"reasoning\"])\n",
    "df.to_csv(\"first_50.csv\")"
   ]
  }
 ],
 "metadata": {
  "kernelspec": {
   "display_name": "Python 3",
   "language": "python",
   "name": "python3"
  },
  "language_info": {
   "codemirror_mode": {
    "name": "ipython",
    "version": 3
   },
   "file_extension": ".py",
   "mimetype": "text/x-python",
   "name": "python",
   "nbconvert_exporter": "python",
   "pygments_lexer": "ipython3",
   "version": "3.11.11"
  }
 },
 "nbformat": 4,
 "nbformat_minor": 2
}
