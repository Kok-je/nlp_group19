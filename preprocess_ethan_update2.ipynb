{
 "cells": [
  {
   "cell_type": "markdown",
   "metadata": {},
   "source": [
    "### Note: Duplicate this notebook so you can run mutliple processes with different api keys concurrently"
   ]
  },
  {
   "cell_type": "markdown",
   "metadata": {},
   "source": [
    "The following code cell ensures that the underlying `.py` file gets automatically reloaded after you save any changes.  "
   ]
  },
  {
   "cell_type": "code",
   "execution_count": 9,
   "metadata": {},
   "outputs": [],
   "source": [
    "%load_ext autoreload\n",
    "%autoreload 2"
   ]
  },
  {
   "cell_type": "code",
   "execution_count": 10,
   "metadata": {},
   "outputs": [],
   "source": [
    "import pandas as pd    \n",
    "from model import initialize_model, call_llm\n",
    "import time\n",
    "\n",
    "together_token2 = \"your_second_apikey\" # The api key from your second together account\n",
    "model_name = \"meta-llama/Llama-3.3-70B-Instruct-Turbo-Free\""
   ]
  },
  {
   "cell_type": "code",
   "execution_count": 11,
   "metadata": {},
   "outputs": [],
   "source": [
    "\n",
    "def preprocess(file_path):\n",
    "    data = pd.read_json(path_or_buf=file_path, lines=True)\n",
    "    ids = set()\n",
    "    rows_to_be_dropped = []\n",
    "    for i in range(len(data)):\n",
    "        row = data.iloc[i]\n",
    "        if row.unique_id in ids:\n",
    "            rows_to_be_dropped.append(i)\n",
    "        else:\n",
    "            ids.add(row.unique_id)\n",
    "    data = data.drop(rows_to_be_dropped)\n",
    "    return data"
   ]
  },
  {
   "cell_type": "code",
   "execution_count": 12,
   "metadata": {},
   "outputs": [],
   "source": [
    "data = preprocess(\"./data/train.jsonl\")"
   ]
  },
  {
   "cell_type": "code",
   "execution_count": 13,
   "metadata": {},
   "outputs": [],
   "source": [
    "first_partition = data[:1365]\n",
    "second_partition = data[1365:2730]\n",
    "third_partition = data[2730:4095]\n",
    "fourth_partition = data[4095:5460]\n",
    "fifth_partition = data[5460:6825]\n",
    "sixth_partition = data[6825:]"
   ]
  },
  {
   "cell_type": "code",
   "execution_count": null,
   "metadata": {},
   "outputs": [
    {
     "name": "stdout",
     "output_type": "stream",
     "text": [
      "id='noB2fXp-4Yz4kd-928d448a99fd926c' object=<ObjectType.ChatCompletion: 'chat.completion'> created=1743397065 model='meta-llama/Llama-3.3-70B-Instruct-Turbo-Free' choices=[ChatCompletionChoicesData(index=0, logprobs=None, seed=11940497646168345000, finish_reason=<FinishReason.StopSequence: 'stop'>, message=ChatCompletionMessage(role=<MessageRole.ASSISTANT: 'assistant'>, content='{\"classification\": \"method\", \"reasoning\": \"The text describes the specific procedures and criteria used to select and exclude participants from the study, such as excluding men with missing information, extreme blood pressure values, or a history of certain diseases. This level of detail about the study\\'s methodology is typical of a methods section in a scientific paper.\"}', tool_calls=[]))] prompt=[] usage=UsageData(prompt_tokens=288, completion_tokens=71, total_tokens=359)\n",
      "id='noB2gR2-3NKUce-928d449b6de8926c' object=<ObjectType.ChatCompletion: 'chat.completion'> created=1743397068 model='meta-llama/Llama-3.3-70B-Instruct-Turbo-Free' choices=[ChatCompletionChoicesData(index=0, logprobs=None, seed=725084454786192100, finish_reason=<FinishReason.StopSequence: 'stop'>, message=ChatCompletionMessage(role=<MessageRole.ASSISTANT: 'assistant'>, content='{\"classification\": \"background\", \"reasoning\": \"The text provides historical context and references to previous studies (Veiga and Cossart, 2005; Bonazzi and Cossart, 2006; Veiga et al., 2007), which is typical of a background section. It also explains the biological process of how Listeria monocytogenes interacts with host cells, setting the stage for further discussion or research, rather than presenting new results or describing a methodology.\"}', tool_calls=[]))] prompt=[] usage=UsageData(prompt_tokens=241, completion_tokens=102, total_tokens=343)\n",
      "id='noB2ina-4Yz4kd-928d44cf0a74926c' object=<ObjectType.ChatCompletion: 'chat.completion'> created=1743397076 model='meta-llama/Llama-3.3-70B-Instruct-Turbo-Free' choices=[ChatCompletionChoicesData(index=0, logprobs=None, seed=18052148515334791000, finish_reason=<FinishReason.StopSequence: 'stop'>, message=ChatCompletionMessage(role=<MessageRole.ASSISTANT: 'assistant'>, content='{\"classification\": \"result\", \"reasoning\": \"The text appears to be a result section because it mentions a specific measurement (CFF, FUF) and clinical parameters, which suggests that it is presenting data or findings. Additionally, the section name mentions a dysfunction and observed deficits, which implies that the text is discussing the outcomes of a study or experiment.\"}', tool_calls=[]))] prompt=[] usage=UsageData(prompt_tokens=206, completion_tokens=75, total_tokens=281)\n"
     ]
    },
    {
     "ename": "KeyboardInterrupt",
     "evalue": "",
     "output_type": "error",
     "traceback": [
      "\u001b[31m---------------------------------------------------------------------------\u001b[39m",
      "\u001b[31mKeyboardInterrupt\u001b[39m                         Traceback (most recent call last)",
      "\u001b[36mCell\u001b[39m\u001b[36m \u001b[39m\u001b[32mIn[15]\u001b[39m\u001b[32m, line 19\u001b[39m\n\u001b[32m     17\u001b[39m current_data = fourth_partition.iloc[i]\n\u001b[32m     18\u001b[39m ids.append(current_data.unique_id)\n\u001b[32m---> \u001b[39m\u001b[32m19\u001b[39m classification, reasoning = \u001b[43mcall_llm\u001b[49m\u001b[43m(\u001b[49m\u001b[43mclient\u001b[49m\u001b[43m,\u001b[49m\u001b[43m \u001b[49m\u001b[43mmodel_name\u001b[49m\u001b[43m,\u001b[49m\u001b[43m \u001b[49m\u001b[43mcurrent_data\u001b[49m\u001b[43m.\u001b[49m\u001b[43mstring\u001b[49m\u001b[43m,\u001b[49m\u001b[43m \u001b[49m\u001b[43mcurrent_data\u001b[49m\u001b[43m.\u001b[49m\u001b[43msectionName\u001b[49m\u001b[43m)\u001b[49m\n\u001b[32m     20\u001b[39m raw_output.append(classification)\n\u001b[32m     21\u001b[39m labels.append(classification)\n",
      "\u001b[36mFile \u001b[39m\u001b[32m~/Documents/World/nlp_group19/model.py:43\u001b[39m, in \u001b[36mcall_llm\u001b[39m\u001b[34m(client, model_name, section_name, content)\u001b[39m\n\u001b[32m     24\u001b[39m \u001b[38;5;28;01mdef\u001b[39;00m\u001b[38;5;250m \u001b[39m\u001b[34mcall_llm\u001b[39m(client, model_name, section_name, content):\n\u001b[32m     25\u001b[39m     \u001b[38;5;66;03m# messages = [{\"role\": \"system\", \"content\": \"You are an AI assistant who will assess\"\u001b[39;00m\n\u001b[32m     26\u001b[39m     \u001b[38;5;66;03m# \" the text, and the corresponding section name given in the input, classify the text as one of \"\u001b[39;00m\n\u001b[32m   (...)\u001b[39m\u001b[32m     33\u001b[39m     \u001b[38;5;66;03m# }, \u001b[39;00m\n\u001b[32m     34\u001b[39m     \u001b[38;5;66;03m# {\"role\": \"user\", \"content\": content}]\u001b[39;00m\n\u001b[32m     35\u001b[39m     messages = [{\u001b[33m\"\u001b[39m\u001b[33mrole\u001b[39m\u001b[33m\"\u001b[39m: \u001b[33m\"\u001b[39m\u001b[33msystem\u001b[39m\u001b[33m\"\u001b[39m, \u001b[33m\"\u001b[39m\u001b[33mcontent\u001b[39m\u001b[33m\"\u001b[39m: \n\u001b[32m     36\u001b[39m                  \u001b[33m\"\u001b[39m\u001b[33mYou are an AI assistant who will assess whether a given text is used as a background, result or method section in a scientific paper.\u001b[39m\u001b[33m\"\u001b[39m\n\u001b[32m     37\u001b[39m                  \u001b[33m\"\u001b[39m\u001b[33mYou will be given a section name and the text, and you will need to classify the text as one of [background, result, method].\u001b[39m\u001b[33m\"\u001b[39m\n\u001b[32m   (...)\u001b[39m\u001b[32m     41\u001b[39m     }, \n\u001b[32m     42\u001b[39m     {\u001b[33m\"\u001b[39m\u001b[33mrole\u001b[39m\u001b[33m\"\u001b[39m: \u001b[33m\"\u001b[39m\u001b[33muser\u001b[39m\u001b[33m\"\u001b[39m, \u001b[33m\"\u001b[39m\u001b[33mcontent\u001b[39m\u001b[33m\"\u001b[39m: \u001b[33mf\u001b[39m\u001b[33m\"\u001b[39m\u001b[33msection name: \u001b[39m\u001b[38;5;132;01m{\u001b[39;00msection_name\u001b[38;5;132;01m}\u001b[39;00m\u001b[33m, text: \u001b[39m\u001b[38;5;132;01m{\u001b[39;00mcontent\u001b[38;5;132;01m}\u001b[39;00m\u001b[33m\"\u001b[39m}]\n\u001b[32m---> \u001b[39m\u001b[32m43\u001b[39m     response = \u001b[43mclient\u001b[49m\u001b[43m.\u001b[49m\u001b[43mchat\u001b[49m\u001b[43m.\u001b[49m\u001b[43mcompletions\u001b[49m\u001b[43m.\u001b[49m\u001b[43mcreate\u001b[49m\u001b[43m(\u001b[49m\u001b[43mmodel\u001b[49m\u001b[43m=\u001b[49m\u001b[43mmodel_name\u001b[49m\u001b[43m,\u001b[49m\u001b[43m \u001b[49m\u001b[43mmessages\u001b[49m\u001b[43m=\u001b[49m\u001b[43mmessages\u001b[49m\u001b[43m,\u001b[49m\u001b[43m \u001b[49m\u001b[43mmax_tokens\u001b[49m\u001b[43m=\u001b[49m\u001b[32;43m2048\u001b[39;49m\u001b[43m)\u001b[49m\n\u001b[32m     45\u001b[39m     \u001b[38;5;66;03m# parse response which is a json\u001b[39;00m\n\u001b[32m     46\u001b[39m     \u001b[38;5;28;01mtry\u001b[39;00m:\n",
      "\u001b[36mFile \u001b[39m\u001b[32m~/Documents/World/nlp_group19/.venv/lib/python3.11/site-packages/together/resources/chat/completions.py:141\u001b[39m, in \u001b[36mChatCompletions.create\u001b[39m\u001b[34m(self, messages, model, max_tokens, stop, temperature, top_p, top_k, repetition_penalty, presence_penalty, frequency_penalty, min_p, logit_bias, seed, stream, logprobs, echo, n, safety_model, response_format, tools, tool_choice, **kwargs)\u001b[39m\n\u001b[32m    112\u001b[39m requestor = api_requestor.APIRequestor(\n\u001b[32m    113\u001b[39m     client=\u001b[38;5;28mself\u001b[39m._client,\n\u001b[32m    114\u001b[39m )\n\u001b[32m    116\u001b[39m parameter_payload = ChatCompletionRequest(\n\u001b[32m    117\u001b[39m     model=model,\n\u001b[32m    118\u001b[39m     messages=messages,\n\u001b[32m   (...)\u001b[39m\u001b[32m    138\u001b[39m     **kwargs,\n\u001b[32m    139\u001b[39m ).model_dump(exclude_none=\u001b[38;5;28;01mTrue\u001b[39;00m)\n\u001b[32m--> \u001b[39m\u001b[32m141\u001b[39m response, _, _ = \u001b[43mrequestor\u001b[49m\u001b[43m.\u001b[49m\u001b[43mrequest\u001b[49m\u001b[43m(\u001b[49m\n\u001b[32m    142\u001b[39m \u001b[43m    \u001b[49m\u001b[43moptions\u001b[49m\u001b[43m=\u001b[49m\u001b[43mTogetherRequest\u001b[49m\u001b[43m(\u001b[49m\n\u001b[32m    143\u001b[39m \u001b[43m        \u001b[49m\u001b[43mmethod\u001b[49m\u001b[43m=\u001b[49m\u001b[33;43m\"\u001b[39;49m\u001b[33;43mPOST\u001b[39;49m\u001b[33;43m\"\u001b[39;49m\u001b[43m,\u001b[49m\n\u001b[32m    144\u001b[39m \u001b[43m        \u001b[49m\u001b[43murl\u001b[49m\u001b[43m=\u001b[49m\u001b[33;43m\"\u001b[39;49m\u001b[33;43mchat/completions\u001b[39;49m\u001b[33;43m\"\u001b[39;49m\u001b[43m,\u001b[49m\n\u001b[32m    145\u001b[39m \u001b[43m        \u001b[49m\u001b[43mparams\u001b[49m\u001b[43m=\u001b[49m\u001b[43mparameter_payload\u001b[49m\u001b[43m,\u001b[49m\n\u001b[32m    146\u001b[39m \u001b[43m    \u001b[49m\u001b[43m)\u001b[49m\u001b[43m,\u001b[49m\n\u001b[32m    147\u001b[39m \u001b[43m    \u001b[49m\u001b[43mstream\u001b[49m\u001b[43m=\u001b[49m\u001b[43mstream\u001b[49m\u001b[43m,\u001b[49m\n\u001b[32m    148\u001b[39m \u001b[43m\u001b[49m\u001b[43m)\u001b[49m\n\u001b[32m    150\u001b[39m \u001b[38;5;28;01mif\u001b[39;00m stream:\n\u001b[32m    151\u001b[39m     \u001b[38;5;66;03m# must be an iterator\u001b[39;00m\n\u001b[32m    152\u001b[39m     \u001b[38;5;28;01massert\u001b[39;00m \u001b[38;5;129;01mnot\u001b[39;00m \u001b[38;5;28misinstance\u001b[39m(response, TogetherResponse)\n",
      "\u001b[36mFile \u001b[39m\u001b[32m~/Documents/World/nlp_group19/.venv/lib/python3.11/site-packages/together/abstract/api_requestor.py:242\u001b[39m, in \u001b[36mAPIRequestor.request\u001b[39m\u001b[34m(self, options, stream, remaining_retries, request_timeout)\u001b[39m\n\u001b[32m    231\u001b[39m \u001b[38;5;28;01mdef\u001b[39;00m\u001b[38;5;250m \u001b[39m\u001b[34mrequest\u001b[39m(\n\u001b[32m    232\u001b[39m     \u001b[38;5;28mself\u001b[39m,\n\u001b[32m    233\u001b[39m     options: TogetherRequest,\n\u001b[32m   (...)\u001b[39m\u001b[32m    240\u001b[39m     \u001b[38;5;28mstr\u001b[39m | \u001b[38;5;28;01mNone\u001b[39;00m,\n\u001b[32m    241\u001b[39m ]:\n\u001b[32m--> \u001b[39m\u001b[32m242\u001b[39m     result = \u001b[38;5;28;43mself\u001b[39;49m\u001b[43m.\u001b[49m\u001b[43mrequest_raw\u001b[49m\u001b[43m(\u001b[49m\n\u001b[32m    243\u001b[39m \u001b[43m        \u001b[49m\u001b[43moptions\u001b[49m\u001b[43m=\u001b[49m\u001b[43moptions\u001b[49m\u001b[43m,\u001b[49m\n\u001b[32m    244\u001b[39m \u001b[43m        \u001b[49m\u001b[43mremaining_retries\u001b[49m\u001b[43m=\u001b[49m\u001b[43mremaining_retries\u001b[49m\u001b[43m \u001b[49m\u001b[38;5;129;43;01mor\u001b[39;49;00m\u001b[43m \u001b[49m\u001b[38;5;28;43mself\u001b[39;49m\u001b[43m.\u001b[49m\u001b[43mretries\u001b[49m\u001b[43m,\u001b[49m\n\u001b[32m    245\u001b[39m \u001b[43m        \u001b[49m\u001b[43mstream\u001b[49m\u001b[43m=\u001b[49m\u001b[43mstream\u001b[49m\u001b[43m,\u001b[49m\n\u001b[32m    246\u001b[39m \u001b[43m        \u001b[49m\u001b[43mrequest_timeout\u001b[49m\u001b[43m=\u001b[49m\u001b[43mrequest_timeout\u001b[49m\u001b[43m,\u001b[49m\n\u001b[32m    247\u001b[39m \u001b[43m    \u001b[49m\u001b[43m)\u001b[49m\n\u001b[32m    249\u001b[39m     resp, got_stream = \u001b[38;5;28mself\u001b[39m._interpret_response(result, stream)\n\u001b[32m    250\u001b[39m     \u001b[38;5;28;01mreturn\u001b[39;00m resp, got_stream, \u001b[38;5;28mself\u001b[39m.api_key\n",
      "\u001b[36mFile \u001b[39m\u001b[32m~/Documents/World/nlp_group19/.venv/lib/python3.11/site-packages/together/abstract/api_requestor.py:545\u001b[39m, in \u001b[36mAPIRequestor.request_raw\u001b[39m\u001b[34m(self, options, remaining_retries, stream, request_timeout, absolute)\u001b[39m\n\u001b[32m    542\u001b[39m         result_headers = \u001b[38;5;28mdict\u001b[39m(result.headers) \u001b[38;5;28;01mif\u001b[39;00m result \u001b[38;5;129;01mis\u001b[39;00m \u001b[38;5;129;01mnot\u001b[39;00m \u001b[38;5;28;01mNone\u001b[39;00m \u001b[38;5;28;01melse\u001b[39;00m {}\n\u001b[32m    544\u001b[39m         \u001b[38;5;28;01mif\u001b[39;00m remaining_retries > \u001b[32m0\u001b[39m:\n\u001b[32m--> \u001b[39m\u001b[32m545\u001b[39m             \u001b[38;5;28;01mreturn\u001b[39;00m \u001b[38;5;28;43mself\u001b[39;49m\u001b[43m.\u001b[49m\u001b[43m_retry_request\u001b[49m\u001b[43m(\u001b[49m\n\u001b[32m    546\u001b[39m \u001b[43m                \u001b[49m\u001b[43moptions\u001b[49m\u001b[43m,\u001b[49m\n\u001b[32m    547\u001b[39m \u001b[43m                \u001b[49m\u001b[43mremaining_retries\u001b[49m\u001b[43m=\u001b[49m\u001b[43mremaining_retries\u001b[49m\u001b[43m,\u001b[49m\n\u001b[32m    548\u001b[39m \u001b[43m                \u001b[49m\u001b[43mresponse_headers\u001b[49m\u001b[43m=\u001b[49m\u001b[43mresult_headers\u001b[49m\u001b[43m,\u001b[49m\n\u001b[32m    549\u001b[39m \u001b[43m                \u001b[49m\u001b[43mstream\u001b[49m\u001b[43m=\u001b[49m\u001b[43mstream\u001b[49m\u001b[43m,\u001b[49m\n\u001b[32m    550\u001b[39m \u001b[43m                \u001b[49m\u001b[43mrequest_timeout\u001b[49m\u001b[43m=\u001b[49m\u001b[43mrequest_timeout\u001b[49m\u001b[43m,\u001b[49m\n\u001b[32m    551\u001b[39m \u001b[43m            \u001b[49m\u001b[43m)\u001b[49m\n\u001b[32m    553\u001b[39m status_code = result.status_code \u001b[38;5;28;01mif\u001b[39;00m result \u001b[38;5;129;01mis\u001b[39;00m \u001b[38;5;129;01mnot\u001b[39;00m \u001b[38;5;28;01mNone\u001b[39;00m \u001b[38;5;28;01melse\u001b[39;00m \u001b[32m0\u001b[39m\n\u001b[32m    554\u001b[39m result_headers = \u001b[38;5;28mdict\u001b[39m(result.headers) \u001b[38;5;28;01mif\u001b[39;00m result \u001b[38;5;129;01mis\u001b[39;00m \u001b[38;5;129;01mnot\u001b[39;00m \u001b[38;5;28;01mNone\u001b[39;00m \u001b[38;5;28;01melse\u001b[39;00m {}\n",
      "\u001b[36mFile \u001b[39m\u001b[32m~/Documents/World/nlp_group19/.venv/lib/python3.11/site-packages/together/abstract/api_requestor.py:194\u001b[39m, in \u001b[36mAPIRequestor._retry_request\u001b[39m\u001b[34m(self, options, remaining_retries, response_headers, stream, request_timeout)\u001b[39m\n\u001b[32m    190\u001b[39m \u001b[38;5;66;03m# In a synchronous context we are blocking the entire thread. Up to the library user to run the client in a\u001b[39;00m\n\u001b[32m    191\u001b[39m \u001b[38;5;66;03m# different thread if necessary.\u001b[39;00m\n\u001b[32m    192\u001b[39m time.sleep(timeout)\n\u001b[32m--> \u001b[39m\u001b[32m194\u001b[39m \u001b[38;5;28;01mreturn\u001b[39;00m \u001b[38;5;28;43mself\u001b[39;49m\u001b[43m.\u001b[49m\u001b[43mrequest_raw\u001b[49m\u001b[43m(\u001b[49m\n\u001b[32m    195\u001b[39m \u001b[43m    \u001b[49m\u001b[43moptions\u001b[49m\u001b[43m=\u001b[49m\u001b[43moptions\u001b[49m\u001b[43m,\u001b[49m\n\u001b[32m    196\u001b[39m \u001b[43m    \u001b[49m\u001b[43mstream\u001b[49m\u001b[43m=\u001b[49m\u001b[43mstream\u001b[49m\u001b[43m,\u001b[49m\n\u001b[32m    197\u001b[39m \u001b[43m    \u001b[49m\u001b[43mrequest_timeout\u001b[49m\u001b[43m=\u001b[49m\u001b[43mrequest_timeout\u001b[49m\u001b[43m,\u001b[49m\n\u001b[32m    198\u001b[39m \u001b[43m    \u001b[49m\u001b[43mremaining_retries\u001b[49m\u001b[43m=\u001b[49m\u001b[43mremaining\u001b[49m\u001b[43m,\u001b[49m\n\u001b[32m    199\u001b[39m \u001b[43m\u001b[49m\u001b[43m)\u001b[49m\n",
      "\u001b[36mFile \u001b[39m\u001b[32m~/Documents/World/nlp_group19/.venv/lib/python3.11/site-packages/together/abstract/api_requestor.py:545\u001b[39m, in \u001b[36mAPIRequestor.request_raw\u001b[39m\u001b[34m(self, options, remaining_retries, stream, request_timeout, absolute)\u001b[39m\n\u001b[32m    542\u001b[39m         result_headers = \u001b[38;5;28mdict\u001b[39m(result.headers) \u001b[38;5;28;01mif\u001b[39;00m result \u001b[38;5;129;01mis\u001b[39;00m \u001b[38;5;129;01mnot\u001b[39;00m \u001b[38;5;28;01mNone\u001b[39;00m \u001b[38;5;28;01melse\u001b[39;00m {}\n\u001b[32m    544\u001b[39m         \u001b[38;5;28;01mif\u001b[39;00m remaining_retries > \u001b[32m0\u001b[39m:\n\u001b[32m--> \u001b[39m\u001b[32m545\u001b[39m             \u001b[38;5;28;01mreturn\u001b[39;00m \u001b[38;5;28;43mself\u001b[39;49m\u001b[43m.\u001b[49m\u001b[43m_retry_request\u001b[49m\u001b[43m(\u001b[49m\n\u001b[32m    546\u001b[39m \u001b[43m                \u001b[49m\u001b[43moptions\u001b[49m\u001b[43m,\u001b[49m\n\u001b[32m    547\u001b[39m \u001b[43m                \u001b[49m\u001b[43mremaining_retries\u001b[49m\u001b[43m=\u001b[49m\u001b[43mremaining_retries\u001b[49m\u001b[43m,\u001b[49m\n\u001b[32m    548\u001b[39m \u001b[43m                \u001b[49m\u001b[43mresponse_headers\u001b[49m\u001b[43m=\u001b[49m\u001b[43mresult_headers\u001b[49m\u001b[43m,\u001b[49m\n\u001b[32m    549\u001b[39m \u001b[43m                \u001b[49m\u001b[43mstream\u001b[49m\u001b[43m=\u001b[49m\u001b[43mstream\u001b[49m\u001b[43m,\u001b[49m\n\u001b[32m    550\u001b[39m \u001b[43m                \u001b[49m\u001b[43mrequest_timeout\u001b[49m\u001b[43m=\u001b[49m\u001b[43mrequest_timeout\u001b[49m\u001b[43m,\u001b[49m\n\u001b[32m    551\u001b[39m \u001b[43m            \u001b[49m\u001b[43m)\u001b[49m\n\u001b[32m    553\u001b[39m status_code = result.status_code \u001b[38;5;28;01mif\u001b[39;00m result \u001b[38;5;129;01mis\u001b[39;00m \u001b[38;5;129;01mnot\u001b[39;00m \u001b[38;5;28;01mNone\u001b[39;00m \u001b[38;5;28;01melse\u001b[39;00m \u001b[32m0\u001b[39m\n\u001b[32m    554\u001b[39m result_headers = \u001b[38;5;28mdict\u001b[39m(result.headers) \u001b[38;5;28;01mif\u001b[39;00m result \u001b[38;5;129;01mis\u001b[39;00m \u001b[38;5;129;01mnot\u001b[39;00m \u001b[38;5;28;01mNone\u001b[39;00m \u001b[38;5;28;01melse\u001b[39;00m {}\n",
      "\u001b[36mFile \u001b[39m\u001b[32m~/Documents/World/nlp_group19/.venv/lib/python3.11/site-packages/together/abstract/api_requestor.py:192\u001b[39m, in \u001b[36mAPIRequestor._retry_request\u001b[39m\u001b[34m(self, options, remaining_retries, response_headers, stream, request_timeout)\u001b[39m\n\u001b[32m    188\u001b[39m (\u001b[33m\"\u001b[39m\u001b[33mRetrying request to \u001b[39m\u001b[38;5;132;01m%s\u001b[39;00m\u001b[33m in \u001b[39m\u001b[38;5;132;01m%f\u001b[39;00m\u001b[33m seconds\u001b[39m\u001b[33m\"\u001b[39m, options.url, timeout)\n\u001b[32m    190\u001b[39m \u001b[38;5;66;03m# In a synchronous context we are blocking the entire thread. Up to the library user to run the client in a\u001b[39;00m\n\u001b[32m    191\u001b[39m \u001b[38;5;66;03m# different thread if necessary.\u001b[39;00m\n\u001b[32m--> \u001b[39m\u001b[32m192\u001b[39m \u001b[43mtime\u001b[49m\u001b[43m.\u001b[49m\u001b[43msleep\u001b[49m\u001b[43m(\u001b[49m\u001b[43mtimeout\u001b[49m\u001b[43m)\u001b[49m\n\u001b[32m    194\u001b[39m \u001b[38;5;28;01mreturn\u001b[39;00m \u001b[38;5;28mself\u001b[39m.request_raw(\n\u001b[32m    195\u001b[39m     options=options,\n\u001b[32m    196\u001b[39m     stream=stream,\n\u001b[32m    197\u001b[39m     request_timeout=request_timeout,\n\u001b[32m    198\u001b[39m     remaining_retries=remaining,\n\u001b[32m    199\u001b[39m )\n",
      "\u001b[31mKeyboardInterrupt\u001b[39m: "
     ]
    }
   ],
   "source": [
    "labels = []\n",
    "reasonings = []\n",
    "raw_output = []\n",
    "ids = []\n",
    "client, _ = initialize_model(\"\", defined_api_key=together_token2)\n",
    "last_time = time.time()\n",
    "\n",
    "# TODO Change len(data) to len(your_partition)\n",
    "for i in range(len(data)):\n",
    "    if i > 0 and i % 60 == 0:\n",
    "        print(i)\n",
    "        current_time = time.time()\n",
    "        time.sleep(max(0, 63 - (current_time - last_time)))\n",
    "        last_time = time.time()\n",
    "\n",
    "    # TODO Change data to your partition\n",
    "    current_data = data.iloc[i]\n",
    "    ids.append(current_data.unique_id)\n",
    "    classification, reasoning = call_llm(client, model_name, current_data.string, current_data.sectionName)\n",
    "    raw_output.append(classification)\n",
    "    labels.append(classification)\n",
    "    reasonings.append(reasoning)\n",
    "    "
   ]
  },
  {
   "cell_type": "code",
   "execution_count": null,
   "metadata": {},
   "outputs": [],
   "source": [
    "df = pd.DataFrame(zip(ids, reasonings), columns=[\"id\", \"reasoning\"])\n",
    "df.to_csv(\"your_output_file_name.csv\")"
   ]
  }
 ],
 "metadata": {
  "kernelspec": {
   "display_name": "Python 3",
   "language": "python",
   "name": "python3"
  },
  "language_info": {
   "codemirror_mode": {
    "name": "ipython",
    "version": 3
   },
   "file_extension": ".py",
   "mimetype": "text/x-python",
   "name": "python",
   "nbconvert_exporter": "python",
   "pygments_lexer": "ipython3",
   "version": "3.11.8"
  }
 },
 "nbformat": 4,
 "nbformat_minor": 2
}
