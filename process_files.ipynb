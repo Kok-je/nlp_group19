{
 "cells": [
  {
   "cell_type": "code",
   "execution_count": 1,
   "metadata": {},
   "outputs": [],
   "source": [
    "import pandas as pd"
   ]
  },
  {
   "cell_type": "code",
   "execution_count": 2,
   "metadata": {},
   "outputs": [],
   "source": [
    "\n",
    "def preprocess(file_path):\n",
    "    data = pd.read_json(path_or_buf=file_path, lines=True)\n",
    "    ids = set()\n",
    "    rows_to_be_dropped = []\n",
    "    for i in range(len(data)):\n",
    "        row = data.iloc[i]\n",
    "        if row.unique_id in ids:\n",
    "            rows_to_be_dropped.append(i)\n",
    "        else:\n",
    "            ids.add(row.unique_id)\n",
    "    data = data.drop(rows_to_be_dropped)\n",
    "    return data"
   ]
  },
  {
   "cell_type": "code",
   "execution_count": 3,
   "metadata": {},
   "outputs": [],
   "source": [
    "deepseek_first = pd.read_csv(\"./results/deepseek-r1/deepseek_first_part.csv\")\n",
    "deepseek_second = pd.read_csv(\"./results/deepseek-r1/deepseek_second_part.csv\")\n",
    "deepseek_third = pd.read_csv(\"./results/deepseek-r1/deepseek_third_part.csv\")\n",
    "deepseek_fourth = pd.read_csv(\"./results/deepseek-r1/deepseek_fourth_part.csv\")\n",
    "deepseek_fifth = pd.read_csv(\"./results/deepseek-r1/deepseek_fifth_part.csv\")\n",
    "deepseek_sixth = pd.read_csv(\"./results/deepseek-r1/deepseek_sixth_part.csv\")"
   ]
  },
  {
   "cell_type": "code",
   "execution_count": 4,
   "metadata": {},
   "outputs": [
    {
     "data": {
      "text/html": [
       "<div>\n",
       "<style scoped>\n",
       "    .dataframe tbody tr th:only-of-type {\n",
       "        vertical-align: middle;\n",
       "    }\n",
       "\n",
       "    .dataframe tbody tr th {\n",
       "        vertical-align: top;\n",
       "    }\n",
       "\n",
       "    .dataframe thead th {\n",
       "        text-align: right;\n",
       "    }\n",
       "</style>\n",
       "<table border=\"1\" class=\"dataframe\">\n",
       "  <thead>\n",
       "    <tr style=\"text-align: right;\">\n",
       "      <th></th>\n",
       "      <th>id</th>\n",
       "      <th>model_classification</th>\n",
       "      <th>reasoning</th>\n",
       "    </tr>\n",
       "  </thead>\n",
       "  <tbody>\n",
       "    <tr>\n",
       "      <th>0</th>\n",
       "      <td>1872080baa7d30ec8fb87be9a65358cd3a7fb649&gt;894be...</td>\n",
       "      <td>background</td>\n",
       "      <td>The text discusses unresolved questions about ...</td>\n",
       "    </tr>\n",
       "    <tr>\n",
       "      <th>1</th>\n",
       "      <td>ce1d09a4a3a8d7fd3405b9328f65f00c952cf64b&gt;b6642...</td>\n",
       "      <td>method</td>\n",
       "      <td>The text describes specific experimental proce...</td>\n",
       "    </tr>\n",
       "    <tr>\n",
       "      <th>2</th>\n",
       "      <td>9cdf605beb1aa1078f235c4332b3024daa8b31dc&gt;4e6a1...</td>\n",
       "      <td>result</td>\n",
       "      <td>The text reports pharmacological effects (redu...</td>\n",
       "    </tr>\n",
       "    <tr>\n",
       "      <th>3</th>\n",
       "      <td>d9f3207db0c79a3b154f3875c9760cc6b056904b&gt;2cc6f...</td>\n",
       "      <td>background</td>\n",
       "      <td>The citation references theoretical explanatio...</td>\n",
       "    </tr>\n",
       "    <tr>\n",
       "      <th>4</th>\n",
       "      <td>88b86556857f4374842d2af2e359576806239175&gt;a5bb0...</td>\n",
       "      <td>background</td>\n",
       "      <td>The text lists previously reported clinical ma...</td>\n",
       "    </tr>\n",
       "  </tbody>\n",
       "</table>\n",
       "</div>"
      ],
      "text/plain": [
       "                                                  id model_classification  \\\n",
       "0  1872080baa7d30ec8fb87be9a65358cd3a7fb649>894be...           background   \n",
       "1  ce1d09a4a3a8d7fd3405b9328f65f00c952cf64b>b6642...               method   \n",
       "2  9cdf605beb1aa1078f235c4332b3024daa8b31dc>4e6a1...               result   \n",
       "3  d9f3207db0c79a3b154f3875c9760cc6b056904b>2cc6f...           background   \n",
       "4  88b86556857f4374842d2af2e359576806239175>a5bb0...           background   \n",
       "\n",
       "                                           reasoning  \n",
       "0  The text discusses unresolved questions about ...  \n",
       "1  The text describes specific experimental proce...  \n",
       "2  The text reports pharmacological effects (redu...  \n",
       "3  The citation references theoretical explanatio...  \n",
       "4  The text lists previously reported clinical ma...  "
      ]
     },
     "execution_count": 4,
     "metadata": {},
     "output_type": "execute_result"
    }
   ],
   "source": [
    "deepseek_combined = pd.concat([deepseek_first, deepseek_second, deepseek_third, deepseek_fourth, deepseek_fifth, deepseek_sixth])\n",
    "deepseek_combined = deepseek_combined.reset_index()\n",
    "deepseek_combined = deepseek_combined.drop(columns=[\"Unnamed: 0\", \"index\"])\n",
    "deepseek_combined.head()"
   ]
  },
  {
   "cell_type": "code",
   "execution_count": 5,
   "metadata": {},
   "outputs": [],
   "source": [
    "deepseek_combined.to_csv(\"deepseek_full.csv\")"
   ]
  },
  {
   "cell_type": "code",
   "execution_count": 4,
   "metadata": {},
   "outputs": [],
   "source": [
    "deepseek = pd.read_csv(\"./deepseek_full.csv\")\n",
    "openai = pd.read_csv(\"./results/gpt-4o/4o_full.csv\")\n",
    "train = preprocess(\"./data/train.jsonl\")"
   ]
  },
  {
   "cell_type": "code",
   "execution_count": 29,
   "metadata": {},
   "outputs": [],
   "source": [
    "train.to_csv(\"train_cleaned.csv\")"
   ]
  },
  {
   "cell_type": "code",
   "execution_count": 16,
   "metadata": {},
   "outputs": [
    {
     "name": "stdout",
     "output_type": "stream",
     "text": [
      "1872080baa7d30ec8fb87be9a65358cd3a7fb649>894be9b4ea46a5c422e81ef3c241072d4c73fdc0_11\n"
     ]
    }
   ],
   "source": [
    "print(deepseek.iloc[0].id)"
   ]
  },
  {
   "cell_type": "code",
   "execution_count": 24,
   "metadata": {},
   "outputs": [],
   "source": [
    "ids = []\n",
    "reasonings = []\n",
    "labels = []\n",
    "for i in range(len(deepseek)):\n",
    "    openai_correct = openai.iloc[i].model_classification == train.iloc[i].label\n",
    "    deepseek_wrong = deepseek.iloc[i].model_classification != train.iloc[i].label\n",
    "    if openai_correct or deepseek_wrong:\n",
    "        ids.append(openai.iloc[i].id)\n",
    "        reasonings.append(openai.iloc[i].reasoning)\n",
    "        labels.append(openai.iloc[i].model_classification)\n",
    "    else:\n",
    "        ids.append(deepseek.iloc[i].id)\n",
    "        reasonings.append(deepseek.iloc[i].reasoning)\n",
    "        labels.append(deepseek.iloc[i].model_classification)"
   ]
  },
  {
   "cell_type": "code",
   "execution_count": 25,
   "metadata": {},
   "outputs": [],
   "source": [
    "df = pd.DataFrame(zip(ids, labels, reasonings), columns=[\"id\", \"model_classification\", \"reasoning\"])\n",
    "df.to_csv(\"deepseek_openai_combined.csv\")"
   ]
  },
  {
   "cell_type": "code",
   "execution_count": 11,
   "metadata": {},
   "outputs": [
    {
     "name": "stdout",
     "output_type": "stream",
     "text": [
      "1789\n",
      "accuracy: 78.16695142787405\n"
     ]
    }
   ],
   "source": [
    "combined = pd.read_csv(\"./results/deepseek-openai/deepseek_openai_combined.csv\");\n",
    "count = 0\n",
    "for i in range(len(combined)):\n",
    "    if combined.iloc[i].model_classification != train.iloc[i].label:\n",
    "        count += 1\n",
    "\n",
    "print(count)\n",
    "print(f\"accuracy: {(len(combined) - count) * 100 / len(combined)}\")"
   ]
  },
  {
   "cell_type": "code",
   "execution_count": 8,
   "metadata": {},
   "outputs": [
    {
     "name": "stdout",
     "output_type": "stream",
     "text": [
      "OpenAI + deepseek - chatgpt + deepseek 4o + r1\n",
      "Size: 0 Billion Parameters\n",
      "Price: $0.0017/M tokens\n",
      "==================================================\n",
      "Model Metrics Report\n",
      "==================================================\n",
      "Accuracy: 0.66\n",
      "==================================================\n",
      "Macro F1: 0.43\n",
      "Micro F1: 0.45\n",
      "==================================================\n",
      "Macro Recall: 0.45\n",
      "Micro Recall: 0.42\n",
      "==================================================\n",
      "Macro Precision: 0.42\n",
      "Micro Precision: 0.48\n",
      "Report: None\n",
      "==================================================\n"
     ]
    },
    {
     "name": "stderr",
     "output_type": "stream",
     "text": [
      "/Users/jasonchung/Downloads/nlp/evaluate.py:145: UserWarning: Ignoring `palette` because no `hue` variable has been assigned.\n",
      "  ax = sns.scatterplot(\n"
     ]
    },
    {
     "ename": "ValueError",
     "evalue": "min() arg is an empty sequence",
     "output_type": "error",
     "traceback": [
      "\u001b[31m---------------------------------------------------------------------------\u001b[39m",
      "\u001b[31mValueError\u001b[39m                                Traceback (most recent call last)",
      "\u001b[36mCell\u001b[39m\u001b[36m \u001b[39m\u001b[32mIn[8]\u001b[39m\u001b[32m, line 5\u001b[39m\n\u001b[32m      1\u001b[39m \u001b[38;5;28;01mfrom\u001b[39;00m\u001b[38;5;250m \u001b[39m\u001b[34;01mevaluate\u001b[39;00m\u001b[38;5;250m \u001b[39m\u001b[38;5;28;01mimport\u001b[39;00m evaluate_models\n\u001b[32m      2\u001b[39m \u001b[38;5;28;01mfrom\u001b[39;00m\u001b[38;5;250m \u001b[39m\u001b[34;01mmodel_card\u001b[39;00m\u001b[38;5;250m \u001b[39m\u001b[38;5;28;01mimport\u001b[39;00m ModelCard\n\u001b[32m----> \u001b[39m\u001b[32m5\u001b[39m \u001b[43mevaluate_models\u001b[49m\u001b[43m(\u001b[49m\u001b[43m[\u001b[49m\u001b[43m \u001b[49m\u001b[43mModelCard\u001b[49m\u001b[43m(\u001b[49m\u001b[33;43m\"\u001b[39;49m\u001b[33;43mchatgpt + deepseek\u001b[39;49m\u001b[33;43m\"\u001b[39;49m\u001b[43m,\u001b[49m\u001b[43m \u001b[49m\u001b[33;43m\"\u001b[39;49m\u001b[33;43m4o + r1\u001b[39;49m\u001b[33;43m\"\u001b[39;49m\u001b[43m,\u001b[49m\u001b[43m \u001b[49m\u001b[33;43m\"\u001b[39;49m\u001b[33;43mopenai + deepseek\u001b[39;49m\u001b[33;43m\"\u001b[39;49m\u001b[43m,\u001b[49m\n\u001b[32m      6\u001b[39m \u001b[43m                  \u001b[49m\u001b[33;43m\"\u001b[39;49m\u001b[33;43mOpenAI + deepseek\u001b[39;49m\u001b[33;43m\"\u001b[39;49m\u001b[43m,\u001b[49m\u001b[43m \u001b[49m\u001b[32;43m0.0017\u001b[39;49m\u001b[43m,\u001b[49m\u001b[43m \u001b[49m\u001b[32;43m0\u001b[39;49m\u001b[43m,\u001b[49m\u001b[43m \u001b[49m\u001b[33;43m\"\u001b[39;49m\u001b[33;43m./results/deepseek-openai/deepseek_openai_combined.csv\u001b[39;49m\u001b[33;43m\"\u001b[39;49m\u001b[43m)\u001b[49m\u001b[43m,\u001b[49m\u001b[43m]\u001b[49m\u001b[43m,\u001b[49m\u001b[33;43m\"\u001b[39;49m\u001b[33;43mbrief\u001b[39;49m\u001b[33;43m\"\u001b[39;49m\u001b[43m)\u001b[49m\n",
      "\u001b[36mFile \u001b[39m\u001b[32m~/Downloads/nlp/evaluate.py:245\u001b[39m, in \u001b[36mevaluate_models\u001b[39m\u001b[34m(models, plot, file_path)\u001b[39m\n\u001b[32m    242\u001b[39m     \u001b[38;5;28mprint\u001b[39m(\u001b[33m\"\u001b[39m\u001b[33m=\u001b[39m\u001b[33m\"\u001b[39m*\u001b[32m50\u001b[39m)\n\u001b[32m    244\u001b[39m \u001b[38;5;66;03m# plot reports\u001b[39;00m\n\u001b[32m--> \u001b[39m\u001b[32m245\u001b[39m \u001b[43mplot_reports\u001b[49m\u001b[43m(\u001b[49m\u001b[43mmodels\u001b[49m\u001b[43m,\u001b[49m\u001b[43m \u001b[49m\u001b[43mplot\u001b[49m\u001b[43m)\u001b[49m\n",
      "\u001b[36mFile \u001b[39m\u001b[32m~/Downloads/nlp/evaluate.py:179\u001b[39m, in \u001b[36mplot_reports\u001b[39m\u001b[34m(models, plot)\u001b[39m\n\u001b[32m    176\u001b[39m plt.ylabel(\u001b[33m'\u001b[39m\u001b[33mMacro F1 Score\u001b[39m\u001b[33m'\u001b[39m, fontsize=\u001b[32m14\u001b[39m)\n\u001b[32m    178\u001b[39m \u001b[38;5;66;03m# use the range of F1 scores to set appropriate y-axis limits\u001b[39;00m\n\u001b[32m--> \u001b[39m\u001b[32m179\u001b[39m y_min = \u001b[38;5;28mmax\u001b[39m(\u001b[32m0\u001b[39m, \u001b[38;5;28;43mmin\u001b[39;49m\u001b[43m(\u001b[49m\u001b[43mmacro_f1\u001b[49m\u001b[43m)\u001b[49m - \u001b[32m0.05\u001b[39m)\n\u001b[32m    180\u001b[39m y_max = \u001b[38;5;28mmin\u001b[39m(\u001b[32m1.0\u001b[39m, \u001b[38;5;28mmax\u001b[39m(macro_f1) + \u001b[32m0.05\u001b[39m)\n\u001b[32m    181\u001b[39m plt.ylim(y_min, y_max)\n",
      "\u001b[31mValueError\u001b[39m: min() arg is an empty sequence"
     ]
    },
    {
     "data": {
      "image/png": "[encoded data removed]",
      "text/plain": [
       "<Figure size 1200x800 with 1 Axes>"
      ]
     },
     "metadata": {},
     "output_type": "display_data"
    }
   ],
   "source": [
    "from evaluate import evaluate_models\n",
    "from model_card import ModelCard\n",
    "\n",
    "\n",
    "evaluate_models([ ModelCard(\"chatgpt + deepseek\", \"4o + r1\", \"openai + deepseek\",\n",
    "                  \"OpenAI + deepseek\", 0.0017, 0, \"./results/deepseek-openai/deepseek_openai_combined.csv\"),],\"brief\")"
   ]
  },
  {
   "cell_type": "code",
   "execution_count": null,
   "metadata": {},
   "outputs": [],
   "source": []
  }
 ],
 "metadata": {
  "kernelspec": {
   "display_name": "Python 3",
   "language": "python",
   "name": "python3"
  },
  "language_info": {
   "codemirror_mode": {
    "name": "ipython",
    "version": 3
   },
   "file_extension": ".py",
   "mimetype": "text/x-python",
   "name": "python",
   "nbconvert_exporter": "python",
   "pygments_lexer": "ipython3",
   "version": "3.11.11"
  }
 },
 "nbformat": 4,
 "nbformat_minor": 2
}
