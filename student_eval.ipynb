{
 "cells": [
  {
   "cell_type": "code",
   "execution_count": 1,
   "metadata": {},
   "outputs": [
    {
     "name": "stderr",
     "output_type": "stream",
     "text": [
      "/Users/ethanyuxin/anaconda3/envs/ai/lib/python3.11/site-packages/tqdm/auto.py:21: TqdmWarning: IProgress not found. Please update jupyter and ipywidgets. See https://ipywidgets.readthedocs.io/en/stable/user_install.html\n",
      "  from .autonotebook import tqdm as notebook_tqdm\n"
     ]
    }
   ],
   "source": [
    "import pandas as pd\n",
    "# Use a pipeline as a high-level helper\n",
    "from datasets import Dataset\n",
    "import torch\n",
    "from transformers import pipeline\n",
    "from transformers import AutoTokenizer, AutoModelForCausalLM\n",
    "import json\n",
    "import os\n"
   ]
  },
  {
   "cell_type": "code",
   "execution_count": 4,
   "metadata": {},
   "outputs": [
    {
     "data": {
      "text/plain": [
       "True"
      ]
     },
     "execution_count": 4,
     "metadata": {},
     "output_type": "execute_result"
    }
   ],
   "source": [
    "from dotenv import load_dotenv\n",
    "load_dotenv()"
   ]
  },
  {
   "cell_type": "code",
   "execution_count": null,
   "metadata": {},
   "outputs": [],
   "source": [
    "hf_token = os.getenv('HUGGINGFACE_API_KEY')\n",
    "model_id = \"meta-llama/Llama-3.2-1B-Instruct\"\n",
    "model_name = model_id.split(\"/\")[-1]\n",
    "\n",
    "tokenizer = AutoTokenizer.from_pretrained(model_id, trust_remote_code=True)\n",
    "model = AutoModelForCausalLM.from_pretrained(\n",
    "    model_id,\n",
    "    device_map=\"auto\",\n",
    "    torch_dtype=torch.float16,\n",
    "    token=hf_token\n",
    ")"
   ]
  },
  {
   "cell_type": "code",
   "execution_count": null,
   "metadata": {},
   "outputs": [
    {
     "name": "stderr",
     "output_type": "stream",
     "text": [
      "Setting `pad_token_id` to `eos_token_id`:None for open-end generation.\n"
     ]
    },
    {
     "data": {
      "text/plain": [
       "[{'generated_text': [{'role': 'user', 'content': 'Who are you?'},\n",
       "   {'role': 'assistant',\n",
       "    'content': 'I\\'m an artificial intelligence model known as Llama. Llama stands for \"Large Language Model Meta AI.\"'}]}]"
      ]
     },
     "execution_count": 8,
     "metadata": {},
     "output_type": "execute_result"
    }
   ],
   "source": [
    "messages = [\n",
    "    {\"role\": \"user\", \"content\": \"Who are you?\"},\n",
    "]\n",
    "# local model in variable model\n",
    "pipe = pipeline(\n",
    "    \"text-generation\",\n",
    "    model=model,\n",
    "    tokenizer=tokenizer,\n",
    "    device_map=\"auto\",\n",
    "    max_new_tokens=2048,\n",
    "    temperature=0.7,\n",
    "    top_p=0.9,\n",
    ")\n",
    "pipe(messages)"
   ]
  },
  {
   "cell_type": "code",
   "execution_count": 72,
   "metadata": {},
   "outputs": [],
   "source": [
    "def call_pipe(pipe, section_name, content):\n",
    "    messages = [{\"role\": \"system\", \"content\": \n",
    "                 \"You are an AI assistant who will assess whether a given text is used as a background, result or method section in a scientific paper.\"\n",
    "                 \"You will be given a section name and the text, and you will need to classify the text as one of [background, result, method].\"\n",
    "                 \"You will also need to provide a reasoning for your classification.\"\n",
    "                 \"The output should strictly be a json with the following two keys: classification, reasoning.\"\n",
    "                #  \"Example output would look like: {\\\"classification\\\": \\\"result\\\", \\\"reasoning\\\": \\\"This is the reasoning\\\"}\"\n",
    "    }, \n",
    "    {\"role\": \"user\", \"content\": f\"section name: {section_name}, text: {content}\"}]\n",
    "    response = pipe(messages)[0]\n",
    "    try:\n",
    "        if response[\"generated_text\"][2][\"content\"]:\n",
    "            print(\"===\" * 20)\n",
    "            print(response[\"generated_text\"][2][\"content\"])\n",
    "            print(\"===\" * 20)\n",
    "            content = response[\"generated_text\"][2][\"content\"]\n",
    "            start = content.find(\"{\")\n",
    "            end = content.rfind(\"}\") + 1\n",
    "            # if model didn't end with a closing brace, add it\n",
    "            if end <= 0:\n",
    "                content += \"\\n}\"\n",
    "                json_str = content[start:]\n",
    "            else:\n",
    "                json_str = content[start:end]\n",
    "            print(json_str)\n",
    "            answers = json.loads(json_str)\n",
    "            classification = answers[\"classification\"]\n",
    "            reasoning = answers[\"reasoning\"]\n",
    "            return classification, reasoning\n",
    "        else:\n",
    "            return \"Invalid\", \"No reasoning provided\"\n",
    "    except Exception as e:\n",
    "        print(e)\n",
    "        return \"Invalid\", \"No reasoning provided\""
   ]
  },
  {
   "cell_type": "code",
   "execution_count": 74,
   "metadata": {},
   "outputs": [
    {
     "name": "stderr",
     "output_type": "stream",
     "text": [
      "Setting `pad_token_id` to `eos_token_id`:None for open-end generation.\n"
     ]
    },
    {
     "name": "stdout",
     "output_type": "stream",
     "text": [
      "============================================================\n",
      "{\n",
      "    \"classification\": \"method\",\n",
      "    \"reasoning\": \"The text is describing an experiment or observation that was conducted to study the interaction between frataxin and the Fe-S cluster biosynthesis components. It mentions specific components (IscS, IscU/Isu1, or ISD11/Isd11) and provides context about how they interact, which is typical of a method section in a scientific paper.\"\n",
      "============================================================\n",
      "{\n",
      "    \"classification\": \"method\",\n",
      "    \"reasoning\": \"The text is describing an experiment or observation that was conducted to study the interaction between frataxin and the Fe-S cluster biosynthesis components. It mentions specific components (IscS, IscU/Isu1, or ISD11/Isd11) and provides context about how they interact, which is typical of a method section in a scientific paper.\"\n",
      "}\n"
     ]
    }
   ],
   "source": [
    "model_classification, model_reasoning = call_pipe(pipe, \"Introduction\", \"However, how frataxin interacts with the Fe-S cluster biosynthesis components remains unclear as direct one-to-one interactions with each component were reported (IscS [12,22], IscU/Isu1 [6,11,16] or ISD11/Isd11 [14,15]).\")"
   ]
  },
  {
   "cell_type": "code",
   "execution_count": 75,
   "metadata": {},
   "outputs": [
    {
     "name": "stdout",
     "output_type": "stream",
     "text": [
      "method\n",
      "The text is describing an experiment or observation that was conducted to study the interaction between frataxin and the Fe-S cluster biosynthesis components. It mentions specific components (IscS, IscU/Isu1, or ISD11/Isd11) and provides context about how they interact, which is typical of a method section in a scientific paper.\n"
     ]
    }
   ],
   "source": [
    "print(f\"{model_classification}\")\n",
    "print(f\"{model_reasoning}\")"
   ]
  },
  {
   "cell_type": "code",
   "execution_count": 76,
   "metadata": {},
   "outputs": [],
   "source": [
    "def preprocess(file_path):\n",
    "    data = pd.read_json(path_or_buf=file_path, lines=True)\n",
    "    ids = set()\n",
    "    rows_to_be_dropped = []\n",
    "    for i in range(len(data)):\n",
    "        row = data.iloc[i]\n",
    "        if row.unique_id in ids:\n",
    "            rows_to_be_dropped.append(i)\n",
    "        else:\n",
    "            ids.add(row.unique_id)\n",
    "    data = data.drop(rows_to_be_dropped)\n",
    "    return data"
   ]
  },
  {
   "cell_type": "code",
   "execution_count": 77,
   "metadata": {},
   "outputs": [],
   "source": [
    "data = preprocess(\"./data/train.jsonl\")"
   ]
  },
  {
   "cell_type": "code",
   "execution_count": 78,
   "metadata": {},
   "outputs": [],
   "source": [
    "first_partition = data[:5] #1365]"
   ]
  },
  {
   "cell_type": "code",
   "execution_count": 79,
   "metadata": {},
   "outputs": [
    {
     "name": "stderr",
     "output_type": "stream",
     "text": [
      "Setting `pad_token_id` to `eos_token_id`:None for open-end generation.\n",
      "Setting `pad_token_id` to `eos_token_id`:None for open-end generation.\n"
     ]
    },
    {
     "name": "stdout",
     "output_type": "stream",
     "text": [
      "============================================================\n",
      "{\n",
      "  \"classification\": \"result\",\n",
      "  \"reasoning\": \"The given text states that direct interactions between frataxin and each component of the Fe-S cluster biosynthesis were reported, implying that the interaction is the result of the study's findings.\"\n",
      "}\n",
      "============================================================\n",
      "{\n",
      "  \"classification\": \"result\",\n",
      "  \"reasoning\": \"The given text states that direct interactions between frataxin and each component of the Fe-S cluster biosynthesis were reported, implying that the interaction is the result of the study's findings.\"\n",
      "}\n"
     ]
    },
    {
     "name": "stderr",
     "output_type": "stream",
     "text": [
      "Setting `pad_token_id` to `eos_token_id`:None for open-end generation.\n"
     ]
    },
    {
     "name": "stdout",
     "output_type": "stream",
     "text": [
      "============================================================\n",
      "{\n",
      "  \"classification\": \"method\",\n",
      "  \"reasoning\": \"This text is describing the experimental procedure or method used to collect data. The words'spikes', 'field', 'physiological','maturity', 'dried', 'grain threshed','stored', 'dormancy', 'germination', and 'testing' indicate that the purpose of the section is to explain how the data was collected, rather than to describe the results or discuss the methodology in a general sense.\"\n",
      "============================================================\n",
      "{\n",
      "  \"classification\": \"method\",\n",
      "  \"reasoning\": \"This text is describing the experimental procedure or method used to collect data. The words'spikes', 'field', 'physiological','maturity', 'dried', 'grain threshed','stored', 'dormancy', 'germination', and 'testing' indicate that the purpose of the section is to explain how the data was collected, rather than to describe the results or discuss the methodology in a general sense.\"\n",
      "}\n"
     ]
    },
    {
     "name": "stderr",
     "output_type": "stream",
     "text": [
      "Setting `pad_token_id` to `eos_token_id`:None for open-end generation.\n"
     ]
    },
    {
     "name": "stdout",
     "output_type": "stream",
     "text": [
      "============================================================\n",
      "{\n",
      "  \"classification\": \"result\",\n",
      "  \"reasoning\": \"The given text describes the effect of the drug on heart rate and blood pressure, which is a direct outcome of its mechanism of action. The text also mentions a comparison with midazolam, which is another drug, indicating that the text is describing a result or outcome of a comparison. The text does not describe a method or process, but rather describes a phenomenon or effect, which is typical of results.\"\n",
      "============================================================\n",
      "{\n",
      "  \"classification\": \"result\",\n",
      "  \"reasoning\": \"The given text describes the effect of the drug on heart rate and blood pressure, which is a direct outcome of its mechanism of action. The text also mentions a comparison with midazolam, which is another drug, indicating that the text is describing a result or outcome of a comparison. The text does not describe a method or process, but rather describes a phenomenon or effect, which is typical of results.\"\n",
      "}\n"
     ]
    },
    {
     "name": "stderr",
     "output_type": "stream",
     "text": [
      "Setting `pad_token_id` to `eos_token_id`:None for open-end generation.\n"
     ]
    },
    {
     "name": "stdout",
     "output_type": "stream",
     "text": [
      "============================================================\n",
      "{\n",
      "  \"classification\": \"method\",\n",
      "  \"reasoning\": \"This text is describing a method (clustering) used in a scientific study, which is a common practice in the field of biology and ecology. The text explains the purpose and outcome of the method, indicating its use in studying the relationship between territorial boundaries and net energy income in female animals.\"\n",
      "}\n",
      "============================================================\n",
      "{\n",
      "  \"classification\": \"method\",\n",
      "  \"reasoning\": \"This text is describing a method (clustering) used in a scientific study, which is a common practice in the field of biology and ecology. The text explains the purpose and outcome of the method, indicating its use in studying the relationship between territorial boundaries and net energy income in female animals.\"\n",
      "}\n",
      "============================================================\n",
      "{\n",
      "  \"classification\": \"result\",\n",
      "  \"reasoning\": \"This section describes the manifestations or outcomes of the intracranial arachnoid cyst, specifically ophthalmic symptoms. It reports on the types of symptoms that can occur, rather than explaining the cause or mechanism of the condition. The focus is on the effects of the condition on the patient, rather than on the underlying biology or the process of experimentation. Therefore, this section is classified as a result section.\"\n",
      "}\n",
      "============================================================\n",
      "{\n",
      "  \"classification\": \"result\",\n",
      "  \"reasoning\": \"This section describes the manifestations or outcomes of the intracranial arachnoid cyst, specifically ophthalmic symptoms. It reports on the types of symptoms that can occur, rather than explaining the cause or mechanism of the condition. The focus is on the effects of the condition on the patient, rather than on the underlying biology or the process of experimentation. Therefore, this section is classified as a result section.\"\n",
      "}\n"
     ]
    }
   ],
   "source": [
    "labels = []\n",
    "reasonings = []\n",
    "raw_output = []\n",
    "ids = []\n",
    "\n",
    "for i in range(len(first_partition)):\n",
    "    current_data = first_partition.iloc[i]\n",
    "    ids.append(current_data.unique_id)\n",
    "    classification, reasoning = call_pipe(pipe, current_data.sectionName, current_data.string)\n",
    "    raw_output.append(classification)\n",
    "    labels.append(classification)\n",
    "    reasonings.append(reasoning)"
   ]
  },
  {
   "cell_type": "code",
   "execution_count": 80,
   "metadata": {},
   "outputs": [],
   "source": [
    "df = pd.DataFrame(zip(ids, labels, reasonings), columns=[\"id\", \"model_classification\", \"reasoning\"])\n",
    "df.to_csv(f\"{model_name}_first_partition.csv\")"
   ]
  }
 ],
 "metadata": {
  "kernelspec": {
   "display_name": "ai",
   "language": "python",
   "name": "python3"
  },
  "language_info": {
   "codemirror_mode": {
    "name": "ipython",
    "version": 3
   },
   "file_extension": ".py",
   "mimetype": "text/x-python",
   "name": "python",
   "nbconvert_exporter": "python",
   "pygments_lexer": "ipython3",
   "version": "3.11.10"
  }
 },
 "nbformat": 4,
 "nbformat_minor": 2
}
