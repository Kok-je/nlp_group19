{
 "cells": [
  {
   "cell_type": "code",
   "execution_count": 6,
   "metadata": {},
   "outputs": [],
   "source": [
    "import pandas as pd\n",
    "# Use a pipeline as a high-level helper\n",
    "from datasets import Dataset\n",
    "import torch\n",
    "from transformers import pipeline\n",
    "from transformers import AutoTokenizer, AutoModelForCausalLM\n",
    "import json\n",
    "import os\n"
   ]
  },
  {
   "cell_type": "code",
   "execution_count": 7,
   "metadata": {},
   "outputs": [
    {
     "data": {
      "text/plain": [
       "True"
      ]
     },
     "execution_count": 7,
     "metadata": {},
     "output_type": "execute_result"
    }
   ],
   "source": [
    "from dotenv import load_dotenv\n",
    "load_dotenv()"
   ]
  },
  {
   "cell_type": "code",
   "execution_count": 8,
   "metadata": {},
   "outputs": [],
   "source": [
    "hf_token = os.getenv('HUGGINGFACE_API_KEY')\n",
    "model_id = \"google/gemma-3-1b-it\"\n",
    "\n",
    "tokenizer = AutoTokenizer.from_pretrained(model_id, trust_remote_code=True)\n",
    "model = AutoModelForCausalLM.from_pretrained(\n",
    "    model_id,\n",
    "    device_map=\"auto\",\n",
    "    torch_dtype=torch.float16,\n",
    "    token=hf_token\n",
    ")"
   ]
  },
  {
   "cell_type": "code",
   "execution_count": 9,
   "metadata": {},
   "outputs": [
    {
     "name": "stderr",
     "output_type": "stream",
     "text": [
      "Device set to use cpu\n"
     ]
    },
    {
     "data": {
      "text/plain": [
       "[{'generated_text': [{'role': 'user', 'content': 'Who are you?'},\n",
       "   {'role': 'assistant',\n",
       "    'content': 'Hi there! I’m Gemma, a large language model created by the Gemma team at Google DeepMind. I’m an open-weights model, which means I’m publicly available for anyone to use! \\n\\nI’m designed to take text and images as input and provide text as output. \\n\\nHow can I help you today?'}]}]"
      ]
     },
     "execution_count": 9,
     "metadata": {},
     "output_type": "execute_result"
    }
   ],
   "source": [
    "messages = [\n",
    "    {\"role\": \"user\", \"content\": \"Who are you?\"},\n",
    "]\n",
    "pipe = pipeline(\"text-generation\", model=\"google/gemma-3-1b-it\", max_new_tokens=2048)\n",
    "pipe(messages)"
   ]
  },
  {
   "cell_type": "code",
   "execution_count": 10,
   "metadata": {},
   "outputs": [],
   "source": [
    "def call_pipe(pipe, section_name, content):\n",
    "    messages = [{\"role\": \"system\", \"content\": \n",
    "                 \"You are an AI assistant who will assess whether a given text is used as a background, result or method section in a scientific paper.\"\n",
    "                 \"You will be given a section name and the text, and you will need to classify the text as one of [background, result, method].\"\n",
    "                 \"You will also need to provide a reasoning for your classification.\"\n",
    "                 \"The output should strictly be a json with the following two keys: classification, reasoning.\"\n",
    "                 \"Example output would look like: {\\\"classification\\\": \\\"result\\\", \\\"reasoning\\\": \\\"This is the reasoning\\\"}\"\n",
    "    }, \n",
    "    {\"role\": \"user\", \"content\": f\"section name: {section_name}, text: {content}\"}]\n",
    "    response = pipe(messages)[0]\n",
    "    try:\n",
    "        if response[\"generated_text\"][2][\"content\"]:\n",
    "            print(response[\"generated_text\"][2][\"content\"])\n",
    "            content = response[\"generated_text\"][2][\"content\"]\n",
    "            start = content.find(\"{\")\n",
    "            end = content.rfind(\"}\") + 1\n",
    "            json_str = content[start:end]\n",
    "            answers = json.loads(json_str)\n",
    "            classification = answers[\"classification\"]\n",
    "            reasoning = answers[\"reasoning\"]\n",
    "            return classification, reasoning\n",
    "        else:\n",
    "            return \"Invalid\", \"No reasoning provided\"\n",
    "    except Exception as e:\n",
    "        print(e)\n",
    "        return \"Invalid\", \"No reasoning provided\""
   ]
  },
  {
   "cell_type": "code",
   "execution_count": 11,
   "metadata": {},
   "outputs": [
    {
     "name": "stdout",
     "output_type": "stream",
     "text": [
      "```json\n",
      "{\"classification\": \"background\", \"reasoning\": \"The text introduces the lack of understanding regarding the interaction between frataxin and the Fe-S cluster biosynthesis components, establishing the need for further investigation and setting the stage for subsequent results.\"}\n",
      "```\n"
     ]
    }
   ],
   "source": [
    "\n",
    "result = call_pipe(pipe, \"Introduction\", \"However, how frataxin interacts with the Fe-S cluster biosynthesis components remains unclear as direct one-to-one interactions with each component were reported (IscS [12,22], IscU/Isu1 [6,11,16] or ISD11/Isd11 [14,15]).\")"
   ]
  },
  {
   "cell_type": "code",
   "execution_count": 12,
   "metadata": {},
   "outputs": [
    {
     "name": "stdout",
     "output_type": "stream",
     "text": [
      "('background', 'The text introduces the lack of understanding regarding the interaction between frataxin and the Fe-S cluster biosynthesis components, establishing the need for further investigation and setting the stage for subsequent results.')\n"
     ]
    }
   ],
   "source": [
    "print(result)"
   ]
  },
  {
   "cell_type": "code",
   "execution_count": null,
   "metadata": {},
   "outputs": [],
   "source": [
    "\n",
    "# def preprocess(file_path):\n",
    "#     data = pd.read_json(path_or_buf=file_path, lines=True)\n",
    "#     ids = set()\n",
    "#     rows_to_be_dropped = []\n",
    "#     for i in range(len(data)):\n",
    "#         row = data.iloc[i]\n",
    "#         if row.unique_id in ids:\n",
    "#             rows_to_be_dropped.append(i)\n",
    "#         else:\n",
    "#             ids.add(row.unique_id)\n",
    "#     data = data.drop(rows_to_be_dropped)\n",
    "#     return data"
   ]
  },
  {
   "cell_type": "code",
   "execution_count": null,
   "metadata": {},
   "outputs": [],
   "source": [
    "# data = preprocess(\"./data/train.jsonl\")"
   ]
  },
  {
   "cell_type": "code",
   "execution_count": null,
   "metadata": {},
   "outputs": [],
   "source": [
    "# labels = []\n",
    "# reasonings = []\n",
    "# raw_output = []\n",
    "# ids = []\n",
    "\n",
    "# for i in range(len(data)):\n",
    "#     current_data = data.iloc[i]\n",
    "#     ids.append(current_data.unique_id)\n",
    "#     classification, reasoning = call_pipe(pipe, current_data.sectionName, current_data.string)\n",
    "#     raw_output.append(classification)\n",
    "#     labels.append(classification)\n",
    "#     reasonings.append(reasoning)"
   ]
  },
  {
   "cell_type": "code",
   "execution_count": null,
   "metadata": {},
   "outputs": [],
   "source": [
    "# df = pd.DataFrame(zip(ids, labels, reasonings), columns=[\"id\", \"model_classification\", \"reasoning\"])\n",
    "# df.to_csv(\"llama-1b.csv\")"
   ]
  }
 ],
 "metadata": {
  "kernelspec": {
   "display_name": "Python 3",
   "language": "python",
   "name": "python3"
  },
  "language_info": {
   "codemirror_mode": {
    "name": "ipython",
    "version": 3
   },
   "file_extension": ".py",
   "mimetype": "text/x-python",
   "name": "python",
   "nbconvert_exporter": "python",
   "pygments_lexer": "ipython3",
   "version": "3.11.0"
  }
 },
 "nbformat": 4,
 "nbformat_minor": 2
}
