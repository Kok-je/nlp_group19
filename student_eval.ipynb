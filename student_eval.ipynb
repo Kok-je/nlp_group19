{
 "cells": [
  {
   "cell_type": "code",
   "metadata": {
    "ExecuteTime": {
     "end_time": "2025-04-04T07:34:03.361602Z",
     "start_time": "2025-04-04T07:34:03.358905Z"
    }
   },
   "source": [
    "import pandas as pd\n",
    "# Use a pipeline as a high-level helper\n",
    "from transformers import pipeline\n",
    "from transformers import AutoTokenizer, AutoModelForCausalLM\n",
    "import json\n",
    "from tqdm import tqdm\n"
   ],
   "outputs": [],
   "execution_count": 13
  },
  {
   "cell_type": "code",
   "execution_count": null,
   "metadata": {},
   "outputs": [],
   "source": [
    "tokenizer = AutoTokenizer.from_pretrained(\"meta-llama/Llama-3.2-1B\")\n",
    "model = AutoModelForCausalLM.from_pretrained(\"meta-llama/Llama-3.2-1B\")"
   ]
  },
  {
   "cell_type": "code",
   "execution_count": 51,
   "metadata": {},
   "outputs": [
    {
     "name": "stderr",
     "output_type": "stream",
     "text": [
      "Device set to use mps:0\n",
      "Setting `pad_token_id` to `eos_token_id`:128001 for open-end generation.\n"
     ]
    },
    {
     "data": {
      "text/plain": [
       "[{'generated_text': [{'role': 'user', 'content': 'Who are you?'},\n",
       "   {'role': 'assistant',\n",
       "    'content': 'I\\'m an artificial intelligence model known as Llama. Llama stands for \"Large Language Model Meta AI.\"'}]}]"
      ]
     },
     "execution_count": 51,
     "metadata": {},
     "output_type": "execute_result"
    }
   ],
   "source": [
    "messages = [\n",
    "    {\"role\": \"user\", \"content\": \"Who are you?\"},\n",
    "]\n",
    "pipe = pipeline(\"text-generation\", model=\"meta-llama/Llama-3.2-1B-Instruct\", max_new_tokens=2048)\n",
    "pipe(messages)"
   ]
  },
  {
   "cell_type": "code",
   "metadata": {
    "ExecuteTime": {
     "end_time": "2025-04-04T07:31:57.308369Z",
     "start_time": "2025-04-04T07:31:57.304640Z"
    }
   },
   "source": [
    "def call_pipe(pipe, section_name, content):\n",
    "    messages = [{\"role\": \"system\", \"content\": \n",
    "                 \"You are an AI assistant who will assess whether a given text is used as a background, result or method section in a scientific paper.\"\n",
    "                 \"You will be given a section name and the text, and you will need to classify the text as one of [background, result, method].\"\n",
    "                 \"You will also need to provide a reasoning for your classification.\"\n",
    "                 \"The output should strictly be a json with the following two keys: classification, reasoning.\"\n",
    "                 \"Example output would look like: {\\\"classification\\\": \\\"result\\\", \\\"reasoning\\\": \\\"This is the reasoning\\\"}\"\n",
    "    }, \n",
    "    {\"role\": \"user\", \"content\": f\"section name: {section_name}, text: {content}\"}]\n",
    "    response = pipe(messages)[0]\n",
    "    try:\n",
    "        if response[\"generated_text\"][2][\"content\"]:\n",
    "            #print(response[\"generated_text\"][2][\"content\"])\n",
    "            content = response[\"generated_text\"][2][\"content\"]\n",
    "            start = content.find(\"{\")\n",
    "            end = content.rfind(\"}\") + 1\n",
    "            json_str = content[start:end]\n",
    "            answers = json.loads(json_str)\n",
    "            classification = answers[\"classification\"]\n",
    "            reasoning = answers[\"reasoning\"]\n",
    "            return classification, reasoning\n",
    "        else:\n",
    "            return \"Invalid\", \"No reasoning provided\"\n",
    "    except Exception as e:\n",
    "        print(e)\n",
    "        return \"Invalid\", \"No reasoning provided\""
   ],
   "outputs": [],
   "execution_count": 8
  },
  {
   "cell_type": "code",
   "execution_count": 55,
   "metadata": {},
   "outputs": [
    {
     "name": "stderr",
     "output_type": "stream",
     "text": [
      "Setting `pad_token_id` to `eos_token_id`:128001 for open-end generation.\n"
     ]
    },
    {
     "name": "stdout",
     "output_type": "stream",
     "text": [
      "{\"classification\": \"result\", \"reasoning\": \"This is the reasoning. The given text mentions specific components (IscS, IscU/Isu1, ISD11/Isd11) that are known to interact with the Fe-S cluster biosynthesis, but does not provide a direct description of how frataxin interacts with these components. The text suggests that the interaction is complex and may involve multiple components, but does not provide any specific details about the mechanism or outcome of this interaction.\"}\n"
     ]
    }
   ],
   "source": [
    "\n",
    "result = call_pipe(pipe, \"Introduction\", \"However, how frataxin interacts with the Fe-S cluster biosynthesis components remains unclear as direct one-to-one interactions with each component were reported (IscS [12,22], IscU/Isu1 [6,11,16] or ISD11/Isd11 [14,15]).\")"
   ]
  },
  {
   "cell_type": "code",
   "metadata": {
    "ExecuteTime": {
     "end_time": "2025-04-04T07:31:43.322980Z",
     "start_time": "2025-04-04T07:31:43.318230Z"
    }
   },
   "source": [
    "print(result)"
   ],
   "outputs": [
    {
     "name": "stdout",
     "output_type": "stream",
     "text": [
      "('background', 'The text establishes the initial gap in knowledge regarding the interaction between frataxin and the Fe-S cluster biosynthesis components, setting the stage for subsequent research.')\n"
     ]
    }
   ],
   "execution_count": 5
  },
  {
   "cell_type": "code",
   "metadata": {
    "ExecuteTime": {
     "end_time": "2025-04-04T07:31:46.349356Z",
     "start_time": "2025-04-04T07:31:46.346094Z"
    }
   },
   "source": [
    "\n",
    "def preprocess(file_path):\n",
    "    data = pd.read_json(path_or_buf=file_path, lines=True)\n",
    "    ids = set()\n",
    "    rows_to_be_dropped = []\n",
    "    for i in range(len(data)):\n",
    "        row = data.iloc[i]\n",
    "        if row.unique_id in ids:\n",
    "            rows_to_be_dropped.append(i)\n",
    "        else:\n",
    "            ids.add(row.unique_id)\n",
    "    data = data.drop(rows_to_be_dropped)\n",
    "    return data"
   ],
   "outputs": [],
   "execution_count": 6
  },
  {
   "cell_type": "code",
   "metadata": {
    "ExecuteTime": {
     "end_time": "2025-04-04T07:31:48.185824Z",
     "start_time": "2025-04-04T07:31:47.969161Z"
    }
   },
   "source": [
    "data = preprocess(\"./data/train.jsonl\")"
   ],
   "outputs": [],
   "execution_count": 7
  },
  {
   "metadata": {
    "ExecuteTime": {
     "end_time": "2025-04-04T07:41:57.894487Z",
     "start_time": "2025-04-04T07:41:57.886748Z"
    }
   },
   "cell_type": "code",
   "source": [
    "first_partition = data[:1365]\n",
    "second_partition = data[1365:2730]\n",
    "third_partition = data[2730:4095]\n",
    "fourth_partition = data[4095:5460]\n",
    "fifth_partition = data[5460:6825]\n",
    "sixth_partition = data[6825:]"
   ],
   "outputs": [],
   "execution_count": 15
  },
  {
   "cell_type": "code",
   "metadata": {
    "jupyter": {
     "is_executing": true
    },
    "ExecuteTime": {
     "start_time": "2025-04-04T07:43:06.916576Z"
    }
   },
   "source": [
    "labels = []\n",
    "reasonings = []\n",
    "raw_output = []\n",
    "ids = []\n",
    "\n",
    "for i in tqdm(range(1365)):\n",
    "    current_data = data.iloc[i]\n",
    "    ids.append(current_data.unique_id)\n",
    "    classification, reasoning = call_pipe(pipe, current_data.sectionName, current_data.string)\n",
    "    raw_output.append(classification)\n",
    "    labels.append(classification)\n",
    "    reasonings.append(reasoning)"
   ],
   "outputs": [
    {
     "name": "stderr",
     "output_type": "stream",
     "text": [
      "  0%|          | 3/1365 [00:13<1:41:58,  4.49s/it]"
     ]
    }
   ],
   "execution_count": null
  },
  {
   "cell_type": "code",
   "execution_count": null,
   "metadata": {},
   "outputs": [],
   "source": [
    "df = pd.DataFrame(zip(ids, labels, reasonings), columns=[\"id\", \"model_classification\", \"reasoning\"])\n",
    "df.to_csv(\"results/Gemma/Gemma-1b/first-partition.csv\")"
   ]
  }
 ],
 "metadata": {
  "kernelspec": {
   "display_name": "Python 3",
   "language": "python",
   "name": "python3"
  },
  "language_info": {
   "codemirror_mode": {
    "name": "ipython",
    "version": 3
   },
   "file_extension": ".py",
   "mimetype": "text/x-python",
   "name": "python",
   "nbconvert_exporter": "python",
   "pygments_lexer": "ipython3",
   "version": "3.11.11"
  }
 },
 "nbformat": 4,
 "nbformat_minor": 2
}
