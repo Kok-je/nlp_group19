{
 "cells": [
  {
   "cell_type": "code",
   "execution_count": 1,
   "metadata": {},
   "outputs": [
    {
     "name": "stderr",
     "output_type": "stream",
     "text": [
      "/Users/ethanyuxin/anaconda3/envs/ai/lib/python3.11/site-packages/tqdm/auto.py:21: TqdmWarning: IProgress not found. Please update jupyter and ipywidgets. See https://ipywidgets.readthedocs.io/en/stable/user_install.html\n",
      "  from .autonotebook import tqdm as notebook_tqdm\n"
     ]
    }
   ],
   "source": [
    "import pandas as pd\n",
    "# Use a pipeline as a high-level helper\n",
    "from datasets import Dataset\n",
    "import torch\n",
    "from transformers import pipeline\n",
    "from transformers import AutoTokenizer, AutoModelForCausalLM\n",
    "import json\n",
    "import os\n"
   ]
  },
  {
   "cell_type": "code",
   "execution_count": 4,
   "metadata": {},
   "outputs": [
    {
     "data": {
      "text/plain": [
       "True"
      ]
     },
     "execution_count": 4,
     "metadata": {},
     "output_type": "execute_result"
    }
   ],
   "source": [
    "from dotenv import load_dotenv\n",
    "load_dotenv()"
   ]
  },
  {
   "cell_type": "code",
   "execution_count": 5,
   "metadata": {},
   "outputs": [],
   "source": [
    "hf_token = os.getenv('HUGGINGFACE_API_KEY')\n",
    "model_id = \"meta-llama/Llama-3.2-1B-Instruct\"\n",
    "\n",
    "tokenizer = AutoTokenizer.from_pretrained(model_id, trust_remote_code=True)\n",
    "model = AutoModelForCausalLM.from_pretrained(\n",
    "    model_id,\n",
    "    device_map=\"auto\",\n",
    "    torch_dtype=torch.float16,\n",
    "    token=hf_token\n",
    ")"
   ]
  },
  {
   "cell_type": "code",
   "execution_count": 8,
   "metadata": {},
   "outputs": [
    {
     "name": "stderr",
     "output_type": "stream",
     "text": [
      "Setting `pad_token_id` to `eos_token_id`:None for open-end generation.\n"
     ]
    },
    {
     "data": {
      "text/plain": [
       "[{'generated_text': [{'role': 'user', 'content': 'Who are you?'},\n",
       "   {'role': 'assistant',\n",
       "    'content': 'I\\'m an artificial intelligence model known as Llama. Llama stands for \"Large Language Model Meta AI.\"'}]}]"
      ]
     },
     "execution_count": 8,
     "metadata": {},
     "output_type": "execute_result"
    }
   ],
   "source": [
    "messages = [\n",
    "    {\"role\": \"user\", \"content\": \"Who are you?\"},\n",
    "]\n",
    "# local model in variable model\n",
    "pipe = pipeline(\n",
    "    \"text-generation\",\n",
    "    model=model,\n",
    "    tokenizer=tokenizer,\n",
    "    device_map=\"auto\",\n",
    "    max_new_tokens=2048,\n",
    "    temperature=0.7,\n",
    "    top_p=0.9,\n",
    ")\n",
    "pipe(messages)"
   ]
  },
  {
   "cell_type": "code",
   "execution_count": 15,
   "metadata": {},
   "outputs": [],
   "source": [
    "def call_pipe(pipe, section_name, content):\n",
    "    messages = [{\"role\": \"system\", \"content\": \n",
    "                 \"You are an AI assistant who will assess whether a given text is used as a background, result or method section in a scientific paper.\"\n",
    "                 \"You will be given a section name and the text, and you will need to classify the text as one of [background, result, method].\"\n",
    "                 \"You will also need to provide a reasoning for your classification.\"\n",
    "                 \"The output should strictly be a json with the following two keys: classification, reasoning.\"\n",
    "                #  \"Example output would look like: {\\\"classification\\\": \\\"result\\\", \\\"reasoning\\\": \\\"This is the reasoning\\\"}\"\n",
    "    }, \n",
    "    {\"role\": \"user\", \"content\": f\"section name: {section_name}, text: {content}\"}]\n",
    "    response = pipe(messages)[0]\n",
    "    try:\n",
    "        if response[\"generated_text\"][2][\"content\"]:\n",
    "            print(response[\"generated_text\"][2][\"content\"])\n",
    "            content = response[\"generated_text\"][2][\"content\"]\n",
    "            start = content.find(\"{\")\n",
    "            end = content.rfind(\"}\") + 1\n",
    "            json_str = content[start:end]\n",
    "            answers = json.loads(json_str)\n",
    "            classification = answers[\"classification\"]\n",
    "            reasoning = answers[\"reasoning\"]\n",
    "            return classification, reasoning\n",
    "        else:\n",
    "            return \"Invalid\", \"No reasoning provided\"\n",
    "    except Exception as e:\n",
    "        print(e)\n",
    "        return \"Invalid\", \"No reasoning provided\""
   ]
  },
  {
   "cell_type": "code",
   "execution_count": 16,
   "metadata": {},
   "outputs": [
    {
     "name": "stderr",
     "output_type": "stream",
     "text": [
      "Setting `pad_token_id` to `eos_token_id`:None for open-end generation.\n"
     ]
    },
    {
     "name": "stdout",
     "output_type": "stream",
     "text": [
      "{\n",
      "  \"classification\": \"method\",\n",
      "  \"reasoning\": \"This section is describing a method or experimental approach used to investigate the interaction between frataxin and the Fe-S cluster biosynthesis components, but it does not report the results of that investigation. It appears to be a background section that provides context and context about the method used to study the interaction.\"\n",
      "}\n"
     ]
    }
   ],
   "source": [
    "model_classification, model_reasoning = call_pipe(pipe, \"Introduction\", \"However, how frataxin interacts with the Fe-S cluster biosynthesis components remains unclear as direct one-to-one interactions with each component were reported (IscS [12,22], IscU/Isu1 [6,11,16] or ISD11/Isd11 [14,15]).\")"
   ]
  },
  {
   "cell_type": "code",
   "execution_count": 17,
   "metadata": {},
   "outputs": [
    {
     "name": "stdout",
     "output_type": "stream",
     "text": [
      "method\n",
      "This section is describing a method or experimental approach used to investigate the interaction between frataxin and the Fe-S cluster biosynthesis components, but it does not report the results of that investigation. It appears to be a background section that provides context and context about the method used to study the interaction.\n"
     ]
    }
   ],
   "source": [
    "print(f\"{model_classification}\")\n",
    "print(f\"{model_reasoning}\")"
   ]
  },
  {
   "cell_type": "code",
   "execution_count": null,
   "metadata": {},
   "outputs": [],
   "source": [
    "\n",
    "# def preprocess(file_path):\n",
    "#     data = pd.read_json(path_or_buf=file_path, lines=True)\n",
    "#     ids = set()\n",
    "#     rows_to_be_dropped = []\n",
    "#     for i in range(len(data)):\n",
    "#         row = data.iloc[i]\n",
    "#         if row.unique_id in ids:\n",
    "#             rows_to_be_dropped.append(i)\n",
    "#         else:\n",
    "#             ids.add(row.unique_id)\n",
    "#     data = data.drop(rows_to_be_dropped)\n",
    "#     return data"
   ]
  },
  {
   "cell_type": "code",
   "execution_count": null,
   "metadata": {},
   "outputs": [],
   "source": [
    "# data = preprocess(\"./data/train.jsonl\")"
   ]
  },
  {
   "cell_type": "code",
   "execution_count": null,
   "metadata": {},
   "outputs": [],
   "source": [
    "# labels = []\n",
    "# reasonings = []\n",
    "# raw_output = []\n",
    "# ids = []\n",
    "\n",
    "# for i in range(len(data)):\n",
    "#     current_data = data.iloc[i]\n",
    "#     ids.append(current_data.unique_id)\n",
    "#     classification, reasoning = call_pipe(pipe, current_data.sectionName, current_data.string)\n",
    "#     raw_output.append(classification)\n",
    "#     labels.append(classification)\n",
    "#     reasonings.append(reasoning)"
   ]
  },
  {
   "cell_type": "code",
   "execution_count": null,
   "metadata": {},
   "outputs": [],
   "source": [
    "# df = pd.DataFrame(zip(ids, labels, reasonings), columns=[\"id\", \"model_classification\", \"reasoning\"])\n",
    "# df.to_csv(\"llama-1b.csv\")"
   ]
  }
 ],
 "metadata": {
  "kernelspec": {
   "display_name": "ai",
   "language": "python",
   "name": "python3"
  },
  "language_info": {
   "codemirror_mode": {
    "name": "ipython",
    "version": 3
   },
   "file_extension": ".py",
   "mimetype": "text/x-python",
   "name": "python",
   "nbconvert_exporter": "python",
   "pygments_lexer": "ipython3",
   "version": "3.11.10"
  }
 },
 "nbformat": 4,
 "nbformat_minor": 2
}
